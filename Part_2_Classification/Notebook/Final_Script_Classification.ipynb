{
 "cells": [
  {
   "cell_type": "code",
   "execution_count": 72,
   "metadata": {
    "collapsed": true
   },
   "outputs": [],
   "source": [
    "import matplotlib.pyplot as plt\n",
    "import numpy as np\n",
    "import pandas as pd\n",
    "import seaborn as sns\n",
    "from datetime import datetime\n",
    "\n",
    "import requests\n",
    "import os\n",
    "from bs4 import BeautifulSoup\n",
    "from urllib.request import urlopen\n",
    "from zipfile import ZipFile\n",
    "from io import BytesIO\n"
   ]
  },
  {
   "cell_type": "code",
   "execution_count": 90,
   "metadata": {
    "collapsed": true
   },
   "outputs": [],
   "source": [
    "def load_file(file, cnt):\n",
    "    count=int(cnt)\n",
    "    df=pd.read_csv(file, sep=\"|\", names=['loan_seq_nbr',\n",
    "                                            'mnth_rep_dt',\n",
    "                                                                        'curr_upb',\n",
    "                                                                        'loan_delq_stat',\n",
    "                                                                        'loan_age',\n",
    "                                                                        'rem_month',\n",
    "                                                                        'repurch_flg',\n",
    "                                                                        'modn_flg',\n",
    "                                                                        'zero_bal_cd',\n",
    "                                                                        'zero_bal_efftv_dt',\n",
    "                                                                        'curr_int_rate',\n",
    "                                                                        'curr_deff_upb',\n",
    "                                                                        'due_dt_lpi',\n",
    "                                                                        'mi_recv',\n",
    "                                                                        'net_sales',\n",
    "                                                                        'non_mi_recv',\n",
    "                                                                        'expens',\n",
    "                                                                        'legal_cost',\n",
    "                                                                        'preserv_cost',\n",
    "                                                                        'taxes',\n",
    "                                                                        'misc_expens',\n",
    "                                                                        'actual_loss',\n",
    "                                                                        'modn_cost',\n",
    "                                                                        'stp_modn_flg',\n",
    "                                                                        'def_pay_modn',\n",
    "                                                                        'est_loan_to_val'], nrows=count)\n",
    "    return df\n",
    "    "
   ]
  },
  {
   "cell_type": "code",
   "execution_count": 3,
   "metadata": {
    "collapsed": true
   },
   "outputs": [],
   "source": [
    "def frame_transform(frame):\n",
    "    frame['loan_delq_stat'] = [ 0 if x=='XX' else x for x in (frame['loan_delq_stat'].apply(lambda x: x))]\n",
    "    frame['loan_delq_stat'] = [ 999 if x=='R' else x for x in (frame['loan_delq_stat'].apply(lambda x: x))]\n",
    "    frame['modn_flg'] = [ 0 if x=='N' else 1 for x in (frame['modn_flg'].apply(lambda x: x))]\n",
    "    frame[['net_sales']] = [ 0 if x=='U' else x for x in (frame['net_sales'].apply(lambda x: x))]\n",
    "    frame[['net_sales']] = [ 999 if x=='C' else x for x in (frame['net_sales'].apply(lambda x: x))]\n",
    "    frame[['def_pay_modn']] = [ 'Z' if x==' ' else x for x in (frame['def_pay_modn'].apply(lambda x: x))]\n",
    "    # frame[['net_sales']] = [ frame['curr_deff_upb'] if x=='C' else x for x in (frame['net_sales'].apply(lambda x: x)]\n",
    "    # frame[['net_sales']] = [ frame['curr_deff_upb'] if x=='C' else x for x in (frame['net_sales'].apply(lambda x: x)) ]\n",
    "    return frame\n",
    "                                      "
   ]
  },
  {
   "cell_type": "code",
   "execution_count": 4,
   "metadata": {
    "collapsed": true
   },
   "outputs": [],
   "source": [
    "def handle_missing(frame):\n",
    "    frame['loan_delq_stat']=frame['loan_delq_stat'].fillna(0)\n",
    "    frame['repurch_flg']=frame['repurch_flg'].fillna('Z')\n",
    "    frame['modn_flg']=frame['modn_flg'].fillna('N')\n",
    "    frame['stp_modn_flg']=frame['stp_modn_flg'].fillna('Z')\n",
    "    frame['zero_bal_cd']=frame['zero_bal_cd'].fillna(0)\n",
    "    frame['curr_deff_upb']=frame['curr_deff_upb'].fillna(0)\n",
    "    frame['mi_recv']=frame['mi_recv'].fillna(0)\n",
    "    frame['net_sales']=frame['net_sales'].fillna(0)\n",
    "    frame['non_mi_recv']=frame['non_mi_recv'].fillna(0)\n",
    "    frame['expens']=frame['expens'].fillna(0)\n",
    "    frame['legal_cost']=frame['legal_cost'].fillna(0)\n",
    "    frame['preserv_cost']=frame['preserv_cost'].fillna(0)\n",
    "    frame['misc_expens']=frame['misc_expens'].fillna(0)\n",
    "    frame['actual_loss']=frame['actual_loss'].fillna(0)\n",
    "    frame['modn_cost']=frame['modn_cost'].fillna(0)\n",
    "    # df['zero_bal_efftv_dt']=df['zero_bal_efftv_dt'].fillna(0)\n",
    "    # df['due_dt_lpi']=df['due_dt_lpi'].fillna(0)\n",
    "    # df['taxes']=df['taxes'].fillna(0)\n",
    "    # df['est_loan_to_val']=df['est_loan_to_val'].fillna(0)\n",
    "    return frame"
   ]
  },
  {
   "cell_type": "code",
   "execution_count": 5,
   "metadata": {
    "collapsed": true
   },
   "outputs": [],
   "source": [
    "def handle_dtypes(frame):\n",
    "    frame[['loan_seq_nbr','repurch_flg','modn_flg','stp_modn_flg','def_pay_modn']] = frame[['loan_seq_nbr','repurch_flg','modn_flg','stp_modn_flg','def_pay_modn']].astype(str)\n",
    "    frame[['curr_upb','curr_int_rate','mi_recv','non_mi_recv','expens','legal_cost','preserv_cost','taxes','misc_expens','actual_loss','modn_cost','est_loan_to_val']] = frame[['curr_upb','curr_int_rate','mi_recv','non_mi_recv','expens','legal_cost','preserv_cost','taxes','misc_expens','actual_loss','modn_cost','est_loan_to_val']].astype(float)\n",
    "    frame[['loan_age','rem_month','zero_bal_cd','curr_deff_upb','loan_delq_stat']] = frame[['loan_age','rem_month','zero_bal_cd','curr_deff_upb','loan_delq_stat']].astype(int)\n",
    "    return frame"
   ]
  },
  {
   "cell_type": "code",
   "execution_count": 6,
   "metadata": {
    "collapsed": true
   },
   "outputs": [],
   "source": [
    "def feature_engg(frame):\n",
    "    frame['delinquency'] = (frame.loan_delq_stat > 0).astype(int)\n",
    "    frame = frame.drop('loan_delq_stat', axis = 1)\n",
    "    return frame"
   ]
  },
  {
   "cell_type": "code",
   "execution_count": 7,
   "metadata": {
    "collapsed": true
   },
   "outputs": [],
   "source": [
    "def feature_encode(frame):\n",
    "    \n",
    "    from sklearn.preprocessing import LabelEncoder, OneHotEncoder\n",
    "    le = LabelEncoder()\n",
    "\n",
    "    frame['repurch_flg'] = le.fit_transform(frame['repurch_flg'])\n",
    "    frame['stp_modn_flg'] = le.fit_transform(frame['stp_modn_flg'])\n",
    "    frame['def_pay_modn'] = le.fit_transform(frame['def_pay_modn'])\n",
    "\n",
    "    onehotencoder = OneHotEncoder()\n",
    "\n",
    "    frame_repurch_flg = onehotencoder.fit_transform(frame.repurch_flg.values.reshape(-1,1)).toarray()\n",
    "    frame_stp_modn_flg=onehotencoder.fit_transform(frame.stp_modn_flg.values.reshape(-1,1)).toarray()\n",
    "    frame_def_pay_modn=onehotencoder.fit_transform(frame.def_pay_modn.values.reshape(-1,1)).toarray()\n",
    "\n",
    "    repurch_flg_onehot = pd.DataFrame(frame_repurch_flg, columns = [\"repurch_flg_\"+str(int(i)) for i in range(frame_repurch_flg.shape[1])])\n",
    "    frame = pd.concat([frame, repurch_flg_onehot], axis=1)\n",
    "\n",
    "    stp_modn_flg_onehot = pd.DataFrame(frame_stp_modn_flg, columns = [\"stp_modn_flg_\"+str(int(i)) for i in range(frame_stp_modn_flg.shape[1])])\n",
    "    frame = pd.concat([frame, stp_modn_flg_onehot], axis=1)\n",
    "\n",
    "    def_pay_modn_onehot = pd.DataFrame(frame_def_pay_modn, columns = [\"def_pay_modn\"+str(int(i)) for i in range(frame_def_pay_modn.shape[1])])\n",
    "    frame = pd.concat([frame, def_pay_modn_onehot], axis=1)\n",
    "\n",
    "    frame.drop(['repurch_flg', 'stp_modn_flg','def_pay_modn'], axis=1)\n",
    "    return frame\n",
    "    "
   ]
  },
  {
   "cell_type": "code",
   "execution_count": 8,
   "metadata": {
    "collapsed": true
   },
   "outputs": [],
   "source": [
    "def feature_encode_feature_select(frame):\n",
    "    \n",
    "    from sklearn.preprocessing import LabelEncoder, OneHotEncoder\n",
    "    le = LabelEncoder()\n",
    "\n",
    "    #frame['repurch_flg'] = le.fit_transform(frame['repurch_flg'])\n",
    "    frame['stp_modn_flg'] = le.fit_transform(frame['stp_modn_flg'])\n",
    "    frame['def_pay_modn'] = le.fit_transform(frame['def_pay_modn'])\n",
    "\n",
    "    onehotencoder = OneHotEncoder()\n",
    "\n",
    "    #frame_repurch_flg = onehotencoder.fit_transform(frame.repurch_flg.values.reshape(-1,1)).toarray()\n",
    "    frame_stp_modn_flg=onehotencoder.fit_transform(frame.stp_modn_flg.values.reshape(-1,1)).toarray()\n",
    "    frame_def_pay_modn=onehotencoder.fit_transform(frame.def_pay_modn.values.reshape(-1,1)).toarray()\n",
    "\n",
    "    #repurch_flg_onehot = pd.DataFrame(frame_repurch_flg, columns = [\"repurch_flg_\"+str(int(i)) for i in range(frame_repurch_flg.shape[1])])\n",
    "    #frame = pd.concat([frame, repurch_flg_onehot], axis=1)\n",
    "\n",
    "    stp_modn_flg_onehot = pd.DataFrame(frame_stp_modn_flg, columns = [\"stp_modn_flg_\"+str(int(i)) for i in range(frame_stp_modn_flg.shape[1])])\n",
    "    frame = pd.concat([frame, stp_modn_flg_onehot], axis=1)\n",
    "\n",
    "    def_pay_modn_onehot = pd.DataFrame(frame_def_pay_modn, columns = [\"def_pay_modn\"+str(int(i)) for i in range(frame_def_pay_modn.shape[1])])\n",
    "    frame = pd.concat([frame, def_pay_modn_onehot], axis=1)\n",
    "\n",
    "    frame.drop(['stp_modn_flg','def_pay_modn'], axis=1)\n",
    "    return frame\n",
    "    "
   ]
  },
  {
   "cell_type": "code",
   "execution_count": 9,
   "metadata": {
    "collapsed": true
   },
   "outputs": [],
   "source": [
    "def scale_minmax(X):\n",
    "    \n",
    "    from sklearn.preprocessing import MinMaxScaler\n",
    "\n",
    "    mm_scale_X = MinMaxScaler()\n",
    "\n",
    "    X = mm_scale_X.fit_transform(X)\n",
    "\n",
    "    return X"
   ]
  },
  {
   "cell_type": "code",
   "execution_count": 10,
   "metadata": {
    "collapsed": true
   },
   "outputs": [],
   "source": [
    "def create_X(frame):\n",
    "    frame=frame.drop(['loan_seq_nbr','delinquency'], axis=1)\n",
    "    \n",
    "    # Removing these columns temporarily\n",
    "    frame = frame.drop('zero_bal_efftv_dt', axis = 1)\n",
    "    frame = frame.drop('due_dt_lpi', axis = 1)\n",
    "    frame = frame.drop('taxes', axis = 1)\n",
    "    frame = frame.drop('est_loan_to_val', axis = 1)\n",
    "    \n",
    "    return frame"
   ]
  },
  {
   "cell_type": "code",
   "execution_count": 13,
   "metadata": {
    "collapsed": true
   },
   "outputs": [],
   "source": [
    "def create_X_feature_select(frame,columns):\n",
    "    frame=frame.drop(['loan_seq_nbr','delinquency'], axis=1)\n",
    "    \n",
    "    # Removing these columns temporarily\n",
    "    frame = frame.drop('zero_bal_efftv_dt', axis = 1)\n",
    "    frame = frame.drop('due_dt_lpi', axis = 1)\n",
    "    frame = frame.drop('taxes', axis = 1)\n",
    "    frame = frame.drop('est_loan_to_val', axis = 1)\n",
    "    \n",
    "    frame=frame[columns]\n",
    "    return frame"
   ]
  },
  {
   "cell_type": "code",
   "execution_count": 14,
   "metadata": {
    "collapsed": true
   },
   "outputs": [],
   "source": [
    "def create_y(frame):\n",
    "    \n",
    "    frame=frame[['delinquency']]\n",
    "    return frame"
   ]
  },
  {
   "cell_type": "code",
   "execution_count": 24,
   "metadata": {
    "collapsed": true
   },
   "outputs": [],
   "source": [
    "def model_metrics(model,x_training,x_testing,y_training,y_testing,y_predict,y_predict_train):\n",
    "\n",
    "    print(\"Training and Testing accuracy:\")\n",
    "    print(\"\\n\")\n",
    "    print('Random Forest Regrssion  - Score - Training: %.4f' % model.score(x_training, y_training))\n",
    "    print('Random Forest Regression - Score - Testing: %.4f' % model.score(x_testing, y_testing))\n",
    "    \n",
    "    from sklearn import metrics\n",
    "\n",
    "    print(\"Confusion Matrix:\")\n",
    "    print(\"\\n\")\n",
    "    \n",
    "    \n",
    "    cm_train = metrics.confusion_matrix(y_training, y_predict_train)\n",
    "    print(cm_train)\n",
    "    print(\"\\n\")\n",
    "    print(\"Confusion matrix accuracy (train): \" + str((cm_train[0,0]+cm_train[1,1])/np.sum(cm_train)))\n",
    "    \n",
    "    print(\"\\n\")\n",
    "\n",
    "    cm_test = metrics.confusion_matrix(y_testing, y_predict)\n",
    "    print(cm_test)\n",
    "    print(\"\\n\")\n",
    "    print(\"Confusion matrix accuracy (test): \" + str((cm_test[0,0]+cm_test[1,1])/np.sum(cm_test)))\n",
    "    \n",
    "    print(\"\\n\")\n",
    "    \n",
    "    \n",
    "    \n",
    "    print(\"Confusion Matrix:\")\n",
    "    print(\"\\n\")\n",
    "    \n",
    "    import seaborn as sns\n",
    "    import matplotlib.pyplot as plt\n",
    "    %matplotlib inline\n",
    "    \n",
    "    class_names=[0,1]\n",
    "    fig, ax = plt.subplots()\n",
    "    tick_marks = np.arange(len(class_names))\n",
    "    plt.xticks(tick_marks, class_names)\n",
    "    plt.yticks(tick_marks, class_names)\n",
    "    # create heatmap\n",
    "    sns.heatmap(pd.DataFrame(cm_train), annot=True, cmap=\"YlGnBu\" ,fmt='g')\n",
    "    ax.xaxis.set_label_position(\"top\")\n",
    "    plt.tight_layout()\n",
    "    plt.title('Confusion matrix - Train', y=1.1)\n",
    "    plt.ylabel('Actual label')\n",
    "    plt.xlabel('Predicted label')\n",
    "\n",
    "    class_names=[0,1]\n",
    "    fig, ax = plt.subplots()\n",
    "    tick_marks = np.arange(len(class_names))\n",
    "    plt.xticks(tick_marks, class_names)\n",
    "    plt.yticks(tick_marks, class_names)\n",
    "    # create heatmap\n",
    "    sns.heatmap(pd.DataFrame(cm_test), annot=True, cmap=\"YlGnBu\" ,fmt='g')\n",
    "    ax.xaxis.set_label_position(\"top\")\n",
    "    plt.tight_layout()\n",
    "    plt.title('Confusion matrix - Test', y=1.1)\n",
    "    plt.ylabel('Actual label')\n",
    "    plt.xlabel('Predicted label')\n",
    "    \n",
    "    print(\"ROC Graph:\")\n",
    "    print(\"\\n\")\n",
    "    \n",
    "    from sklearn.metrics import roc_auc_score\n",
    "    from sklearn.metrics import roc_curve\n",
    "    logit_roc_auc = roc_auc_score(y_testing, model.predict(x_testing))\n",
    "    fpr, tpr, thresholds = roc_curve(y_testing, model.predict_proba(x_testing)[:,1])\n",
    "    plt.figure()\n",
    "    plt.plot(fpr, tpr, label='Classifier (area = %0.2f)' % logit_roc_auc)\n",
    "    plt.plot([0, 1], [0, 1],'r--')\n",
    "    plt.xlim([0.0, 1.0])\n",
    "    plt.ylim([0.0, 1.05])\n",
    "    plt.xlabel('False Positive Rate')\n",
    "    plt.ylabel('True Positive Rate')\n",
    "    plt.title('Receiver operating characteristic (ROC)')\n",
    "    plt.legend(loc=\"lower right\")\n",
    "    plt.savefig('Log_ROC')\n",
    "    plt.show()\n",
    "    \n",
    "    # print(\"Model Co-efficients:\" + str(model.coef_))\n",
    "    \n",
    "    print(\"Accuracy:\",metrics.accuracy_score(y_testing, y_predict))\n",
    "    \n",
    "    return cm_test\n",
    "\n",
    "\n",
    "\n"
   ]
  },
  {
   "cell_type": "code",
   "execution_count": 44,
   "metadata": {
    "collapsed": true
   },
   "outputs": [],
   "source": [
    "def gen_metric_file(y_frame_test,c_matrix,quarter,reg_name):\n",
    "    \n",
    "    import os\n",
    "    \n",
    "    quart = quarter\n",
    "    \n",
    "    regression_name=reg_name\n",
    "    \n",
    "    cols = [\"Quarter\",\n",
    "            \"Name\",\n",
    "            \"Total actual deliquent\",\n",
    "            \"Total predicted deliquent\",\n",
    "            \"Total records\",\n",
    "            \"Total deliquent prop classd\",\n",
    "            \"Total deliquent improp classd\"]\n",
    "\n",
    "    total_num_act_delq = np.count_nonzero(y_frame_test==1)\n",
    "    total_num_pred_delq = (c_matrix[1][0] + c_matrix[1][1])\n",
    "    total_num_records = len(y_frame_test)\n",
    "    total_num_delq_class_prop = (c_matrix[1][1])\n",
    "    total_num_delq_class_improp = (c_matrix[1][0])\n",
    "    \n",
    "    frame_file = pd.DataFrame(columns=cols)\n",
    "    \n",
    "    frame_temp = pd.DataFrame([[quart,\n",
    "                       regression_name,\n",
    "                       total_num_act_delq, \n",
    "                       total_num_pred_delq, \n",
    "                       total_num_records, \n",
    "                       total_num_delq_class_prop, \n",
    "                       total_num_delq_class_improp]], columns=cols)\n",
    "\n",
    "    frame_file = frame_file.append(frame_temp)\n",
    "    \n",
    "    filenm = \"Metrics.csv\"\n",
    "    \n",
    "    writeHeader = True\n",
    "    \n",
    "    if os.path.exists(filenm):\n",
    "        writeHeader = False\n",
    "    \n",
    "    if writeHeader is False:\n",
    "        with open(filenm, 'a',encoding = 'utf-8', newline=\"\") as f:\n",
    "            frame_file.to_csv(f, mode='a', header = False,index = False)\n",
    "    else:\n",
    "        with open(filenm, 'w',encoding = 'utf-8', newline=\"\") as f:\n",
    "            frame_file.to_csv(f, mode='a', header = True,index = False)\n",
    "\n",
    "\n",
    "# gen_metric_file(y_test,cm,'1999')"
   ]
  },
  {
   "cell_type": "code",
   "execution_count": 77,
   "metadata": {
    "collapsed": true
   },
   "outputs": [],
   "source": [
    "def user_cred(user, passwd):\n",
    "    creds={'username': user,'password': passwd}\n",
    "    return creds\n",
    "\n",
    "\n",
    "def download_files(usercred, trainq, testq):\n",
    "    url='https://freddiemac.embs.com/FLoan/secure/auth.php'\n",
    "    postUrl='https://freddiemac.embs.com/FLoan/Data/download.php'\n",
    "    \n",
    "    with requests.Session() as s:\n",
    "        url_init = s.post(url, data=usercred)\n",
    "        accept={'action':'acceptTandC', 'accept': 'Yes','acceptSubmit':'Continue'}\n",
    "        finalUrl=s.post(postUrl,accept)\n",
    "        url2 =finalUrl.text\n",
    "        files=BeautifulSoup(url2, \"html.parser\")\n",
    "        lst=files.find_all('td')\n",
    "        \n",
    "        hist_file=[]\n",
    "        \n",
    "        \n",
    "        for anchor in lst:\n",
    "            tags=anchor.findAll('a')\n",
    "            for tg in tags:\n",
    "                filenm='historical_data1_'\n",
    "                if (trainq in tg.text):\n",
    "                    if(filenm in tg.text):\n",
    "                        link = tg.get('href')\n",
    "                        dirname= 'qtr_files'\n",
    "                        tgtdir=str(os.getcwd())+\"/\"+dirname                      \n",
    "                        final ='https://freddiemac.embs.com/FLoan/Data/'\n",
    "                        final=final+link\n",
    "                        \n",
    "                        hist_file.append(final)\n",
    "                elif (testq in tg.text):\n",
    "                     if(filenm in tg.text):\n",
    "                        link = tg.get('href')\n",
    "                        dirname= 'qtr_files'\n",
    "                        tgtdir=str(os.getcwd())+\"/\"+dirname                        \n",
    "                        final ='https://freddiemac.embs.com/FLoan/Data/'\n",
    "                        final=final+link\n",
    "                        \n",
    "                        hist_file.append(final)\n",
    "                        \n",
    "        for file in hist_file:   \n",
    "            down = s.get(file)\n",
    "            z = ZipFile(BytesIO(down.content)) \n",
    "            z.extractall(tgtdir)\n",
    "\n",
    "            "
   ]
  },
  {
   "cell_type": "code",
   "execution_count": 83,
   "metadata": {
    "collapsed": true
   },
   "outputs": [],
   "source": [
    "def logistic_reg_initial(train_file,test_file,quarter,cnt):\n",
    "    \n",
    "    regress_name='LOGISTIC_REG_INIT'\n",
    "    \n",
    "    quart=quarter\n",
    "    \n",
    "    train=load_file(train_file,cnt)\n",
    "    train=handle_missing(train)\n",
    "    train=frame_transform(train)\n",
    "    train=handle_dtypes(train)\n",
    "    train=feature_engg(train)\n",
    "\n",
    "\n",
    "    X_train=create_X(train)\n",
    "    y_train=create_y(train)\n",
    "    X_train=feature_encode(X_train)\n",
    "    X_train=scale_minmax(X_train)\n",
    "    y_train=scale_minmax(y_train)\n",
    "    \n",
    "    from sklearn.linear_model import LogisticRegression\n",
    "    lr = LogisticRegression()\n",
    "    model=lr.fit(X_train,y_train)\n",
    "    \n",
    "    score = model.score(X_train, y_train)\n",
    "    \n",
    "    test=load_file(test_file,cnt)\n",
    "    test=handle_missing(test)\n",
    "    test=frame_transform(test)\n",
    "    test=handle_dtypes(test)\n",
    "    test=feature_engg(test)\n",
    "\n",
    "\n",
    "    X_test=create_X(test)\n",
    "    y_test=create_y(test)\n",
    "    X_test=feature_encode(X_test)\n",
    "    X_test=scale_minmax(X_test)\n",
    "    y_test=scale_minmax(y_test)\n",
    "\n",
    "    y_pred=model.predict(X_test)\n",
    "    \n",
    "    # For Train CM\n",
    "\n",
    "    y_pred_train=model.predict(X_train)\n",
    "    \n",
    "    cm=model_metrics(model,X_train,X_test,y_train,y_test,y_pred,y_pred_train)\n",
    "    \n",
    "    \n",
    "    gen_metric_file(y_test,cm,quart,regress_name)"
   ]
  },
  {
   "cell_type": "code",
   "execution_count": 84,
   "metadata": {
    "collapsed": true
   },
   "outputs": [],
   "source": [
    "def logistic_reg_final(train_file,test_file,quarter,cnt):\n",
    "    \n",
    "    regress_name='LOGISTIC_REG_FIN'\n",
    "    \n",
    "    quart=quarter\n",
    "    \n",
    "    train=load_file(train_file,cnt)\n",
    "    train=handle_missing(train)\n",
    "    train=frame_transform(train)\n",
    "    train=handle_dtypes(train)\n",
    "    train=feature_engg(train)\n",
    "\n",
    "\n",
    "    X_train=create_X(train)\n",
    "    y_train=create_y(train)\n",
    "    X_train=feature_encode(X_train)\n",
    "    X_train=scale_minmax(X_train)\n",
    "    y_train=scale_minmax(y_train)\n",
    "    \n",
    "    from sklearn.linear_model import LogisticRegression\n",
    "    lr = LogisticRegression()\n",
    "    model=lr.fit(X_train,y_train)\n",
    "    \n",
    "    from sklearn.feature_selection import RFE\n",
    "    rfe = RFE(model, 12)\n",
    "    rfe = rfe.fit(X_train, y_train.ravel())\n",
    "    # print summaries for the selection of attributes\n",
    "    print(\"Number of features: \" + str(rfe.n_features_))\n",
    "    print(rfe.support_)\n",
    "    print(\"Selected Features: \" + str(rfe.ranking_))\n",
    "    \n",
    "    selected_columns=['mnth_rep_dt',\n",
    "                  'loan_age','rem_month',\n",
    "                  'zero_bal_cd',\n",
    "                  'curr_int_rate',\n",
    "                  'mi_recv','net_sales','non_mi_recv',\n",
    "                  'expens','actual_loss','stp_modn_flg','def_pay_modn']\n",
    "    \n",
    "\n",
    "    train=load_file(train_file,cnt)\n",
    "    train=handle_missing(train)\n",
    "    train=frame_transform(train)\n",
    "    train=handle_dtypes(train)\n",
    "    train=feature_engg(train)\n",
    "\n",
    "\n",
    "    X_train=create_X_feature_select(train,selected_columns)\n",
    "    y_train=create_y(train)\n",
    "    X_train=feature_encode_feature_select(X_train)\n",
    "    X_train=scale_minmax(X_train)\n",
    "    y_train=scale_minmax(y_train)\n",
    "\n",
    "    from sklearn.linear_model import LogisticRegression\n",
    "    model = LogisticRegression()\n",
    "    fit=model.fit(X_train,y_train)\n",
    "\n",
    "    score = fit.score(X_train, y_train)\n",
    "    \n",
    "\n",
    "    test=load_file(test_file,cnt)\n",
    "    test=handle_missing(test)\n",
    "    test=frame_transform(test)\n",
    "    test=handle_dtypes(test)\n",
    "    test=feature_engg(test)\n",
    "\n",
    "\n",
    "    X_test=create_X_feature_select(test,selected_columns)\n",
    "    y_test=create_y(test)\n",
    "    X_test=feature_encode_feature_select(X_test)\n",
    "    X_test=scale_minmax(X_test)\n",
    "    y_test=scale_minmax(y_test)\n",
    "\n",
    "\n",
    "    y_pred=model.predict(X_test)\n",
    "\n",
    "    \n",
    "    # For Train CM\n",
    "\n",
    "    y_pred_train=model.predict(X_train)\n",
    "    \n",
    "\n",
    "    cm=model_metrics(model,X_train,X_test,y_train,y_test,y_pred,y_pred_train)\n",
    "    \n",
    "    \n",
    "    \n",
    "    gen_metric_file(y_test,cm,quart,regress_name)\n",
    "    "
   ]
  },
  {
   "cell_type": "code",
   "execution_count": 92,
   "metadata": {
    "collapsed": true
   },
   "outputs": [],
   "source": [
    "def random_forest(train_file,test_file,quarter,cnt):\n",
    "    \n",
    "    regress_name='RANDOM_FOREST'\n",
    "    \n",
    "    quart=quarter\n",
    "    \n",
    "    train=load_file(train_file,cnt)\n",
    "    train=handle_missing(train)\n",
    "    train=frame_transform(train)\n",
    "    train=handle_dtypes(train)\n",
    "    train=feature_engg(train)\n",
    "\n",
    "    selected_columns=['mnth_rep_dt',\n",
    "                      'loan_age','rem_month',\n",
    "                      'zero_bal_cd',\n",
    "                      'curr_int_rate',\n",
    "                      'mi_recv','net_sales','non_mi_recv',\n",
    "                      'expens','actual_loss','stp_modn_flg','def_pay_modn']\n",
    "    \n",
    "    X_train=create_X_feature_select(train,selected_columns)\n",
    "    y_train=create_y(train)\n",
    "    X_train=feature_encode_feature_select(X_train)\n",
    "    X_train=scale_minmax(X_train)\n",
    "    y_train=scale_minmax(y_train)\n",
    "\n",
    "    # Import Random Forest Model\n",
    "    from sklearn.ensemble import RandomForestClassifier\n",
    "\n",
    "    # Create a Classifier\n",
    "    clf=RandomForestClassifier(n_estimators=70, random_state=2)\n",
    "\n",
    "    # Train the model using the training sets\n",
    "    model_rf=clf.fit(X_train,y_train)\n",
    "\n",
    "    score = model_rf.score(X_train, y_train)\n",
    "    print(score)\n",
    "\n",
    "    test=load_file(test_file,cnt)\n",
    "    test=handle_missing(test)\n",
    "    test=frame_transform(test)\n",
    "    test=handle_dtypes(test)\n",
    "    test=feature_engg(test)\n",
    "\n",
    "\n",
    "    X_test=create_X_feature_select(test,selected_columns)\n",
    "    y_test=create_y(test)\n",
    "    X_test=feature_encode_feature_select(X_test)\n",
    "    X_test=scale_minmax(X_test)\n",
    "    y_test=scale_minmax(y_test)\n",
    "\n",
    "\n",
    "    y_pred=model_rf.predict(X_test)\n",
    "\n",
    "    # For Train CM\n",
    "\n",
    "    y_pred_train=model_rf.predict(X_train)\n",
    "    \n",
    "    cm=model_metrics(model_rf,X_train,X_test,y_train,y_test,y_pred,y_pred_train)\n",
    "\n",
    "    \n",
    "    gen_metric_file(y_test,cm,quart,regress_name)\n",
    "\n"
   ]
  },
  {
   "cell_type": "code",
   "execution_count": 86,
   "metadata": {
    "collapsed": true
   },
   "outputs": [],
   "source": [
    "def neural_network(train_file,test_file,quarter,cnt):\n",
    "    \n",
    "    regress_name='NEURAL_NETWORK'\n",
    "    \n",
    "    quart=quarter\n",
    "    \n",
    "    train=load_file(train_file,cnt)\n",
    "    train=handle_missing(train)\n",
    "    train=frame_transform(train)\n",
    "    train=handle_dtypes(train)\n",
    "    train=feature_engg(train)\n",
    "\n",
    "    selected_columns=['mnth_rep_dt',\n",
    "                      'loan_age','rem_month',\n",
    "                      'zero_bal_cd',\n",
    "                      'curr_int_rate',\n",
    "                      'mi_recv','net_sales','non_mi_recv',\n",
    "                      'expens','actual_loss','stp_modn_flg','def_pay_modn']\n",
    "\n",
    "    X_train=create_X_feature_select(train,selected_columns)\n",
    "    y_train=create_y(train)\n",
    "    X_train=feature_encode_feature_select(X_train)\n",
    "    X_train=scale_minmax(X_train)\n",
    "    y_train=scale_minmax(y_train)\n",
    "\n",
    "    # Import MLP Neural Classifier\n",
    "    from sklearn.neural_network import MLPClassifier\n",
    "\n",
    "    # Create a Classifier\n",
    "    clf=MLPClassifier(solver='lbfgs', alpha=1e-5, hidden_layer_sizes=(30,30,10), random_state=1)\n",
    "\n",
    "    # Train the model using the training sets\n",
    "    model_neu=clf.fit(X_train,y_train)\n",
    "\n",
    "    score = model_neu.score(X_train, y_train)\n",
    "    print(score)\n",
    "\n",
    "    test=load_file(test_file,cnt)\n",
    "    test=handle_missing(test)\n",
    "    test=frame_transform(test)\n",
    "    test=handle_dtypes(test)\n",
    "    test=feature_engg(test)\n",
    "\n",
    "\n",
    "    X_test=create_X_feature_select(test,selected_columns)\n",
    "    y_test=create_y(test)\n",
    "    X_test=feature_encode_feature_select(X_test)\n",
    "    X_test=scale_minmax(X_test)\n",
    "    y_test=scale_minmax(y_test)\n",
    "\n",
    "\n",
    "    y_pred=model_neu.predict(X_test)\n",
    "    \n",
    "    # For Train CM\n",
    "    y_pred_train=model_neu.predict(X_train)\n",
    "    \n",
    "    cm=model_metrics(model_neu,X_train,X_test,y_train,y_test,y_pred,y_pred_train)\n",
    "\n",
    "\n",
    "    gen_metric_file(y_test,cm,quart,regress_name)\n",
    "\n"
   ]
  },
  {
   "cell_type": "code",
   "execution_count": 87,
   "metadata": {},
   "outputs": [
    {
     "name": "stdout",
     "output_type": "stream",
     "text": [
      "Enter train year : Q11999\n",
      "Enter test year : Q21999\n",
      "Enter username : ads.assign3@gmail.com\n",
      "Enter password : ^<@<im\\S\n",
      "Enter record count : 1000000\n"
     ]
    }
   ],
   "source": [
    "# ****** Main Processing Starts ******* \n",
    "\n",
    "# Take inputs\n",
    "\n",
    "train_year=input(\"Enter train year : \")\n",
    "test_year=input(\"Enter test year : \")\n",
    "user_id=input(\"Enter username : \")\n",
    "pass_word=input(\"Enter password : \")\n",
    "rec_count=input(\"Enter record count : \")\n",
    "\n",
    "# Generating path\n",
    "\n",
    "train_file='historical_data1_time_' + train_year + '.txt'\n",
    "test_file='historical_data1_time_' + test_year + '.txt'\n",
    "\n",
    "qtr_year=train_year[2:6]\n",
    "\n",
    "qtr_file_path=str(os.getcwd())+\"/\"+\"qtr_files\"\n",
    "\n",
    "\n",
    "train_file=qtr_file_path + \"/\" + train_file\n",
    "test_file=qtr_file_path + \"/\" + test_file\n",
    "\n",
    "cred=user_cred(user_id, pass_word)\n",
    "\n",
    "# Downloading files\n",
    "\n",
    "# download_files(cred, train_year, test_year)"
   ]
  },
  {
   "cell_type": "code",
   "execution_count": 95,
   "metadata": {
    "collapsed": true
   },
   "outputs": [],
   "source": [
    "download_files(cred, train_year, test_year)"
   ]
  },
  {
   "cell_type": "code",
   "execution_count": 91,
   "metadata": {},
   "outputs": [
    {
     "name": "stdout",
     "output_type": "stream",
     "text": [
      "***** Files present **************************\n",
      "***** Running Logistic Regression Init *******\n"
     ]
    },
    {
     "name": "stderr",
     "output_type": "stream",
     "text": [
      "/Users/srikantswamy/anaconda3/lib/python3.6/site-packages/IPython/core/interactiveshell.py:2862: DtypeWarning: Columns (7,14,23) have mixed types. Specify dtype option on import or set low_memory=False.\n",
      "  exec(code_obj, self.user_global_ns, self.user_ns)\n",
      "/Users/srikantswamy/anaconda3/lib/python3.6/site-packages/sklearn/preprocessing/_encoders.py:363: FutureWarning: The handling of integer data will change in version 0.22. Currently, the categories are determined based on the range [0, max(values)], while in the future they will be determined based on the unique values.\n",
      "If you want the future behaviour and silence this warning, you can specify \"categories='auto'\".\n",
      "In case you used a LabelEncoder before this OneHotEncoder to convert the categories to integers, then you can now use the OneHotEncoder directly.\n",
      "  warnings.warn(msg, FutureWarning)\n",
      "/Users/srikantswamy/anaconda3/lib/python3.6/site-packages/sklearn/preprocessing/_encoders.py:363: FutureWarning: The handling of integer data will change in version 0.22. Currently, the categories are determined based on the range [0, max(values)], while in the future they will be determined based on the unique values.\n",
      "If you want the future behaviour and silence this warning, you can specify \"categories='auto'\".\n",
      "In case you used a LabelEncoder before this OneHotEncoder to convert the categories to integers, then you can now use the OneHotEncoder directly.\n",
      "  warnings.warn(msg, FutureWarning)\n",
      "/Users/srikantswamy/anaconda3/lib/python3.6/site-packages/sklearn/preprocessing/_encoders.py:363: FutureWarning: The handling of integer data will change in version 0.22. Currently, the categories are determined based on the range [0, max(values)], while in the future they will be determined based on the unique values.\n",
      "If you want the future behaviour and silence this warning, you can specify \"categories='auto'\".\n",
      "In case you used a LabelEncoder before this OneHotEncoder to convert the categories to integers, then you can now use the OneHotEncoder directly.\n",
      "  warnings.warn(msg, FutureWarning)\n",
      "/Users/srikantswamy/anaconda3/lib/python3.6/site-packages/sklearn/preprocessing/data.py:323: DataConversionWarning: Data with input dtype int64, float64, object were all converted to float64 by MinMaxScaler.\n",
      "  return self.partial_fit(X, y)\n",
      "/Users/srikantswamy/anaconda3/lib/python3.6/site-packages/sklearn/preprocessing/data.py:323: DataConversionWarning: Data with input dtype int64 were all converted to float64 by MinMaxScaler.\n",
      "  return self.partial_fit(X, y)\n",
      "/Users/srikantswamy/anaconda3/lib/python3.6/site-packages/sklearn/linear_model/logistic.py:432: FutureWarning: Default solver will be changed to 'lbfgs' in 0.22. Specify a solver to silence this warning.\n",
      "  FutureWarning)\n",
      "/Users/srikantswamy/anaconda3/lib/python3.6/site-packages/sklearn/utils/validation.py:752: DataConversionWarning: A column-vector y was passed when a 1d array was expected. Please change the shape of y to (n_samples, ), for example using ravel().\n",
      "  y = column_or_1d(y, warn=True)\n",
      "/Users/srikantswamy/anaconda3/lib/python3.6/site-packages/IPython/core/interactiveshell.py:2862: DtypeWarning: Columns (3,7,14,23) have mixed types. Specify dtype option on import or set low_memory=False.\n",
      "  exec(code_obj, self.user_global_ns, self.user_ns)\n",
      "/Users/srikantswamy/anaconda3/lib/python3.6/site-packages/sklearn/preprocessing/_encoders.py:363: FutureWarning: The handling of integer data will change in version 0.22. Currently, the categories are determined based on the range [0, max(values)], while in the future they will be determined based on the unique values.\n",
      "If you want the future behaviour and silence this warning, you can specify \"categories='auto'\".\n",
      "In case you used a LabelEncoder before this OneHotEncoder to convert the categories to integers, then you can now use the OneHotEncoder directly.\n",
      "  warnings.warn(msg, FutureWarning)\n",
      "/Users/srikantswamy/anaconda3/lib/python3.6/site-packages/sklearn/preprocessing/_encoders.py:363: FutureWarning: The handling of integer data will change in version 0.22. Currently, the categories are determined based on the range [0, max(values)], while in the future they will be determined based on the unique values.\n",
      "If you want the future behaviour and silence this warning, you can specify \"categories='auto'\".\n",
      "In case you used a LabelEncoder before this OneHotEncoder to convert the categories to integers, then you can now use the OneHotEncoder directly.\n",
      "  warnings.warn(msg, FutureWarning)\n",
      "/Users/srikantswamy/anaconda3/lib/python3.6/site-packages/sklearn/preprocessing/_encoders.py:363: FutureWarning: The handling of integer data will change in version 0.22. Currently, the categories are determined based on the range [0, max(values)], while in the future they will be determined based on the unique values.\n",
      "If you want the future behaviour and silence this warning, you can specify \"categories='auto'\".\n",
      "In case you used a LabelEncoder before this OneHotEncoder to convert the categories to integers, then you can now use the OneHotEncoder directly.\n",
      "  warnings.warn(msg, FutureWarning)\n",
      "/Users/srikantswamy/anaconda3/lib/python3.6/site-packages/sklearn/preprocessing/data.py:323: DataConversionWarning: Data with input dtype int64, float64, object were all converted to float64 by MinMaxScaler.\n",
      "  return self.partial_fit(X, y)\n",
      "/Users/srikantswamy/anaconda3/lib/python3.6/site-packages/sklearn/preprocessing/data.py:323: DataConversionWarning: Data with input dtype int64 were all converted to float64 by MinMaxScaler.\n",
      "  return self.partial_fit(X, y)\n"
     ]
    },
    {
     "name": "stdout",
     "output_type": "stream",
     "text": [
      "Training and Testing accuracy:\n",
      "\n",
      "\n",
      "Random Forest Regrssion  - Score - Training: 0.9726\n",
      "Random Forest Regression - Score - Testing: 0.9692\n",
      "Confusion Matrix:\n",
      "\n",
      "\n",
      "[[972115    253]\n",
      " [ 27171    461]]\n",
      "\n",
      "\n",
      "Confusion matrix accuracy (train): 0.972576\n",
      "\n",
      "\n",
      "[[968716    483]\n",
      " [ 30299    502]]\n",
      "\n",
      "\n",
      "Confusion matrix accuracy (test): 0.969218\n",
      "\n",
      "\n",
      "Confusion Matrix:\n",
      "\n",
      "\n",
      "ROC Graph:\n",
      "\n",
      "\n"
     ]
    },
    {
     "data": {
      "image/png": "[encoded data removed]",
      "text/plain": [
       "<Figure size 432x288 with 2 Axes>"
      ]
     },
     "metadata": {},
     "output_type": "display_data"
    },
    {
     "data": {
      "image/png": "[encoded data removed]",
      "text/plain": [
       "<Figure size 432x288 with 2 Axes>"
      ]
     },
     "metadata": {},
     "output_type": "display_data"
    },
    {
     "data": {
      "image/png": "[encoded data removed]",
      "text/plain": [
       "<Figure size 432x288 with 1 Axes>"
      ]
     },
     "metadata": {},
     "output_type": "display_data"
    },
    {
     "name": "stdout",
     "output_type": "stream",
     "text": [
      "Accuracy: 0.969218\n",
      "***** Logistic Regression Init run complete **\n"
     ]
    }
   ],
   "source": [
    "train_flag=os.path.isfile(train_file)\n",
    "\n",
    "test_flag=os.path.isfile(test_file)\n",
    "\n",
    "if (train_flag == True) and (test_flag == True):\n",
    "    print('***** Files present **************************')\n",
    "    print('***** Running Logistic Regression Init *******')\n",
    "    logistic_reg_initial(train_file, test_file, qtr_year,rec_count)\n",
    "    print('***** Logistic Regression Init run complete **')\n",
    "else:\n",
    "    \n",
    "    print (\"**** Files not present **********************\")"
   ]
  },
  {
   "cell_type": "code",
   "execution_count": 48,
   "metadata": {},
   "outputs": [
    {
     "name": "stderr",
     "output_type": "stream",
     "text": [
      "/Users/srikantswamy/anaconda3/lib/python3.6/site-packages/IPython/core/interactiveshell.py:2862: DtypeWarning: Columns (7,14,23) have mixed types. Specify dtype option on import or set low_memory=False.\n",
      "  exec(code_obj, self.user_global_ns, self.user_ns)\n",
      "/Users/srikantswamy/anaconda3/lib/python3.6/site-packages/sklearn/preprocessing/_encoders.py:363: FutureWarning: The handling of integer data will change in version 0.22. Currently, the categories are determined based on the range [0, max(values)], while in the future they will be determined based on the unique values.\n",
      "If you want the future behaviour and silence this warning, you can specify \"categories='auto'\".\n",
      "In case you used a LabelEncoder before this OneHotEncoder to convert the categories to integers, then you can now use the OneHotEncoder directly.\n",
      "  warnings.warn(msg, FutureWarning)\n",
      "/Users/srikantswamy/anaconda3/lib/python3.6/site-packages/sklearn/preprocessing/_encoders.py:363: FutureWarning: The handling of integer data will change in version 0.22. Currently, the categories are determined based on the range [0, max(values)], while in the future they will be determined based on the unique values.\n",
      "If you want the future behaviour and silence this warning, you can specify \"categories='auto'\".\n",
      "In case you used a LabelEncoder before this OneHotEncoder to convert the categories to integers, then you can now use the OneHotEncoder directly.\n",
      "  warnings.warn(msg, FutureWarning)\n",
      "/Users/srikantswamy/anaconda3/lib/python3.6/site-packages/sklearn/preprocessing/_encoders.py:363: FutureWarning: The handling of integer data will change in version 0.22. Currently, the categories are determined based on the range [0, max(values)], while in the future they will be determined based on the unique values.\n",
      "If you want the future behaviour and silence this warning, you can specify \"categories='auto'\".\n",
      "In case you used a LabelEncoder before this OneHotEncoder to convert the categories to integers, then you can now use the OneHotEncoder directly.\n",
      "  warnings.warn(msg, FutureWarning)\n",
      "/Users/srikantswamy/anaconda3/lib/python3.6/site-packages/sklearn/preprocessing/data.py:323: DataConversionWarning: Data with input dtype int64, float64, object were all converted to float64 by MinMaxScaler.\n",
      "  return self.partial_fit(X, y)\n",
      "/Users/srikantswamy/anaconda3/lib/python3.6/site-packages/sklearn/preprocessing/data.py:323: DataConversionWarning: Data with input dtype int64 were all converted to float64 by MinMaxScaler.\n",
      "  return self.partial_fit(X, y)\n",
      "/Users/srikantswamy/anaconda3/lib/python3.6/site-packages/sklearn/linear_model/logistic.py:432: FutureWarning: Default solver will be changed to 'lbfgs' in 0.22. Specify a solver to silence this warning.\n",
      "  FutureWarning)\n",
      "/Users/srikantswamy/anaconda3/lib/python3.6/site-packages/sklearn/utils/validation.py:752: DataConversionWarning: A column-vector y was passed when a 1d array was expected. Please change the shape of y to (n_samples, ), for example using ravel().\n",
      "  y = column_or_1d(y, warn=True)\n",
      "/Users/srikantswamy/anaconda3/lib/python3.6/site-packages/sklearn/linear_model/logistic.py:432: FutureWarning: Default solver will be changed to 'lbfgs' in 0.22. Specify a solver to silence this warning.\n",
      "  FutureWarning)\n",
      "/Users/srikantswamy/anaconda3/lib/python3.6/site-packages/sklearn/linear_model/logistic.py:432: FutureWarning: Default solver will be changed to 'lbfgs' in 0.22. Specify a solver to silence this warning.\n",
      "  FutureWarning)\n",
      "/Users/srikantswamy/anaconda3/lib/python3.6/site-packages/sklearn/linear_model/logistic.py:432: FutureWarning: Default solver will be changed to 'lbfgs' in 0.22. Specify a solver to silence this warning.\n",
      "  FutureWarning)\n",
      "/Users/srikantswamy/anaconda3/lib/python3.6/site-packages/sklearn/linear_model/logistic.py:432: FutureWarning: Default solver will be changed to 'lbfgs' in 0.22. Specify a solver to silence this warning.\n",
      "  FutureWarning)\n",
      "/Users/srikantswamy/anaconda3/lib/python3.6/site-packages/sklearn/linear_model/logistic.py:432: FutureWarning: Default solver will be changed to 'lbfgs' in 0.22. Specify a solver to silence this warning.\n",
      "  FutureWarning)\n",
      "/Users/srikantswamy/anaconda3/lib/python3.6/site-packages/sklearn/linear_model/logistic.py:432: FutureWarning: Default solver will be changed to 'lbfgs' in 0.22. Specify a solver to silence this warning.\n",
      "  FutureWarning)\n",
      "/Users/srikantswamy/anaconda3/lib/python3.6/site-packages/sklearn/linear_model/logistic.py:432: FutureWarning: Default solver will be changed to 'lbfgs' in 0.22. Specify a solver to silence this warning.\n",
      "  FutureWarning)\n",
      "/Users/srikantswamy/anaconda3/lib/python3.6/site-packages/sklearn/linear_model/logistic.py:432: FutureWarning: Default solver will be changed to 'lbfgs' in 0.22. Specify a solver to silence this warning.\n",
      "  FutureWarning)\n",
      "/Users/srikantswamy/anaconda3/lib/python3.6/site-packages/sklearn/linear_model/logistic.py:432: FutureWarning: Default solver will be changed to 'lbfgs' in 0.22. Specify a solver to silence this warning.\n",
      "  FutureWarning)\n",
      "/Users/srikantswamy/anaconda3/lib/python3.6/site-packages/sklearn/linear_model/logistic.py:432: FutureWarning: Default solver will be changed to 'lbfgs' in 0.22. Specify a solver to silence this warning.\n",
      "  FutureWarning)\n",
      "/Users/srikantswamy/anaconda3/lib/python3.6/site-packages/sklearn/linear_model/logistic.py:432: FutureWarning: Default solver will be changed to 'lbfgs' in 0.22. Specify a solver to silence this warning.\n",
      "  FutureWarning)\n",
      "/Users/srikantswamy/anaconda3/lib/python3.6/site-packages/sklearn/linear_model/logistic.py:432: FutureWarning: Default solver will be changed to 'lbfgs' in 0.22. Specify a solver to silence this warning.\n",
      "  FutureWarning)\n",
      "/Users/srikantswamy/anaconda3/lib/python3.6/site-packages/sklearn/linear_model/logistic.py:432: FutureWarning: Default solver will be changed to 'lbfgs' in 0.22. Specify a solver to silence this warning.\n",
      "  FutureWarning)\n",
      "/Users/srikantswamy/anaconda3/lib/python3.6/site-packages/sklearn/linear_model/logistic.py:432: FutureWarning: Default solver will be changed to 'lbfgs' in 0.22. Specify a solver to silence this warning.\n",
      "  FutureWarning)\n",
      "/Users/srikantswamy/anaconda3/lib/python3.6/site-packages/sklearn/linear_model/logistic.py:432: FutureWarning: Default solver will be changed to 'lbfgs' in 0.22. Specify a solver to silence this warning.\n",
      "  FutureWarning)\n",
      "/Users/srikantswamy/anaconda3/lib/python3.6/site-packages/sklearn/linear_model/logistic.py:432: FutureWarning: Default solver will be changed to 'lbfgs' in 0.22. Specify a solver to silence this warning.\n",
      "  FutureWarning)\n",
      "/Users/srikantswamy/anaconda3/lib/python3.6/site-packages/sklearn/linear_model/logistic.py:432: FutureWarning: Default solver will be changed to 'lbfgs' in 0.22. Specify a solver to silence this warning.\n",
      "  FutureWarning)\n",
      "/Users/srikantswamy/anaconda3/lib/python3.6/site-packages/sklearn/linear_model/logistic.py:432: FutureWarning: Default solver will be changed to 'lbfgs' in 0.22. Specify a solver to silence this warning.\n",
      "  FutureWarning)\n"
     ]
    },
    {
     "name": "stdout",
     "output_type": "stream",
     "text": [
      "Number of features: 12\n",
      "[ True False  True  True False False  True  True False  True  True  True\n",
      "  True False False False  True False False False False False False False\n",
      " False  True False False  True]\n",
      "Selected Features: [ 1 15  1  1 16  2  1  1 17  1  1  1  1  3  8  9  1 10  5  4 13 14  6 12 11\n",
      "  1  7 18  1]\n"
     ]
    },
    {
     "name": "stderr",
     "output_type": "stream",
     "text": [
      "/Users/srikantswamy/anaconda3/lib/python3.6/site-packages/IPython/core/interactiveshell.py:2862: DtypeWarning: Columns (7,14,23) have mixed types. Specify dtype option on import or set low_memory=False.\n",
      "  exec(code_obj, self.user_global_ns, self.user_ns)\n",
      "/Users/srikantswamy/anaconda3/lib/python3.6/site-packages/sklearn/preprocessing/_encoders.py:363: FutureWarning: The handling of integer data will change in version 0.22. Currently, the categories are determined based on the range [0, max(values)], while in the future they will be determined based on the unique values.\n",
      "If you want the future behaviour and silence this warning, you can specify \"categories='auto'\".\n",
      "In case you used a LabelEncoder before this OneHotEncoder to convert the categories to integers, then you can now use the OneHotEncoder directly.\n",
      "  warnings.warn(msg, FutureWarning)\n",
      "/Users/srikantswamy/anaconda3/lib/python3.6/site-packages/sklearn/preprocessing/_encoders.py:363: FutureWarning: The handling of integer data will change in version 0.22. Currently, the categories are determined based on the range [0, max(values)], while in the future they will be determined based on the unique values.\n",
      "If you want the future behaviour and silence this warning, you can specify \"categories='auto'\".\n",
      "In case you used a LabelEncoder before this OneHotEncoder to convert the categories to integers, then you can now use the OneHotEncoder directly.\n",
      "  warnings.warn(msg, FutureWarning)\n",
      "/Users/srikantswamy/anaconda3/lib/python3.6/site-packages/sklearn/preprocessing/data.py:323: DataConversionWarning: Data with input dtype int64, float64, object were all converted to float64 by MinMaxScaler.\n",
      "  return self.partial_fit(X, y)\n",
      "/Users/srikantswamy/anaconda3/lib/python3.6/site-packages/sklearn/preprocessing/data.py:323: DataConversionWarning: Data with input dtype int64 were all converted to float64 by MinMaxScaler.\n",
      "  return self.partial_fit(X, y)\n",
      "/Users/srikantswamy/anaconda3/lib/python3.6/site-packages/sklearn/linear_model/logistic.py:432: FutureWarning: Default solver will be changed to 'lbfgs' in 0.22. Specify a solver to silence this warning.\n",
      "  FutureWarning)\n",
      "/Users/srikantswamy/anaconda3/lib/python3.6/site-packages/sklearn/utils/validation.py:752: DataConversionWarning: A column-vector y was passed when a 1d array was expected. Please change the shape of y to (n_samples, ), for example using ravel().\n",
      "  y = column_or_1d(y, warn=True)\n",
      "/Users/srikantswamy/anaconda3/lib/python3.6/site-packages/IPython/core/interactiveshell.py:2862: DtypeWarning: Columns (3,7,14,23) have mixed types. Specify dtype option on import or set low_memory=False.\n",
      "  exec(code_obj, self.user_global_ns, self.user_ns)\n",
      "/Users/srikantswamy/anaconda3/lib/python3.6/site-packages/sklearn/preprocessing/_encoders.py:363: FutureWarning: The handling of integer data will change in version 0.22. Currently, the categories are determined based on the range [0, max(values)], while in the future they will be determined based on the unique values.\n",
      "If you want the future behaviour and silence this warning, you can specify \"categories='auto'\".\n",
      "In case you used a LabelEncoder before this OneHotEncoder to convert the categories to integers, then you can now use the OneHotEncoder directly.\n",
      "  warnings.warn(msg, FutureWarning)\n",
      "/Users/srikantswamy/anaconda3/lib/python3.6/site-packages/sklearn/preprocessing/_encoders.py:363: FutureWarning: The handling of integer data will change in version 0.22. Currently, the categories are determined based on the range [0, max(values)], while in the future they will be determined based on the unique values.\n",
      "If you want the future behaviour and silence this warning, you can specify \"categories='auto'\".\n",
      "In case you used a LabelEncoder before this OneHotEncoder to convert the categories to integers, then you can now use the OneHotEncoder directly.\n",
      "  warnings.warn(msg, FutureWarning)\n",
      "/Users/srikantswamy/anaconda3/lib/python3.6/site-packages/sklearn/preprocessing/data.py:323: DataConversionWarning: Data with input dtype int64, float64, object were all converted to float64 by MinMaxScaler.\n",
      "  return self.partial_fit(X, y)\n",
      "/Users/srikantswamy/anaconda3/lib/python3.6/site-packages/sklearn/preprocessing/data.py:323: DataConversionWarning: Data with input dtype int64 were all converted to float64 by MinMaxScaler.\n",
      "  return self.partial_fit(X, y)\n"
     ]
    },
    {
     "name": "stdout",
     "output_type": "stream",
     "text": [
      "Training and Testing accuracy:\n",
      "\n",
      "\n",
      "Random Forest Regrssion  - Score - Training: 0.9725\n",
      "Random Forest Regression - Score - Testing: 0.9694\n",
      "Confusion Matrix:\n",
      "\n",
      "\n",
      "[[972138    230]\n",
      " [ 27236    396]]\n",
      "\n",
      "\n",
      "Confusion matrix accuracy (train): 0.972534\n",
      "\n",
      "\n",
      "[[969062    137]\n",
      " [ 30425    376]]\n",
      "\n",
      "\n",
      "Confusion matrix accuracy (test): 0.969438\n",
      "\n",
      "\n",
      "Confusion Matrix:\n",
      "\n",
      "\n",
      "ROC Graph:\n",
      "\n",
      "\n"
     ]
    },
    {
     "data": {
      "image/png": "[encoded data removed]",
      "text/plain": [
       "<Figure size 432x288 with 2 Axes>"
      ]
     },
     "metadata": {},
     "output_type": "display_data"
    },
    {
     "data": {
      "image/png": "[encoded data removed]",
      "text/plain": [
       "<Figure size 432x288 with 2 Axes>"
      ]
     },
     "metadata": {},
     "output_type": "display_data"
    },
    {
     "data": {
      "image/png": "[encoded data removed]",
      "text/plain": [
       "<Figure size 432x288 with 1 Axes>"
      ]
     },
     "metadata": {},
     "output_type": "display_data"
    },
    {
     "name": "stdout",
     "output_type": "stream",
     "text": [
      "Accuracy: 0.969438\n"
     ]
    }
   ],
   "source": [
    "train_flag=os.path.isfile(train_file)\n",
    "\n",
    "test_flag=os.path.isfile(test_file)\n",
    "\n",
    "if (train_flag == True) and (test_flag == True):\n",
    "    print('***** Files present **************************')\n",
    "    print('***** Running Logistic Regression ************')\n",
    "    logistic_reg_final(train_file, test_file, qtr_year,rec_count)\n",
    "    print('***** Logistic Regression run complete *******')\n",
    "else:\n",
    "    \n",
    "    print (\"**** Files not present **********************\")"
   ]
  },
  {
   "cell_type": "code",
   "execution_count": 93,
   "metadata": {},
   "outputs": [
    {
     "name": "stdout",
     "output_type": "stream",
     "text": [
      "***** Files present **************************\n",
      "***** Random Forest Regression ************\n"
     ]
    },
    {
     "name": "stderr",
     "output_type": "stream",
     "text": [
      "/Users/srikantswamy/anaconda3/lib/python3.6/site-packages/IPython/core/interactiveshell.py:2862: DtypeWarning: Columns (7,14,23) have mixed types. Specify dtype option on import or set low_memory=False.\n",
      "  exec(code_obj, self.user_global_ns, self.user_ns)\n",
      "/Users/srikantswamy/anaconda3/lib/python3.6/site-packages/sklearn/preprocessing/_encoders.py:363: FutureWarning: The handling of integer data will change in version 0.22. Currently, the categories are determined based on the range [0, max(values)], while in the future they will be determined based on the unique values.\n",
      "If you want the future behaviour and silence this warning, you can specify \"categories='auto'\".\n",
      "In case you used a LabelEncoder before this OneHotEncoder to convert the categories to integers, then you can now use the OneHotEncoder directly.\n",
      "  warnings.warn(msg, FutureWarning)\n",
      "/Users/srikantswamy/anaconda3/lib/python3.6/site-packages/sklearn/preprocessing/_encoders.py:363: FutureWarning: The handling of integer data will change in version 0.22. Currently, the categories are determined based on the range [0, max(values)], while in the future they will be determined based on the unique values.\n",
      "If you want the future behaviour and silence this warning, you can specify \"categories='auto'\".\n",
      "In case you used a LabelEncoder before this OneHotEncoder to convert the categories to integers, then you can now use the OneHotEncoder directly.\n",
      "  warnings.warn(msg, FutureWarning)\n",
      "/Users/srikantswamy/anaconda3/lib/python3.6/site-packages/sklearn/preprocessing/data.py:323: DataConversionWarning: Data with input dtype int64, float64, object were all converted to float64 by MinMaxScaler.\n",
      "  return self.partial_fit(X, y)\n",
      "/Users/srikantswamy/anaconda3/lib/python3.6/site-packages/sklearn/preprocessing/data.py:323: DataConversionWarning: Data with input dtype int64 were all converted to float64 by MinMaxScaler.\n",
      "  return self.partial_fit(X, y)\n",
      "/Users/srikantswamy/anaconda3/lib/python3.6/site-packages/ipykernel_launcher.py:33: DataConversionWarning: A column-vector y was passed when a 1d array was expected. Please change the shape of y to (n_samples,), for example using ravel().\n"
     ]
    },
    {
     "name": "stdout",
     "output_type": "stream",
     "text": [
      "0.974697\n"
     ]
    },
    {
     "name": "stderr",
     "output_type": "stream",
     "text": [
      "/Users/srikantswamy/anaconda3/lib/python3.6/site-packages/IPython/core/interactiveshell.py:2862: DtypeWarning: Columns (3,7,14,23) have mixed types. Specify dtype option on import or set low_memory=False.\n",
      "  exec(code_obj, self.user_global_ns, self.user_ns)\n",
      "/Users/srikantswamy/anaconda3/lib/python3.6/site-packages/sklearn/preprocessing/_encoders.py:363: FutureWarning: The handling of integer data will change in version 0.22. Currently, the categories are determined based on the range [0, max(values)], while in the future they will be determined based on the unique values.\n",
      "If you want the future behaviour and silence this warning, you can specify \"categories='auto'\".\n",
      "In case you used a LabelEncoder before this OneHotEncoder to convert the categories to integers, then you can now use the OneHotEncoder directly.\n",
      "  warnings.warn(msg, FutureWarning)\n",
      "/Users/srikantswamy/anaconda3/lib/python3.6/site-packages/sklearn/preprocessing/_encoders.py:363: FutureWarning: The handling of integer data will change in version 0.22. Currently, the categories are determined based on the range [0, max(values)], while in the future they will be determined based on the unique values.\n",
      "If you want the future behaviour and silence this warning, you can specify \"categories='auto'\".\n",
      "In case you used a LabelEncoder before this OneHotEncoder to convert the categories to integers, then you can now use the OneHotEncoder directly.\n",
      "  warnings.warn(msg, FutureWarning)\n",
      "/Users/srikantswamy/anaconda3/lib/python3.6/site-packages/sklearn/preprocessing/data.py:323: DataConversionWarning: Data with input dtype int64, float64, object were all converted to float64 by MinMaxScaler.\n",
      "  return self.partial_fit(X, y)\n",
      "/Users/srikantswamy/anaconda3/lib/python3.6/site-packages/sklearn/preprocessing/data.py:323: DataConversionWarning: Data with input dtype int64 were all converted to float64 by MinMaxScaler.\n",
      "  return self.partial_fit(X, y)\n"
     ]
    },
    {
     "name": "stdout",
     "output_type": "stream",
     "text": [
      "Training and Testing accuracy:\n",
      "\n",
      "\n",
      "Random Forest Regrssion  - Score - Training: 0.9747\n",
      "Random Forest Regression - Score - Testing: 0.9246\n",
      "Confusion Matrix:\n",
      "\n",
      "\n",
      "[[972307     61]\n",
      " [ 25242   2390]]\n",
      "\n",
      "\n",
      "Confusion matrix accuracy (train): 0.974697\n",
      "\n",
      "\n",
      "[[921037  48162]\n",
      " [ 27271   3530]]\n",
      "\n",
      "\n",
      "Confusion matrix accuracy (test): 0.924567\n",
      "\n",
      "\n",
      "Confusion Matrix:\n",
      "\n",
      "\n",
      "ROC Graph:\n",
      "\n",
      "\n"
     ]
    },
    {
     "data": {
      "image/png": "[encoded data removed]",
      "text/plain": [
       "<Figure size 432x288 with 2 Axes>"
      ]
     },
     "metadata": {},
     "output_type": "display_data"
    },
    {
     "data": {
      "image/png": "[encoded data removed]",
      "text/plain": [
       "<Figure size 432x288 with 2 Axes>"
      ]
     },
     "metadata": {},
     "output_type": "display_data"
    },
    {
     "data": {
      "image/png": "[encoded data removed]",
      "text/plain": [
       "<Figure size 432x288 with 1 Axes>"
      ]
     },
     "metadata": {},
     "output_type": "display_data"
    },
    {
     "name": "stdout",
     "output_type": "stream",
     "text": [
      "Accuracy: 0.924567\n",
      "***** Random Forest run complete *******\n"
     ]
    }
   ],
   "source": [
    "train_flag=os.path.isfile(train_file)\n",
    "\n",
    "test_flag=os.path.isfile(test_file)\n",
    "\n",
    "if (train_flag == True) and (test_flag == True):\n",
    "    print('***** Files present **************************')\n",
    "    print('***** Random Forest Regression ************')\n",
    "    random_forest(train_file, test_file, qtr_year,rec_count)\n",
    "    print('***** Random Forest run complete *******')\n",
    "else:\n",
    "    \n",
    "    print (\"**** Files not present **********************\")"
   ]
  },
  {
   "cell_type": "code",
   "execution_count": 94,
   "metadata": {},
   "outputs": [
    {
     "name": "stdout",
     "output_type": "stream",
     "text": [
      "***** Files present **************************\n",
      "***** Running Neural Network ************\n"
     ]
    },
    {
     "name": "stderr",
     "output_type": "stream",
     "text": [
      "/Users/srikantswamy/anaconda3/lib/python3.6/site-packages/IPython/core/interactiveshell.py:2862: DtypeWarning: Columns (7,14,23) have mixed types. Specify dtype option on import or set low_memory=False.\n",
      "  exec(code_obj, self.user_global_ns, self.user_ns)\n",
      "/Users/srikantswamy/anaconda3/lib/python3.6/site-packages/sklearn/preprocessing/_encoders.py:363: FutureWarning: The handling of integer data will change in version 0.22. Currently, the categories are determined based on the range [0, max(values)], while in the future they will be determined based on the unique values.\n",
      "If you want the future behaviour and silence this warning, you can specify \"categories='auto'\".\n",
      "In case you used a LabelEncoder before this OneHotEncoder to convert the categories to integers, then you can now use the OneHotEncoder directly.\n",
      "  warnings.warn(msg, FutureWarning)\n",
      "/Users/srikantswamy/anaconda3/lib/python3.6/site-packages/sklearn/preprocessing/_encoders.py:363: FutureWarning: The handling of integer data will change in version 0.22. Currently, the categories are determined based on the range [0, max(values)], while in the future they will be determined based on the unique values.\n",
      "If you want the future behaviour and silence this warning, you can specify \"categories='auto'\".\n",
      "In case you used a LabelEncoder before this OneHotEncoder to convert the categories to integers, then you can now use the OneHotEncoder directly.\n",
      "  warnings.warn(msg, FutureWarning)\n",
      "/Users/srikantswamy/anaconda3/lib/python3.6/site-packages/sklearn/preprocessing/data.py:323: DataConversionWarning: Data with input dtype int64, float64, object were all converted to float64 by MinMaxScaler.\n",
      "  return self.partial_fit(X, y)\n",
      "/Users/srikantswamy/anaconda3/lib/python3.6/site-packages/sklearn/preprocessing/data.py:323: DataConversionWarning: Data with input dtype int64 were all converted to float64 by MinMaxScaler.\n",
      "  return self.partial_fit(X, y)\n",
      "/Users/srikantswamy/anaconda3/lib/python3.6/site-packages/sklearn/neural_network/multilayer_perceptron.py:916: DataConversionWarning: A column-vector y was passed when a 1d array was expected. Please change the shape of y to (n_samples, ), for example using ravel().\n",
      "  y = column_or_1d(y, warn=True)\n"
     ]
    },
    {
     "name": "stdout",
     "output_type": "stream",
     "text": [
      "0.972501\n"
     ]
    },
    {
     "name": "stderr",
     "output_type": "stream",
     "text": [
      "/Users/srikantswamy/anaconda3/lib/python3.6/site-packages/IPython/core/interactiveshell.py:2862: DtypeWarning: Columns (3,7,14,23) have mixed types. Specify dtype option on import or set low_memory=False.\n",
      "  exec(code_obj, self.user_global_ns, self.user_ns)\n",
      "/Users/srikantswamy/anaconda3/lib/python3.6/site-packages/sklearn/preprocessing/_encoders.py:363: FutureWarning: The handling of integer data will change in version 0.22. Currently, the categories are determined based on the range [0, max(values)], while in the future they will be determined based on the unique values.\n",
      "If you want the future behaviour and silence this warning, you can specify \"categories='auto'\".\n",
      "In case you used a LabelEncoder before this OneHotEncoder to convert the categories to integers, then you can now use the OneHotEncoder directly.\n",
      "  warnings.warn(msg, FutureWarning)\n",
      "/Users/srikantswamy/anaconda3/lib/python3.6/site-packages/sklearn/preprocessing/_encoders.py:363: FutureWarning: The handling of integer data will change in version 0.22. Currently, the categories are determined based on the range [0, max(values)], while in the future they will be determined based on the unique values.\n",
      "If you want the future behaviour and silence this warning, you can specify \"categories='auto'\".\n",
      "In case you used a LabelEncoder before this OneHotEncoder to convert the categories to integers, then you can now use the OneHotEncoder directly.\n",
      "  warnings.warn(msg, FutureWarning)\n",
      "/Users/srikantswamy/anaconda3/lib/python3.6/site-packages/sklearn/preprocessing/data.py:323: DataConversionWarning: Data with input dtype int64, float64, object were all converted to float64 by MinMaxScaler.\n",
      "  return self.partial_fit(X, y)\n",
      "/Users/srikantswamy/anaconda3/lib/python3.6/site-packages/sklearn/preprocessing/data.py:323: DataConversionWarning: Data with input dtype int64 were all converted to float64 by MinMaxScaler.\n",
      "  return self.partial_fit(X, y)\n"
     ]
    },
    {
     "name": "stdout",
     "output_type": "stream",
     "text": [
      "Training and Testing accuracy:\n",
      "\n",
      "\n",
      "Random Forest Regrssion  - Score - Training: 0.9725\n",
      "Random Forest Regression - Score - Testing: 0.9693\n",
      "Confusion Matrix:\n",
      "\n",
      "\n",
      "[[972021    347]\n",
      " [ 27152    480]]\n",
      "\n",
      "\n",
      "Confusion matrix accuracy (train): 0.972501\n",
      "\n",
      "\n",
      "[[968761    438]\n",
      " [ 30255    546]]\n",
      "\n",
      "\n",
      "Confusion matrix accuracy (test): 0.969307\n",
      "\n",
      "\n",
      "Confusion Matrix:\n",
      "\n",
      "\n",
      "ROC Graph:\n",
      "\n",
      "\n"
     ]
    },
    {
     "data": {
      "image/png": "[encoded data removed]",
      "text/plain": [
       "<Figure size 432x288 with 2 Axes>"
      ]
     },
     "metadata": {},
     "output_type": "display_data"
    },
    {
     "data": {
      "image/png": "[encoded data removed]",
      "text/plain": [
       "<Figure size 432x288 with 2 Axes>"
      ]
     },
     "metadata": {},
     "output_type": "display_data"
    },
    {
     "data": {
      "image/png": "[encoded data removed]",
      "text/plain": [
       "<Figure size 432x288 with 1 Axes>"
      ]
     },
     "metadata": {},
     "output_type": "display_data"
    },
    {
     "name": "stdout",
     "output_type": "stream",
     "text": [
      "Accuracy: 0.969307\n",
      "***** Neural Network run complete *******\n"
     ]
    }
   ],
   "source": [
    "train_flag=os.path.isfile(train_file)\n",
    "\n",
    "test_flag=os.path.isfile(test_file)\n",
    "\n",
    "if (train_flag == True) and (test_flag == True):\n",
    "    print('***** Files present **************************')\n",
    "    print('***** Running Neural Network ************')\n",
    "    neural_network(train_file, test_file, qtr_year,rec_count)\n",
    "    print('***** Neural Network run complete *******')\n",
    "else:\n",
    "    \n",
    "    print (\"**** Files not present **********************\")\n",
    "    "
   ]
  },
  {
   "cell_type": "code",
   "execution_count": null,
   "metadata": {
    "collapsed": true
   },
   "outputs": [],
   "source": []
  }
 ],
 "metadata": {
  "kernelspec": {
   "display_name": "Python 3",
   "language": "python",
   "name": "python3"
  },
  "language_info": {
   "codemirror_mode": {
    "name": "ipython",
    "version": 3
   },
   "file_extension": ".py",
   "mimetype": "text/x-python",
   "name": "python",
   "nbconvert_exporter": "python",
   "pygments_lexer": "ipython3",
   "version": "3.6.3"
  }
 },
 "nbformat": 4,
 "nbformat_minor": 2
}
