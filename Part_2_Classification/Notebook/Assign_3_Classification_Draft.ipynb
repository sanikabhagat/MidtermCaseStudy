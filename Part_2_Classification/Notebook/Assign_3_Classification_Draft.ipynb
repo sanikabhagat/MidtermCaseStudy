{
 "cells": [
  {
   "cell_type": "code",
   "execution_count": 29,
   "metadata": {
    "collapsed": true
   },
   "outputs": [],
   "source": [
    "import matplotlib.pyplot as plt\n",
    "import numpy as np\n",
    "import pandas as pd\n",
    "import seaborn as sns\n",
    "from datetime import datetime"
   ]
  },
  {
   "cell_type": "code",
   "execution_count": 30,
   "metadata": {
    "collapsed": true
   },
   "outputs": [],
   "source": [
    "def load_file(file):\n",
    "    df=pd.read_csv(file, sep=\"|\", names=['loan_seq_nbr',\n",
    "                                            'mnth_rep_dt',\n",
    "                                                                        'curr_upb',\n",
    "                                                                        'loan_delq_stat',\n",
    "                                                                        'loan_age',\n",
    "                                                                        'rem_month',\n",
    "                                                                        'repurch_flg',\n",
    "                                                                        'modn_flg',\n",
    "                                                                        'zero_bal_cd',\n",
    "                                                                        'zero_bal_efftv_dt',\n",
    "                                                                        'curr_int_rate',\n",
    "                                                                        'curr_deff_upb',\n",
    "                                                                        'due_dt_lpi',\n",
    "                                                                        'mi_recv',\n",
    "                                                                        'net_sales',\n",
    "                                                                        'non_mi_recv',\n",
    "                                                                        'expens',\n",
    "                                                                        'legal_cost',\n",
    "                                                                        'preserv_cost',\n",
    "                                                                        'taxes',\n",
    "                                                                        'misc_expens',\n",
    "                                                                        'actual_loss',\n",
    "                                                                        'modn_cost',\n",
    "                                                                        'stp_modn_flg',\n",
    "                                                                        'def_pay_modn',\n",
    "                                                                        'est_loan_to_val'], nrows=1000000)\n",
    "    return df\n",
    "    "
   ]
  },
  {
   "cell_type": "code",
   "execution_count": 32,
   "metadata": {},
   "outputs": [
    {
     "name": "stderr",
     "output_type": "stream",
     "text": [
      "/Users/srikantswamy/anaconda3/lib/python3.6/site-packages/IPython/core/interactiveshell.py:2802: DtypeWarning: Columns (7,14,23) have mixed types. Specify dtype option on import or set low_memory=False.\n",
      "  if self.run_code(code, result):\n"
     ]
    }
   ],
   "source": [
    "df=load_file('historical_data1_time_Q11999.txt')"
   ]
  },
  {
   "cell_type": "code",
   "execution_count": 33,
   "metadata": {
    "collapsed": true
   },
   "outputs": [],
   "source": [
    "def frame_transform(frame):\n",
    "    frame['loan_delq_stat'] = [ 0 if x=='XX' else x for x in (frame['loan_delq_stat'].apply(lambda x: x))]\n",
    "    frame['loan_delq_stat'] = [ 999 if x=='R' else x for x in (frame['loan_delq_stat'].apply(lambda x: x))]\n",
    "    frame['modn_flg'] = [ 0 if x=='N' else 1 for x in (frame['modn_flg'].apply(lambda x: x))]\n",
    "    frame[['net_sales']] = [ 0 if x=='U' else x for x in (frame['net_sales'].apply(lambda x: x))]\n",
    "    frame[['net_sales']] = [ 999 if x=='C' else x for x in (frame['net_sales'].apply(lambda x: x))]\n",
    "    frame[['def_pay_modn']] = [ 'Z' if x==' ' else x for x in (frame['def_pay_modn'].apply(lambda x: x))]\n",
    "    # frame[['net_sales']] = [ frame['curr_deff_upb'] if x=='C' else x for x in (frame['net_sales'].apply(lambda x: x)]\n",
    "    # frame[['net_sales']] = [ frame['curr_deff_upb'] if x=='C' else x for x in (frame['net_sales'].apply(lambda x: x)) ]\n",
    "    return frame\n",
    "                                      "
   ]
  },
  {
   "cell_type": "code",
   "execution_count": 34,
   "metadata": {
    "collapsed": true
   },
   "outputs": [],
   "source": [
    "def handle_missing(frame):\n",
    "    frame['loan_delq_stat']=frame['loan_delq_stat'].fillna(0)\n",
    "    frame['repurch_flg']=frame['repurch_flg'].fillna('Z')\n",
    "    frame['modn_flg']=frame['modn_flg'].fillna('N')\n",
    "    frame['stp_modn_flg']=frame['stp_modn_flg'].fillna('Z')\n",
    "    frame['zero_bal_cd']=frame['zero_bal_cd'].fillna(0)\n",
    "    frame['curr_deff_upb']=frame['curr_deff_upb'].fillna(0)\n",
    "    frame['mi_recv']=frame['mi_recv'].fillna(0)\n",
    "    frame['net_sales']=frame['net_sales'].fillna(0)\n",
    "    frame['non_mi_recv']=frame['non_mi_recv'].fillna(0)\n",
    "    frame['expens']=frame['expens'].fillna(0)\n",
    "    frame['legal_cost']=frame['legal_cost'].fillna(0)\n",
    "    frame['preserv_cost']=frame['preserv_cost'].fillna(0)\n",
    "    frame['misc_expens']=frame['misc_expens'].fillna(0)\n",
    "    frame['actual_loss']=frame['actual_loss'].fillna(0)\n",
    "    frame['modn_cost']=frame['modn_cost'].fillna(0)\n",
    "    # df['zero_bal_efftv_dt']=df['zero_bal_efftv_dt'].fillna(0)\n",
    "    # df['due_dt_lpi']=df['due_dt_lpi'].fillna(0)\n",
    "    # df['taxes']=df['taxes'].fillna(0)\n",
    "    # df['est_loan_to_val']=df['est_loan_to_val'].fillna(0)\n",
    "    return frame"
   ]
  },
  {
   "cell_type": "code",
   "execution_count": 35,
   "metadata": {
    "collapsed": true
   },
   "outputs": [],
   "source": [
    "def handle_dtypes(frame):\n",
    "    frame[['loan_seq_nbr','repurch_flg','modn_flg','stp_modn_flg','def_pay_modn']] = frame[['loan_seq_nbr','repurch_flg','modn_flg','stp_modn_flg','def_pay_modn']].astype(str)\n",
    "    frame[['curr_upb','curr_int_rate','mi_recv','non_mi_recv','expens','legal_cost','preserv_cost','taxes','misc_expens','actual_loss','modn_cost','est_loan_to_val']] = frame[['curr_upb','curr_int_rate','mi_recv','non_mi_recv','expens','legal_cost','preserv_cost','taxes','misc_expens','actual_loss','modn_cost','est_loan_to_val']].astype(float)\n",
    "    frame[['loan_age','rem_month','zero_bal_cd','curr_deff_upb','loan_delq_stat']] = frame[['loan_age','rem_month','zero_bal_cd','curr_deff_upb','loan_delq_stat']].astype(int)\n",
    "    return frame"
   ]
  },
  {
   "cell_type": "code",
   "execution_count": 36,
   "metadata": {
    "collapsed": true
   },
   "outputs": [],
   "source": [
    "def feature_engg(frame):\n",
    "    frame['delinquency'] = (frame.loan_delq_stat > 0).astype(int)\n",
    "    frame = frame.drop('loan_delq_stat', axis = 1)\n",
    "    return frame"
   ]
  },
  {
   "cell_type": "code",
   "execution_count": 37,
   "metadata": {
    "collapsed": true
   },
   "outputs": [],
   "source": [
    "def feature_encode(frame):\n",
    "    \n",
    "    from sklearn.preprocessing import LabelEncoder, OneHotEncoder\n",
    "    le = LabelEncoder()\n",
    "\n",
    "    frame['repurch_flg'] = le.fit_transform(frame['repurch_flg'])\n",
    "    frame['stp_modn_flg'] = le.fit_transform(frame['stp_modn_flg'])\n",
    "    frame['def_pay_modn'] = le.fit_transform(frame['def_pay_modn'])\n",
    "\n",
    "    onehotencoder = OneHotEncoder()\n",
    "\n",
    "    frame_repurch_flg = onehotencoder.fit_transform(frame.repurch_flg.values.reshape(-1,1)).toarray()\n",
    "    frame_stp_modn_flg=onehotencoder.fit_transform(frame.stp_modn_flg.values.reshape(-1,1)).toarray()\n",
    "    frame_def_pay_modn=onehotencoder.fit_transform(frame.def_pay_modn.values.reshape(-1,1)).toarray()\n",
    "\n",
    "    repurch_flg_onehot = pd.DataFrame(frame_repurch_flg, columns = [\"repurch_flg_\"+str(int(i)) for i in range(frame_repurch_flg.shape[1])])\n",
    "    frame = pd.concat([frame, repurch_flg_onehot], axis=1)\n",
    "\n",
    "    stp_modn_flg_onehot = pd.DataFrame(frame_stp_modn_flg, columns = [\"stp_modn_flg_\"+str(int(i)) for i in range(frame_stp_modn_flg.shape[1])])\n",
    "    frame = pd.concat([frame, stp_modn_flg_onehot], axis=1)\n",
    "\n",
    "    def_pay_modn_onehot = pd.DataFrame(frame_def_pay_modn, columns = [\"def_pay_modn\"+str(int(i)) for i in range(frame_def_pay_modn.shape[1])])\n",
    "    frame = pd.concat([frame, def_pay_modn_onehot], axis=1)\n",
    "\n",
    "    frame.drop(['repurch_flg', 'stp_modn_flg','def_pay_modn'], axis=1)\n",
    "    return frame\n",
    "    "
   ]
  },
  {
   "cell_type": "code",
   "execution_count": 38,
   "metadata": {
    "collapsed": true
   },
   "outputs": [],
   "source": [
    "def feature_encode_feature_select(frame):\n",
    "    \n",
    "    from sklearn.preprocessing import LabelEncoder, OneHotEncoder\n",
    "    le = LabelEncoder()\n",
    "\n",
    "    #frame['repurch_flg'] = le.fit_transform(frame['repurch_flg'])\n",
    "    frame['stp_modn_flg'] = le.fit_transform(frame['stp_modn_flg'])\n",
    "    frame['def_pay_modn'] = le.fit_transform(frame['def_pay_modn'])\n",
    "\n",
    "    onehotencoder = OneHotEncoder()\n",
    "\n",
    "    #frame_repurch_flg = onehotencoder.fit_transform(frame.repurch_flg.values.reshape(-1,1)).toarray()\n",
    "    frame_stp_modn_flg=onehotencoder.fit_transform(frame.stp_modn_flg.values.reshape(-1,1)).toarray()\n",
    "    frame_def_pay_modn=onehotencoder.fit_transform(frame.def_pay_modn.values.reshape(-1,1)).toarray()\n",
    "\n",
    "    #repurch_flg_onehot = pd.DataFrame(frame_repurch_flg, columns = [\"repurch_flg_\"+str(int(i)) for i in range(frame_repurch_flg.shape[1])])\n",
    "    #frame = pd.concat([frame, repurch_flg_onehot], axis=1)\n",
    "\n",
    "    stp_modn_flg_onehot = pd.DataFrame(frame_stp_modn_flg, columns = [\"stp_modn_flg_\"+str(int(i)) for i in range(frame_stp_modn_flg.shape[1])])\n",
    "    frame = pd.concat([frame, stp_modn_flg_onehot], axis=1)\n",
    "\n",
    "    def_pay_modn_onehot = pd.DataFrame(frame_def_pay_modn, columns = [\"def_pay_modn\"+str(int(i)) for i in range(frame_def_pay_modn.shape[1])])\n",
    "    frame = pd.concat([frame, def_pay_modn_onehot], axis=1)\n",
    "\n",
    "    frame.drop(['stp_modn_flg','def_pay_modn'], axis=1)\n",
    "    return frame\n",
    "    "
   ]
  },
  {
   "cell_type": "code",
   "execution_count": 39,
   "metadata": {
    "collapsed": true
   },
   "outputs": [],
   "source": [
    "def scale_minmax(X):\n",
    "    \n",
    "    from sklearn.preprocessing import MinMaxScaler\n",
    "\n",
    "    mm_scale_X = MinMaxScaler()\n",
    "\n",
    "    X = mm_scale_X.fit_transform(X)\n",
    "\n",
    "    return X"
   ]
  },
  {
   "cell_type": "code",
   "execution_count": 40,
   "metadata": {
    "collapsed": true
   },
   "outputs": [],
   "source": [
    "def create_X(frame):\n",
    "    frame=frame.drop(['loan_seq_nbr','delinquency'], axis=1)\n",
    "    \n",
    "    # Removing these columns temporarily\n",
    "    frame = frame.drop('zero_bal_efftv_dt', axis = 1)\n",
    "    frame = frame.drop('due_dt_lpi', axis = 1)\n",
    "    frame = frame.drop('taxes', axis = 1)\n",
    "    frame = frame.drop('est_loan_to_val', axis = 1)\n",
    "    \n",
    "    return frame"
   ]
  },
  {
   "cell_type": "code",
   "execution_count": 41,
   "metadata": {
    "collapsed": true
   },
   "outputs": [],
   "source": [
    "def create_X_feature_select(frame,columns):\n",
    "    frame=frame.drop(['loan_seq_nbr','delinquency'], axis=1)\n",
    "    \n",
    "    # Removing these columns temporarily\n",
    "    frame = frame.drop('zero_bal_efftv_dt', axis = 1)\n",
    "    frame = frame.drop('due_dt_lpi', axis = 1)\n",
    "    frame = frame.drop('taxes', axis = 1)\n",
    "    frame = frame.drop('est_loan_to_val', axis = 1)\n",
    "    \n",
    "    frame=frame[columns]\n",
    "    return frame"
   ]
  },
  {
   "cell_type": "code",
   "execution_count": 42,
   "metadata": {
    "collapsed": true
   },
   "outputs": [],
   "source": [
    "def create_y(frame):\n",
    "    \n",
    "    frame=frame[['delinquency']]\n",
    "    return frame"
   ]
  },
  {
   "cell_type": "code",
   "execution_count": 43,
   "metadata": {
    "collapsed": true
   },
   "outputs": [],
   "source": [
    "def model_metrics(model,x_training,x_testing,y_training,y_testing,y_predict,y_predict_train):\n",
    "\n",
    "    print(\"Training and Testing accuracy:\")\n",
    "    print(\"\\n\")\n",
    "    print('Random Forest Regrssion  - Score - Training: %.4f' % model.score(x_training, y_training))\n",
    "    print('Random Forest Regression - Score - Testing: %.4f' % model.score(x_testing, y_testing))\n",
    "    \n",
    "    from sklearn import metrics\n",
    "\n",
    "    print(\"Confusion Matrix:\")\n",
    "    print(\"\\n\")\n",
    "    \n",
    "    \n",
    "    cm_train = metrics.confusion_matrix(y_training, y_predict_train)\n",
    "    print(cm_train)\n",
    "    print(\"\\n\")\n",
    "    print(\"Confusion matrix accuracy (train): \" + str((cm_train[0,0]+cm_train[1,1])/np.sum(cm_train)))\n",
    "    \n",
    "    print(\"\\n\")\n",
    "\n",
    "    cm_test = metrics.confusion_matrix(y_testing, y_predict)\n",
    "    print(cm_test)\n",
    "    print(\"\\n\")\n",
    "    print(\"Confusion matrix accuracy (test): \" + str((cm_test[0,0]+cm_test[1,1])/np.sum(cm_test)))\n",
    "    \n",
    "    print(\"\\n\")\n",
    "    \n",
    "    \n",
    "    \n",
    "    print(\"Confusion Matrix:\")\n",
    "    print(\"\\n\")\n",
    "    \n",
    "    import seaborn as sns\n",
    "    import matplotlib.pyplot as plt\n",
    "    %matplotlib inline\n",
    "    \n",
    "    class_names=[0,1]\n",
    "    fig, ax = plt.subplots()\n",
    "    tick_marks = np.arange(len(class_names))\n",
    "    plt.xticks(tick_marks, class_names)\n",
    "    plt.yticks(tick_marks, class_names)\n",
    "    # create heatmap\n",
    "    sns.heatmap(pd.DataFrame(cm_train), annot=True, cmap=\"YlGnBu\" ,fmt='g')\n",
    "    ax.xaxis.set_label_position(\"top\")\n",
    "    plt.tight_layout()\n",
    "    plt.title('Confusion matrix - Train', y=1.1)\n",
    "    plt.ylabel('Actual label')\n",
    "    plt.xlabel('Predicted label')\n",
    "\n",
    "    class_names=[0,1]\n",
    "    fig, ax = plt.subplots()\n",
    "    tick_marks = np.arange(len(class_names))\n",
    "    plt.xticks(tick_marks, class_names)\n",
    "    plt.yticks(tick_marks, class_names)\n",
    "    # create heatmap\n",
    "    sns.heatmap(pd.DataFrame(cm_test), annot=True, cmap=\"YlGnBu\" ,fmt='g')\n",
    "    ax.xaxis.set_label_position(\"top\")\n",
    "    plt.tight_layout()\n",
    "    plt.title('Confusion matrix - Test', y=1.1)\n",
    "    plt.ylabel('Actual label')\n",
    "    plt.xlabel('Predicted label')\n",
    "    \n",
    "    print(\"ROC Graph:\")\n",
    "    print(\"\\n\")\n",
    "    \n",
    "    from sklearn.metrics import roc_auc_score\n",
    "    from sklearn.metrics import roc_curve\n",
    "    logit_roc_auc = roc_auc_score(y_testing, model.predict(x_testing))\n",
    "    fpr, tpr, thresholds = roc_curve(y_testing, model.predict_proba(x_testing)[:,1])\n",
    "    plt.figure()\n",
    "    plt.plot(fpr, tpr, label='Classifier (area = %0.2f)' % logit_roc_auc)\n",
    "    plt.plot([0, 1], [0, 1],'r--')\n",
    "    plt.xlim([0.0, 1.0])\n",
    "    plt.ylim([0.0, 1.05])\n",
    "    plt.xlabel('False Positive Rate')\n",
    "    plt.ylabel('True Positive Rate')\n",
    "    plt.title('Receiver operating characteristic (ROC)')\n",
    "    plt.legend(loc=\"lower right\")\n",
    "    plt.savefig('Log_ROC')\n",
    "    plt.show()\n",
    "    \n",
    "    # print(\"Model Co-efficients:\" + str(model.coef_))\n",
    "    \n",
    "    print(\"Accuracy:\",metrics.accuracy_score(y_test, y_pred))\n",
    "    \n",
    "    return cm_test\n",
    "\n",
    "\n"
   ]
  },
  {
   "cell_type": "code",
   "execution_count": 44,
   "metadata": {
    "collapsed": true
   },
   "outputs": [],
   "source": [
    "def gen_metric_file(y_frame_test,c_matrix,quarter):\n",
    "    \n",
    "    import os\n",
    "    \n",
    "    quart = quarter\n",
    "    \n",
    "    cols = [\"Quarter\",\n",
    "         \"Total num of actual deliquent\",\n",
    "         \"Total num of predicted deliquent\",\n",
    "         \"Total num of records\",\n",
    "         \"Total num of deliquent prop classd\",\n",
    "         \"Total num of deliquent improp classd\"]\n",
    "\n",
    "    total_num_act_delq = np.count_nonzero(y_frame_test==1)\n",
    "    total_num_pred_delq = (c_matrix[1][0] + c_matrix[1][1])\n",
    "    total_num_records = len(y_frame_test)\n",
    "    total_num_delq_class_prop = (c_matrix[1][1])\n",
    "    total_num_delq_class_improp = (c_matrix[1][0])\n",
    "    \n",
    "    frame_file = pd.DataFrame(columns=cols)\n",
    "    \n",
    "    frame_temp = pd.DataFrame([[quart, \n",
    "                       total_num_act_delq, \n",
    "                       total_num_pred_delq, \n",
    "                       total_num_records, \n",
    "                       total_num_delq_class_prop, \n",
    "                       total_num_delq_class_improp]], columns=cols)\n",
    "\n",
    "    frame_file = frame_file.append(frame_temp)\n",
    "    \n",
    "    filenm = \"metric_file.csv\"\n",
    "    \n",
    "    writeHeader = True\n",
    "    \n",
    "    if os.path.exists(filenm):\n",
    "        writeHeader = False\n",
    "    \n",
    "    if writeHeader is False:\n",
    "        with open(filenm, 'a',encoding = 'utf-8', newline=\"\") as f:\n",
    "            df.to_csv(f, mode='a', header = False,index = False)\n",
    "    else:\n",
    "        with open(filenm, 'w',encoding = 'utf-8', newline=\"\") as f:\n",
    "            df.to_csv(f, mode='a', header = True,index = False)\n",
    "\n",
    "\n",
    "# gen_metric_file(y_test,cm,'1999')"
   ]
  },
  {
   "cell_type": "code",
   "execution_count": 45,
   "metadata": {},
   "outputs": [
    {
     "name": "stderr",
     "output_type": "stream",
     "text": [
      "/Users/srikantswamy/anaconda3/lib/python3.6/site-packages/IPython/core/interactiveshell.py:2802: DtypeWarning: Columns (7,14,23) have mixed types. Specify dtype option on import or set low_memory=False.\n",
      "  if self.run_code(code, result):\n",
      "/Users/srikantswamy/anaconda3/lib/python3.6/site-packages/sklearn/preprocessing/_encoders.py:363: FutureWarning: The handling of integer data will change in version 0.22. Currently, the categories are determined based on the range [0, max(values)], while in the future they will be determined based on the unique values.\n",
      "If you want the future behaviour and silence this warning, you can specify \"categories='auto'\".\n",
      "In case you used a LabelEncoder before this OneHotEncoder to convert the categories to integers, then you can now use the OneHotEncoder directly.\n",
      "  warnings.warn(msg, FutureWarning)\n",
      "/Users/srikantswamy/anaconda3/lib/python3.6/site-packages/sklearn/preprocessing/_encoders.py:363: FutureWarning: The handling of integer data will change in version 0.22. Currently, the categories are determined based on the range [0, max(values)], while in the future they will be determined based on the unique values.\n",
      "If you want the future behaviour and silence this warning, you can specify \"categories='auto'\".\n",
      "In case you used a LabelEncoder before this OneHotEncoder to convert the categories to integers, then you can now use the OneHotEncoder directly.\n",
      "  warnings.warn(msg, FutureWarning)\n",
      "/Users/srikantswamy/anaconda3/lib/python3.6/site-packages/sklearn/preprocessing/_encoders.py:363: FutureWarning: The handling of integer data will change in version 0.22. Currently, the categories are determined based on the range [0, max(values)], while in the future they will be determined based on the unique values.\n",
      "If you want the future behaviour and silence this warning, you can specify \"categories='auto'\".\n",
      "In case you used a LabelEncoder before this OneHotEncoder to convert the categories to integers, then you can now use the OneHotEncoder directly.\n",
      "  warnings.warn(msg, FutureWarning)\n",
      "/Users/srikantswamy/anaconda3/lib/python3.6/site-packages/sklearn/preprocessing/data.py:323: DataConversionWarning: Data with input dtype int64, float64, object were all converted to float64 by MinMaxScaler.\n",
      "  return self.partial_fit(X, y)\n",
      "/Users/srikantswamy/anaconda3/lib/python3.6/site-packages/sklearn/preprocessing/data.py:323: DataConversionWarning: Data with input dtype int64 were all converted to float64 by MinMaxScaler.\n",
      "  return self.partial_fit(X, y)\n"
     ]
    }
   ],
   "source": [
    "train=load_file('historical_data1_time_Q11999.txt')\n",
    "train=handle_missing(train)\n",
    "train=frame_transform(train)\n",
    "train=handle_dtypes(train)\n",
    "train=feature_engg(train)\n",
    "\n",
    "\n",
    "X_train=create_X(train)\n",
    "y_train=create_y(train)\n",
    "X_train=feature_encode(X_train)\n",
    "X_train=scale_minmax(X_train)\n",
    "y_train=scale_minmax(y_train)\n",
    "\n"
   ]
  },
  {
   "cell_type": "code",
   "execution_count": 46,
   "metadata": {},
   "outputs": [
    {
     "name": "stderr",
     "output_type": "stream",
     "text": [
      "/Users/srikantswamy/anaconda3/lib/python3.6/site-packages/sklearn/linear_model/logistic.py:432: FutureWarning: Default solver will be changed to 'lbfgs' in 0.22. Specify a solver to silence this warning.\n",
      "  FutureWarning)\n",
      "/Users/srikantswamy/anaconda3/lib/python3.6/site-packages/sklearn/utils/validation.py:752: DataConversionWarning: A column-vector y was passed when a 1d array was expected. Please change the shape of y to (n_samples, ), for example using ravel().\n",
      "  y = column_or_1d(y, warn=True)\n"
     ]
    }
   ],
   "source": [
    "from sklearn.linear_model import LogisticRegression\n",
    "lr = LogisticRegression()\n",
    "model=lr.fit(X_train,y_train)"
   ]
  },
  {
   "cell_type": "code",
   "execution_count": 47,
   "metadata": {},
   "outputs": [
    {
     "name": "stdout",
     "output_type": "stream",
     "text": [
      "0.972576\n"
     ]
    }
   ],
   "source": [
    "score = model.score(X_train, y_train)\n",
    "print(score)"
   ]
  },
  {
   "cell_type": "code",
   "execution_count": 48,
   "metadata": {},
   "outputs": [
    {
     "name": "stderr",
     "output_type": "stream",
     "text": [
      "/Users/srikantswamy/anaconda3/lib/python3.6/site-packages/IPython/core/interactiveshell.py:2802: DtypeWarning: Columns (3,7,14,23) have mixed types. Specify dtype option on import or set low_memory=False.\n",
      "  if self.run_code(code, result):\n",
      "/Users/srikantswamy/anaconda3/lib/python3.6/site-packages/sklearn/preprocessing/_encoders.py:363: FutureWarning: The handling of integer data will change in version 0.22. Currently, the categories are determined based on the range [0, max(values)], while in the future they will be determined based on the unique values.\n",
      "If you want the future behaviour and silence this warning, you can specify \"categories='auto'\".\n",
      "In case you used a LabelEncoder before this OneHotEncoder to convert the categories to integers, then you can now use the OneHotEncoder directly.\n",
      "  warnings.warn(msg, FutureWarning)\n",
      "/Users/srikantswamy/anaconda3/lib/python3.6/site-packages/sklearn/preprocessing/_encoders.py:363: FutureWarning: The handling of integer data will change in version 0.22. Currently, the categories are determined based on the range [0, max(values)], while in the future they will be determined based on the unique values.\n",
      "If you want the future behaviour and silence this warning, you can specify \"categories='auto'\".\n",
      "In case you used a LabelEncoder before this OneHotEncoder to convert the categories to integers, then you can now use the OneHotEncoder directly.\n",
      "  warnings.warn(msg, FutureWarning)\n",
      "/Users/srikantswamy/anaconda3/lib/python3.6/site-packages/sklearn/preprocessing/_encoders.py:363: FutureWarning: The handling of integer data will change in version 0.22. Currently, the categories are determined based on the range [0, max(values)], while in the future they will be determined based on the unique values.\n",
      "If you want the future behaviour and silence this warning, you can specify \"categories='auto'\".\n",
      "In case you used a LabelEncoder before this OneHotEncoder to convert the categories to integers, then you can now use the OneHotEncoder directly.\n",
      "  warnings.warn(msg, FutureWarning)\n",
      "/Users/srikantswamy/anaconda3/lib/python3.6/site-packages/sklearn/preprocessing/data.py:323: DataConversionWarning: Data with input dtype int64, float64, object were all converted to float64 by MinMaxScaler.\n",
      "  return self.partial_fit(X, y)\n",
      "/Users/srikantswamy/anaconda3/lib/python3.6/site-packages/sklearn/preprocessing/data.py:323: DataConversionWarning: Data with input dtype int64 were all converted to float64 by MinMaxScaler.\n",
      "  return self.partial_fit(X, y)\n"
     ]
    }
   ],
   "source": [
    "\n",
    "\n",
    "test=load_file('historical_data1_time_Q21999.txt')\n",
    "test=handle_missing(test)\n",
    "test=frame_transform(test)\n",
    "test=handle_dtypes(test)\n",
    "test=feature_engg(test)\n",
    "\n",
    "\n",
    "X_test=create_X(test)\n",
    "y_test=create_y(test)\n",
    "X_test=feature_encode(X_test)\n",
    "X_test=scale_minmax(X_test)\n",
    "y_test=scale_minmax(y_test)\n",
    "\n",
    "\n",
    "\n"
   ]
  },
  {
   "cell_type": "code",
   "execution_count": 49,
   "metadata": {
    "collapsed": true
   },
   "outputs": [],
   "source": [
    "y_pred=model.predict(X_test)"
   ]
  },
  {
   "cell_type": "code",
   "execution_count": 50,
   "metadata": {
    "collapsed": true
   },
   "outputs": [],
   "source": [
    "# For Train CM\n",
    "\n",
    "y_pred_train=model.predict(X_train)"
   ]
  },
  {
   "cell_type": "code",
   "execution_count": 51,
   "metadata": {},
   "outputs": [
    {
     "name": "stdout",
     "output_type": "stream",
     "text": [
      "Training and Testing accuracy:\n",
      "\n",
      "\n",
      "Random Forest Regrssion  - Score - Training: 0.9726\n",
      "Random Forest Regression - Score - Testing: 0.9692\n",
      "Confusion Matrix:\n",
      "\n",
      "\n",
      "[[972115    253]\n",
      " [ 27171    461]]\n",
      "\n",
      "\n",
      "Confusion matrix accuracy (train): 0.972576\n",
      "\n",
      "\n",
      "[[968716    483]\n",
      " [ 30299    502]]\n",
      "\n",
      "\n",
      "Confusion matrix accuracy (test): 0.969218\n",
      "\n",
      "\n",
      "Confusion Matrix:\n",
      "\n",
      "\n",
      "ROC Graph:\n",
      "\n",
      "\n"
     ]
    },
    {
     "data": {
      "image/png": "[encoded data removed]",
      "text/plain": [
       "<Figure size 432x288 with 2 Axes>"
      ]
     },
     "metadata": {},
     "output_type": "display_data"
    },
    {
     "data": {
      "image/png": "[encoded data removed]",
      "text/plain": [
       "<Figure size 432x288 with 2 Axes>"
      ]
     },
     "metadata": {},
     "output_type": "display_data"
    },
    {
     "data": {
      "image/png": "[encoded data removed]",
      "text/plain": [
       "<Figure size 432x288 with 1 Axes>"
      ]
     },
     "metadata": {},
     "output_type": "display_data"
    },
    {
     "name": "stdout",
     "output_type": "stream",
     "text": [
      "Accuracy: 0.969218\n"
     ]
    }
   ],
   "source": [
    "cm=model_metrics(model,X_train,X_test,y_train,y_test,y_pred,y_pred_train)\n"
   ]
  },
  {
   "cell_type": "code",
   "execution_count": 52,
   "metadata": {},
   "outputs": [
    {
     "name": "stderr",
     "output_type": "stream",
     "text": [
      "/Users/srikantswamy/anaconda3/lib/python3.6/site-packages/sklearn/linear_model/logistic.py:432: FutureWarning: Default solver will be changed to 'lbfgs' in 0.22. Specify a solver to silence this warning.\n",
      "  FutureWarning)\n",
      "/Users/srikantswamy/anaconda3/lib/python3.6/site-packages/sklearn/linear_model/logistic.py:432: FutureWarning: Default solver will be changed to 'lbfgs' in 0.22. Specify a solver to silence this warning.\n",
      "  FutureWarning)\n",
      "/Users/srikantswamy/anaconda3/lib/python3.6/site-packages/sklearn/linear_model/logistic.py:432: FutureWarning: Default solver will be changed to 'lbfgs' in 0.22. Specify a solver to silence this warning.\n",
      "  FutureWarning)\n",
      "/Users/srikantswamy/anaconda3/lib/python3.6/site-packages/sklearn/linear_model/logistic.py:432: FutureWarning: Default solver will be changed to 'lbfgs' in 0.22. Specify a solver to silence this warning.\n",
      "  FutureWarning)\n",
      "/Users/srikantswamy/anaconda3/lib/python3.6/site-packages/sklearn/linear_model/logistic.py:432: FutureWarning: Default solver will be changed to 'lbfgs' in 0.22. Specify a solver to silence this warning.\n",
      "  FutureWarning)\n",
      "/Users/srikantswamy/anaconda3/lib/python3.6/site-packages/sklearn/linear_model/logistic.py:432: FutureWarning: Default solver will be changed to 'lbfgs' in 0.22. Specify a solver to silence this warning.\n",
      "  FutureWarning)\n",
      "/Users/srikantswamy/anaconda3/lib/python3.6/site-packages/sklearn/linear_model/logistic.py:432: FutureWarning: Default solver will be changed to 'lbfgs' in 0.22. Specify a solver to silence this warning.\n",
      "  FutureWarning)\n",
      "/Users/srikantswamy/anaconda3/lib/python3.6/site-packages/sklearn/linear_model/logistic.py:432: FutureWarning: Default solver will be changed to 'lbfgs' in 0.22. Specify a solver to silence this warning.\n",
      "  FutureWarning)\n",
      "/Users/srikantswamy/anaconda3/lib/python3.6/site-packages/sklearn/linear_model/logistic.py:432: FutureWarning: Default solver will be changed to 'lbfgs' in 0.22. Specify a solver to silence this warning.\n",
      "  FutureWarning)\n",
      "/Users/srikantswamy/anaconda3/lib/python3.6/site-packages/sklearn/linear_model/logistic.py:432: FutureWarning: Default solver will be changed to 'lbfgs' in 0.22. Specify a solver to silence this warning.\n",
      "  FutureWarning)\n",
      "/Users/srikantswamy/anaconda3/lib/python3.6/site-packages/sklearn/linear_model/logistic.py:432: FutureWarning: Default solver will be changed to 'lbfgs' in 0.22. Specify a solver to silence this warning.\n",
      "  FutureWarning)\n",
      "/Users/srikantswamy/anaconda3/lib/python3.6/site-packages/sklearn/linear_model/logistic.py:432: FutureWarning: Default solver will be changed to 'lbfgs' in 0.22. Specify a solver to silence this warning.\n",
      "  FutureWarning)\n",
      "/Users/srikantswamy/anaconda3/lib/python3.6/site-packages/sklearn/linear_model/logistic.py:432: FutureWarning: Default solver will be changed to 'lbfgs' in 0.22. Specify a solver to silence this warning.\n",
      "  FutureWarning)\n",
      "/Users/srikantswamy/anaconda3/lib/python3.6/site-packages/sklearn/linear_model/logistic.py:432: FutureWarning: Default solver will be changed to 'lbfgs' in 0.22. Specify a solver to silence this warning.\n",
      "  FutureWarning)\n",
      "/Users/srikantswamy/anaconda3/lib/python3.6/site-packages/sklearn/linear_model/logistic.py:432: FutureWarning: Default solver will be changed to 'lbfgs' in 0.22. Specify a solver to silence this warning.\n",
      "  FutureWarning)\n",
      "/Users/srikantswamy/anaconda3/lib/python3.6/site-packages/sklearn/linear_model/logistic.py:432: FutureWarning: Default solver will be changed to 'lbfgs' in 0.22. Specify a solver to silence this warning.\n",
      "  FutureWarning)\n",
      "/Users/srikantswamy/anaconda3/lib/python3.6/site-packages/sklearn/linear_model/logistic.py:432: FutureWarning: Default solver will be changed to 'lbfgs' in 0.22. Specify a solver to silence this warning.\n",
      "  FutureWarning)\n",
      "/Users/srikantswamy/anaconda3/lib/python3.6/site-packages/sklearn/linear_model/logistic.py:432: FutureWarning: Default solver will be changed to 'lbfgs' in 0.22. Specify a solver to silence this warning.\n",
      "  FutureWarning)\n"
     ]
    },
    {
     "name": "stdout",
     "output_type": "stream",
     "text": [
      "Number of features: 12\n",
      "[ True False  True  True False False  True  True False  True  True  True\n",
      "  True False False False  True False False False False False False False\n",
      " False  True False False  True]\n",
      "Selected Features: [ 1 15  1  1 16  2  1  1 17  1  1  1  1  3  8  9  1 10  5  4 13 14  6 12 11\n",
      "  1  7 18  1]\n"
     ]
    }
   ],
   "source": [
    "# Feature Selection\n",
    "\n",
    "from sklearn.feature_selection import RFE\n",
    "rfe = RFE(model, 12)\n",
    "rfe = rfe.fit(X_train, y_train.ravel())\n",
    "# print summaries for the selection of attributes\n",
    "print(\"Number of features: \" + str(rfe.n_features_))\n",
    "print(rfe.support_)\n",
    "print(\"Selected Features: \" + str(rfe.ranking_))\n"
   ]
  },
  {
   "cell_type": "code",
   "execution_count": 53,
   "metadata": {
    "collapsed": true
   },
   "outputs": [],
   "source": [
    "selected_columns=['mnth_rep_dt',\n",
    "                  'loan_age','rem_month',\n",
    "                  'zero_bal_cd',\n",
    "                  'curr_int_rate',\n",
    "                  'mi_recv','net_sales','non_mi_recv',\n",
    "                  'expens','actual_loss','stp_modn_flg','def_pay_modn']"
   ]
  },
  {
   "cell_type": "code",
   "execution_count": 54,
   "metadata": {},
   "outputs": [
    {
     "name": "stdout",
     "output_type": "stream",
     "text": [
      "Number of features: 12\n",
      "[ True  True  True  True False  True  True  True False False  True False\n",
      "  True False False False False False  True False False False False  True\n",
      " False False False False  True]\n",
      "Selected Features: [ 1  1  1  1  2  1  1  1  3 14  1  5  1 17 18 12  9  6  1 15  7 11 10  1 13\n",
      "  4  8 16  1]\n"
     ]
    }
   ],
   "source": [
    "# Feature Selection\n",
    "\n",
    "from sklearn.feature_selection import RFE\n",
    "\n",
    "from sklearn.ensemble import RandomForestClassifier\n",
    "\n",
    "# Create a Classifier\n",
    "clf=RandomForestClassifier(n_estimators=10, random_state=2)\n",
    "\n",
    "\n",
    "rfe = RFE(clf, 12)\n",
    "rfe = rfe.fit(X_train, y_train.ravel())\n",
    "# print summaries for the selection of attributes\n",
    "print(\"Number of features: \" + str(rfe.n_features_))\n",
    "print(rfe.support_)\n",
    "print(\"Selected Features: \" + str(rfe.ranking_))"
   ]
  },
  {
   "cell_type": "code",
   "execution_count": 56,
   "metadata": {},
   "outputs": [
    {
     "name": "stderr",
     "output_type": "stream",
     "text": [
      "/Users/srikantswamy/anaconda3/lib/python3.6/site-packages/IPython/core/interactiveshell.py:2802: DtypeWarning: Columns (7,14,23) have mixed types. Specify dtype option on import or set low_memory=False.\n",
      "  if self.run_code(code, result):\n",
      "/Users/srikantswamy/anaconda3/lib/python3.6/site-packages/sklearn/preprocessing/_encoders.py:363: FutureWarning: The handling of integer data will change in version 0.22. Currently, the categories are determined based on the range [0, max(values)], while in the future they will be determined based on the unique values.\n",
      "If you want the future behaviour and silence this warning, you can specify \"categories='auto'\".\n",
      "In case you used a LabelEncoder before this OneHotEncoder to convert the categories to integers, then you can now use the OneHotEncoder directly.\n",
      "  warnings.warn(msg, FutureWarning)\n",
      "/Users/srikantswamy/anaconda3/lib/python3.6/site-packages/sklearn/preprocessing/_encoders.py:363: FutureWarning: The handling of integer data will change in version 0.22. Currently, the categories are determined based on the range [0, max(values)], while in the future they will be determined based on the unique values.\n",
      "If you want the future behaviour and silence this warning, you can specify \"categories='auto'\".\n",
      "In case you used a LabelEncoder before this OneHotEncoder to convert the categories to integers, then you can now use the OneHotEncoder directly.\n",
      "  warnings.warn(msg, FutureWarning)\n",
      "/Users/srikantswamy/anaconda3/lib/python3.6/site-packages/sklearn/preprocessing/data.py:323: DataConversionWarning: Data with input dtype int64, float64, object were all converted to float64 by MinMaxScaler.\n",
      "  return self.partial_fit(X, y)\n",
      "/Users/srikantswamy/anaconda3/lib/python3.6/site-packages/sklearn/preprocessing/data.py:323: DataConversionWarning: Data with input dtype int64 were all converted to float64 by MinMaxScaler.\n",
      "  return self.partial_fit(X, y)\n",
      "/Users/srikantswamy/anaconda3/lib/python3.6/site-packages/sklearn/linear_model/logistic.py:432: FutureWarning: Default solver will be changed to 'lbfgs' in 0.22. Specify a solver to silence this warning.\n",
      "  FutureWarning)\n",
      "/Users/srikantswamy/anaconda3/lib/python3.6/site-packages/sklearn/utils/validation.py:752: DataConversionWarning: A column-vector y was passed when a 1d array was expected. Please change the shape of y to (n_samples, ), for example using ravel().\n",
      "  y = column_or_1d(y, warn=True)\n"
     ]
    },
    {
     "name": "stdout",
     "output_type": "stream",
     "text": [
      "0.972534\n"
     ]
    },
    {
     "name": "stderr",
     "output_type": "stream",
     "text": [
      "/Users/srikantswamy/anaconda3/lib/python3.6/site-packages/IPython/core/interactiveshell.py:2802: DtypeWarning: Columns (3,7,14,23) have mixed types. Specify dtype option on import or set low_memory=False.\n",
      "  if self.run_code(code, result):\n",
      "/Users/srikantswamy/anaconda3/lib/python3.6/site-packages/sklearn/preprocessing/_encoders.py:363: FutureWarning: The handling of integer data will change in version 0.22. Currently, the categories are determined based on the range [0, max(values)], while in the future they will be determined based on the unique values.\n",
      "If you want the future behaviour and silence this warning, you can specify \"categories='auto'\".\n",
      "In case you used a LabelEncoder before this OneHotEncoder to convert the categories to integers, then you can now use the OneHotEncoder directly.\n",
      "  warnings.warn(msg, FutureWarning)\n",
      "/Users/srikantswamy/anaconda3/lib/python3.6/site-packages/sklearn/preprocessing/_encoders.py:363: FutureWarning: The handling of integer data will change in version 0.22. Currently, the categories are determined based on the range [0, max(values)], while in the future they will be determined based on the unique values.\n",
      "If you want the future behaviour and silence this warning, you can specify \"categories='auto'\".\n",
      "In case you used a LabelEncoder before this OneHotEncoder to convert the categories to integers, then you can now use the OneHotEncoder directly.\n",
      "  warnings.warn(msg, FutureWarning)\n",
      "/Users/srikantswamy/anaconda3/lib/python3.6/site-packages/sklearn/preprocessing/data.py:323: DataConversionWarning: Data with input dtype int64, float64, object were all converted to float64 by MinMaxScaler.\n",
      "  return self.partial_fit(X, y)\n",
      "/Users/srikantswamy/anaconda3/lib/python3.6/site-packages/sklearn/preprocessing/data.py:323: DataConversionWarning: Data with input dtype int64 were all converted to float64 by MinMaxScaler.\n",
      "  return self.partial_fit(X, y)\n"
     ]
    }
   ],
   "source": [
    "train=load_file('historical_data1_time_Q11999.txt')\n",
    "train=handle_missing(train)\n",
    "train=frame_transform(train)\n",
    "train=handle_dtypes(train)\n",
    "train=feature_engg(train)\n",
    "\n",
    "\n",
    "X_train=create_X_feature_select(train,selected_columns)\n",
    "y_train=create_y(train)\n",
    "X_train=feature_encode_feature_select(X_train)\n",
    "X_train=scale_minmax(X_train)\n",
    "y_train=scale_minmax(y_train)\n",
    "\n",
    "from sklearn.linear_model import LogisticRegression\n",
    "model = LogisticRegression()\n",
    "fit=model.fit(X_train,y_train)\n",
    "\n",
    "score = fit.score(X_train, y_train)\n",
    "print(score)\n",
    "\n",
    "test=load_file('historical_data1_time_Q21999.txt')\n",
    "test=handle_missing(test)\n",
    "test=frame_transform(test)\n",
    "test=handle_dtypes(test)\n",
    "test=feature_engg(test)\n",
    "\n",
    "\n",
    "X_test=create_X_feature_select(test,selected_columns)\n",
    "y_test=create_y(test)\n",
    "X_test=feature_encode_feature_select(X_test)\n",
    "X_test=scale_minmax(X_test)\n",
    "y_test=scale_minmax(y_test)\n",
    "\n",
    "\n",
    "y_pred=model.predict(X_test)\n"
   ]
  },
  {
   "cell_type": "code",
   "execution_count": 62,
   "metadata": {
    "collapsed": true
   },
   "outputs": [],
   "source": [
    "y_pred_train=model.predict(X_train)"
   ]
  },
  {
   "cell_type": "code",
   "execution_count": 63,
   "metadata": {},
   "outputs": [
    {
     "name": "stdout",
     "output_type": "stream",
     "text": [
      "Training and Testing accuracy:\n",
      "\n",
      "\n",
      "Random Forest Regrssion  - Score - Training: 0.9725\n",
      "Random Forest Regression - Score - Testing: 0.9694\n",
      "Confusion Matrix:\n",
      "\n",
      "\n",
      "[[972138    230]\n",
      " [ 27236    396]]\n",
      "\n",
      "\n",
      "Confusion matrix accuracy (train): 0.972534\n",
      "\n",
      "\n",
      "[[921037  48162]\n",
      " [ 27271   3530]]\n",
      "\n",
      "\n",
      "Confusion matrix accuracy (test): 0.924567\n",
      "\n",
      "\n",
      "Confusion Matrix:\n",
      "\n",
      "\n",
      "ROC Graph:\n",
      "\n",
      "\n"
     ]
    },
    {
     "data": {
      "image/png": "[encoded data removed]",
      "text/plain": [
       "<Figure size 432x288 with 2 Axes>"
      ]
     },
     "metadata": {},
     "output_type": "display_data"
    },
    {
     "data": {
      "image/png": "[encoded data removed]",
      "text/plain": [
       "<Figure size 432x288 with 2 Axes>"
      ]
     },
     "metadata": {},
     "output_type": "display_data"
    },
    {
     "data": {
      "image/png": "[encoded data removed]",
      "text/plain": [
       "<Figure size 432x288 with 1 Axes>"
      ]
     },
     "metadata": {},
     "output_type": "display_data"
    },
    {
     "name": "stdout",
     "output_type": "stream",
     "text": [
      "Accuracy: 0.924567\n"
     ]
    }
   ],
   "source": [
    "cm=model_metrics(model,X_train,X_test,y_train,y_test,y_pred,y_pred_train)\n"
   ]
  },
  {
   "cell_type": "code",
   "execution_count": 57,
   "metadata": {
    "collapsed": true
   },
   "outputs": [],
   "source": [
    "selected_columns=['mnth_rep_dt',\n",
    "                  'loan_age','rem_month',\n",
    "                  'zero_bal_cd',\n",
    "                  'curr_int_rate',\n",
    "                  'mi_recv','net_sales','non_mi_recv',\n",
    "                  'expens','actual_loss','stp_modn_flg','def_pay_modn']"
   ]
  },
  {
   "cell_type": "code",
   "execution_count": 61,
   "metadata": {},
   "outputs": [
    {
     "name": "stderr",
     "output_type": "stream",
     "text": [
      "/Users/srikantswamy/anaconda3/lib/python3.6/site-packages/IPython/core/interactiveshell.py:2802: DtypeWarning: Columns (7,14,23) have mixed types. Specify dtype option on import or set low_memory=False.\n",
      "  if self.run_code(code, result):\n",
      "/Users/srikantswamy/anaconda3/lib/python3.6/site-packages/sklearn/preprocessing/_encoders.py:363: FutureWarning: The handling of integer data will change in version 0.22. Currently, the categories are determined based on the range [0, max(values)], while in the future they will be determined based on the unique values.\n",
      "If you want the future behaviour and silence this warning, you can specify \"categories='auto'\".\n",
      "In case you used a LabelEncoder before this OneHotEncoder to convert the categories to integers, then you can now use the OneHotEncoder directly.\n",
      "  warnings.warn(msg, FutureWarning)\n",
      "/Users/srikantswamy/anaconda3/lib/python3.6/site-packages/sklearn/preprocessing/_encoders.py:363: FutureWarning: The handling of integer data will change in version 0.22. Currently, the categories are determined based on the range [0, max(values)], while in the future they will be determined based on the unique values.\n",
      "If you want the future behaviour and silence this warning, you can specify \"categories='auto'\".\n",
      "In case you used a LabelEncoder before this OneHotEncoder to convert the categories to integers, then you can now use the OneHotEncoder directly.\n",
      "  warnings.warn(msg, FutureWarning)\n",
      "/Users/srikantswamy/anaconda3/lib/python3.6/site-packages/sklearn/preprocessing/data.py:323: DataConversionWarning: Data with input dtype int64, float64, object were all converted to float64 by MinMaxScaler.\n",
      "  return self.partial_fit(X, y)\n",
      "/Users/srikantswamy/anaconda3/lib/python3.6/site-packages/sklearn/preprocessing/data.py:323: DataConversionWarning: Data with input dtype int64 were all converted to float64 by MinMaxScaler.\n",
      "  return self.partial_fit(X, y)\n",
      "/Users/srikantswamy/anaconda3/lib/python3.6/site-packages/ipykernel_launcher.py:23: DataConversionWarning: A column-vector y was passed when a 1d array was expected. Please change the shape of y to (n_samples,), for example using ravel().\n"
     ]
    },
    {
     "name": "stdout",
     "output_type": "stream",
     "text": [
      "0.974697\n"
     ]
    },
    {
     "name": "stderr",
     "output_type": "stream",
     "text": [
      "/Users/srikantswamy/anaconda3/lib/python3.6/site-packages/IPython/core/interactiveshell.py:2802: DtypeWarning: Columns (3,7,14,23) have mixed types. Specify dtype option on import or set low_memory=False.\n",
      "  if self.run_code(code, result):\n",
      "/Users/srikantswamy/anaconda3/lib/python3.6/site-packages/sklearn/preprocessing/_encoders.py:363: FutureWarning: The handling of integer data will change in version 0.22. Currently, the categories are determined based on the range [0, max(values)], while in the future they will be determined based on the unique values.\n",
      "If you want the future behaviour and silence this warning, you can specify \"categories='auto'\".\n",
      "In case you used a LabelEncoder before this OneHotEncoder to convert the categories to integers, then you can now use the OneHotEncoder directly.\n",
      "  warnings.warn(msg, FutureWarning)\n",
      "/Users/srikantswamy/anaconda3/lib/python3.6/site-packages/sklearn/preprocessing/_encoders.py:363: FutureWarning: The handling of integer data will change in version 0.22. Currently, the categories are determined based on the range [0, max(values)], while in the future they will be determined based on the unique values.\n",
      "If you want the future behaviour and silence this warning, you can specify \"categories='auto'\".\n",
      "In case you used a LabelEncoder before this OneHotEncoder to convert the categories to integers, then you can now use the OneHotEncoder directly.\n",
      "  warnings.warn(msg, FutureWarning)\n",
      "/Users/srikantswamy/anaconda3/lib/python3.6/site-packages/sklearn/preprocessing/data.py:323: DataConversionWarning: Data with input dtype int64, float64, object were all converted to float64 by MinMaxScaler.\n",
      "  return self.partial_fit(X, y)\n",
      "/Users/srikantswamy/anaconda3/lib/python3.6/site-packages/sklearn/preprocessing/data.py:323: DataConversionWarning: Data with input dtype int64 were all converted to float64 by MinMaxScaler.\n",
      "  return self.partial_fit(X, y)\n"
     ]
    }
   ],
   "source": [
    "# Random Forest Classifier\n",
    "\n",
    "train=load_file('historical_data1_time_Q11999.txt')\n",
    "train=handle_missing(train)\n",
    "train=frame_transform(train)\n",
    "train=handle_dtypes(train)\n",
    "train=feature_engg(train)\n",
    "\n",
    "\n",
    "X_train=create_X_feature_select(train,selected_columns)\n",
    "y_train=create_y(train)\n",
    "X_train=feature_encode_feature_select(X_train)\n",
    "X_train=scale_minmax(X_train)\n",
    "y_train=scale_minmax(y_train)\n",
    "\n",
    "# Import Random Forest Model\n",
    "from sklearn.ensemble import RandomForestClassifier\n",
    "\n",
    "# Create a Classifier\n",
    "clf=RandomForestClassifier(n_estimators=70, random_state=2)\n",
    "\n",
    "# Train the model using the training sets\n",
    "model_rf=clf.fit(X_train,y_train)\n",
    "\n",
    "score = model_rf.score(X_train, y_train)\n",
    "print(score)\n",
    "\n",
    "test=load_file('historical_data1_time_Q21999.txt')\n",
    "test=handle_missing(test)\n",
    "test=frame_transform(test)\n",
    "test=handle_dtypes(test)\n",
    "test=feature_engg(test)\n",
    "\n",
    "\n",
    "X_test=create_X_feature_select(test,selected_columns)\n",
    "y_test=create_y(test)\n",
    "X_test=feature_encode_feature_select(X_test)\n",
    "X_test=scale_minmax(X_test)\n",
    "y_test=scale_minmax(y_test)\n",
    "\n",
    "\n",
    "y_pred=model_rf.predict(X_test)\n",
    "\n",
    "\n",
    "\n"
   ]
  },
  {
   "cell_type": "code",
   "execution_count": 64,
   "metadata": {
    "collapsed": true
   },
   "outputs": [],
   "source": [
    "y_pred_train=model.predict(X_train)"
   ]
  },
  {
   "cell_type": "code",
   "execution_count": 65,
   "metadata": {},
   "outputs": [
    {
     "name": "stdout",
     "output_type": "stream",
     "text": [
      "Training and Testing accuracy:\n",
      "\n",
      "\n",
      "Random Forest Regrssion  - Score - Training: 0.9747\n",
      "Random Forest Regression - Score - Testing: 0.9246\n",
      "Confusion Matrix:\n",
      "\n",
      "\n",
      "[[972138    230]\n",
      " [ 27236    396]]\n",
      "\n",
      "\n",
      "Confusion matrix accuracy (train): 0.972534\n",
      "\n",
      "\n",
      "[[921037  48162]\n",
      " [ 27271   3530]]\n",
      "\n",
      "\n",
      "Confusion matrix accuracy (test): 0.924567\n",
      "\n",
      "\n",
      "Confusion Matrix:\n",
      "\n",
      "\n",
      "ROC Graph:\n",
      "\n",
      "\n"
     ]
    },
    {
     "data": {
      "image/png": "[encoded data removed]",
      "text/plain": [
       "<Figure size 432x288 with 2 Axes>"
      ]
     },
     "metadata": {},
     "output_type": "display_data"
    },
    {
     "data": {
      "image/png": "[encoded data removed]",
      "text/plain": [
       "<Figure size 432x288 with 2 Axes>"
      ]
     },
     "metadata": {},
     "output_type": "display_data"
    },
    {
     "data": {
      "image/png": "[encoded data removed]",
      "text/plain": [
       "<Figure size 432x288 with 1 Axes>"
      ]
     },
     "metadata": {},
     "output_type": "display_data"
    },
    {
     "name": "stdout",
     "output_type": "stream",
     "text": [
      "Accuracy: 0.924567\n"
     ]
    },
    {
     "data": {
      "text/plain": [
       "array([[921037,  48162],\n",
       "       [ 27271,   3530]])"
      ]
     },
     "execution_count": 65,
     "metadata": {},
     "output_type": "execute_result"
    }
   ],
   "source": [
    "model_metrics(model_rf,X_train,X_test,y_train,y_test,y_pred, y_pred_train)\n"
   ]
  },
  {
   "cell_type": "code",
   "execution_count": 60,
   "metadata": {},
   "outputs": [
    {
     "name": "stdout",
     "output_type": "stream",
     "text": [
      "Fitting 3 folds for each of 6 candidates, totalling 18 fits\n"
     ]
    },
    {
     "name": "stderr",
     "output_type": "stream",
     "text": [
      "[Parallel(n_jobs=-1)]: Using backend LokyBackend with 4 concurrent workers.\n",
      "[Parallel(n_jobs=-1)]: Done  18 out of  18 | elapsed: 12.2min finished\n",
      "[Parallel(n_jobs=-1)]: Done  18 out of  18 | elapsed: 12.2min remaining:    0.0s\n",
      "/Users/srikantswamy/anaconda3/lib/python3.6/site-packages/sklearn/model_selection/_search.py:740: DataConversionWarning: A column-vector y was passed when a 1d array was expected. Please change the shape of y to (n_samples,), for example using ravel().\n",
      "  self.best_estimator_.fit(X, y, **fit_params)\n"
     ]
    },
    {
     "data": {
      "text/plain": [
       "{'n_estimators': 70, 'random_state': 2}"
      ]
     },
     "execution_count": 60,
     "metadata": {},
     "output_type": "execute_result"
    }
   ],
   "source": [
    "# Hyper Parameter Tuning on Random Forest\n",
    "\n",
    "from sklearn.model_selection import GridSearchCV\n",
    "from sklearn import feature_selection\n",
    "from sklearn.ensemble import RandomForestClassifier\n",
    "\n",
    "param_grid1 = {'n_estimators' : [30, 50, 70],'random_state' : [0, 2]}\n",
    "rf = RandomForestClassifier()\n",
    "gs = GridSearchCV(rf, param_grid=param_grid1, cv = 3, n_jobs = -1, verbose=3, refit=True)\n",
    "gs.fit(X_train, y_train)\n",
    "gs.best_params_\n",
    "\n"
   ]
  },
  {
   "cell_type": "code",
   "execution_count": 68,
   "metadata": {},
   "outputs": [
    {
     "name": "stderr",
     "output_type": "stream",
     "text": [
      "/Users/srikantswamy/anaconda3/lib/python3.6/site-packages/IPython/core/interactiveshell.py:2802: DtypeWarning: Columns (7,14,23) have mixed types. Specify dtype option on import or set low_memory=False.\n",
      "  if self.run_code(code, result):\n",
      "/Users/srikantswamy/anaconda3/lib/python3.6/site-packages/sklearn/preprocessing/_encoders.py:363: FutureWarning: The handling of integer data will change in version 0.22. Currently, the categories are determined based on the range [0, max(values)], while in the future they will be determined based on the unique values.\n",
      "If you want the future behaviour and silence this warning, you can specify \"categories='auto'\".\n",
      "In case you used a LabelEncoder before this OneHotEncoder to convert the categories to integers, then you can now use the OneHotEncoder directly.\n",
      "  warnings.warn(msg, FutureWarning)\n",
      "/Users/srikantswamy/anaconda3/lib/python3.6/site-packages/sklearn/preprocessing/_encoders.py:363: FutureWarning: The handling of integer data will change in version 0.22. Currently, the categories are determined based on the range [0, max(values)], while in the future they will be determined based on the unique values.\n",
      "If you want the future behaviour and silence this warning, you can specify \"categories='auto'\".\n",
      "In case you used a LabelEncoder before this OneHotEncoder to convert the categories to integers, then you can now use the OneHotEncoder directly.\n",
      "  warnings.warn(msg, FutureWarning)\n",
      "/Users/srikantswamy/anaconda3/lib/python3.6/site-packages/sklearn/preprocessing/data.py:323: DataConversionWarning: Data with input dtype int64, float64, object were all converted to float64 by MinMaxScaler.\n",
      "  return self.partial_fit(X, y)\n",
      "/Users/srikantswamy/anaconda3/lib/python3.6/site-packages/sklearn/preprocessing/data.py:323: DataConversionWarning: Data with input dtype int64 were all converted to float64 by MinMaxScaler.\n",
      "  return self.partial_fit(X, y)\n",
      "/Users/srikantswamy/anaconda3/lib/python3.6/site-packages/sklearn/neural_network/multilayer_perceptron.py:916: DataConversionWarning: A column-vector y was passed when a 1d array was expected. Please change the shape of y to (n_samples, ), for example using ravel().\n",
      "  y = column_or_1d(y, warn=True)\n"
     ]
    },
    {
     "name": "stdout",
     "output_type": "stream",
     "text": [
      "0.972501\n"
     ]
    },
    {
     "name": "stderr",
     "output_type": "stream",
     "text": [
      "/Users/srikantswamy/anaconda3/lib/python3.6/site-packages/IPython/core/interactiveshell.py:2802: DtypeWarning: Columns (3,7,14,23) have mixed types. Specify dtype option on import or set low_memory=False.\n",
      "  if self.run_code(code, result):\n",
      "/Users/srikantswamy/anaconda3/lib/python3.6/site-packages/sklearn/preprocessing/_encoders.py:363: FutureWarning: The handling of integer data will change in version 0.22. Currently, the categories are determined based on the range [0, max(values)], while in the future they will be determined based on the unique values.\n",
      "If you want the future behaviour and silence this warning, you can specify \"categories='auto'\".\n",
      "In case you used a LabelEncoder before this OneHotEncoder to convert the categories to integers, then you can now use the OneHotEncoder directly.\n",
      "  warnings.warn(msg, FutureWarning)\n",
      "/Users/srikantswamy/anaconda3/lib/python3.6/site-packages/sklearn/preprocessing/_encoders.py:363: FutureWarning: The handling of integer data will change in version 0.22. Currently, the categories are determined based on the range [0, max(values)], while in the future they will be determined based on the unique values.\n",
      "If you want the future behaviour and silence this warning, you can specify \"categories='auto'\".\n",
      "In case you used a LabelEncoder before this OneHotEncoder to convert the categories to integers, then you can now use the OneHotEncoder directly.\n",
      "  warnings.warn(msg, FutureWarning)\n",
      "/Users/srikantswamy/anaconda3/lib/python3.6/site-packages/sklearn/preprocessing/data.py:323: DataConversionWarning: Data with input dtype int64, float64, object were all converted to float64 by MinMaxScaler.\n",
      "  return self.partial_fit(X, y)\n",
      "/Users/srikantswamy/anaconda3/lib/python3.6/site-packages/sklearn/preprocessing/data.py:323: DataConversionWarning: Data with input dtype int64 were all converted to float64 by MinMaxScaler.\n",
      "  return self.partial_fit(X, y)\n"
     ]
    }
   ],
   "source": [
    "# Neural Network\n",
    "\n",
    "\n",
    "selected_columns=['mnth_rep_dt',\n",
    "                  'loan_age','rem_month',\n",
    "                  'zero_bal_cd',\n",
    "                  'curr_int_rate',\n",
    "                  'mi_recv','net_sales','non_mi_recv',\n",
    "                  'expens','actual_loss','stp_modn_flg','def_pay_modn']\n",
    "\n",
    "\n",
    "train=load_file('historical_data1_time_Q11999.txt')\n",
    "train=handle_missing(train)\n",
    "train=frame_transform(train)\n",
    "train=handle_dtypes(train)\n",
    "train=feature_engg(train)\n",
    "\n",
    "\n",
    "X_train=create_X_feature_select(train,selected_columns)\n",
    "y_train=create_y(train)\n",
    "X_train=feature_encode_feature_select(X_train)\n",
    "X_train=scale_minmax(X_train)\n",
    "y_train=scale_minmax(y_train)\n",
    "\n",
    "# Import MLP Neural Classifier\n",
    "from sklearn.neural_network import MLPClassifier\n",
    "\n",
    "# Create a Classifier\n",
    "clf=MLPClassifier(solver='lbfgs', alpha=1e-5, hidden_layer_sizes=(30,30,10), random_state=1)\n",
    "\n",
    "# Train the model using the training sets\n",
    "model_neu=clf.fit(X_train,y_train)\n",
    "\n",
    "score = model_neu.score(X_train, y_train)\n",
    "print(score)\n",
    "\n",
    "test=load_file('historical_data1_time_Q21999.txt')\n",
    "test=handle_missing(test)\n",
    "test=frame_transform(test)\n",
    "test=handle_dtypes(test)\n",
    "test=feature_engg(test)\n",
    "\n",
    "\n",
    "X_test=create_X_feature_select(test,selected_columns)\n",
    "y_test=create_y(test)\n",
    "X_test=feature_encode_feature_select(X_test)\n",
    "X_test=scale_minmax(X_test)\n",
    "y_test=scale_minmax(y_test)\n",
    "\n",
    "\n",
    "y_pred=model_neu.predict(X_test)\n",
    "\n",
    "\n",
    "\n",
    "\n"
   ]
  },
  {
   "cell_type": "code",
   "execution_count": 66,
   "metadata": {
    "collapsed": true
   },
   "outputs": [],
   "source": [
    "y_pred_train=model.predict(X_train)"
   ]
  },
  {
   "cell_type": "code",
   "execution_count": 67,
   "metadata": {
    "scrolled": true
   },
   "outputs": [
    {
     "ename": "NameError",
     "evalue": "name 'model_neu' is not defined",
     "output_type": "error",
     "traceback": [
      "\u001b[0;31m---------------------------------------------------------------------------\u001b[0m",
      "\u001b[0;31mNameError\u001b[0m                                 Traceback (most recent call last)",
      "\u001b[0;32m<ipython-input-67-5d19375fa8cd>\u001b[0m in \u001b[0;36m<module>\u001b[0;34m()\u001b[0m\n\u001b[0;32m----> 1\u001b[0;31m \u001b[0mmodel_metrics\u001b[0m\u001b[0;34m(\u001b[0m\u001b[0mmodel_neu\u001b[0m\u001b[0;34m,\u001b[0m\u001b[0mX_train\u001b[0m\u001b[0;34m,\u001b[0m\u001b[0mX_test\u001b[0m\u001b[0;34m,\u001b[0m\u001b[0my_train\u001b[0m\u001b[0;34m,\u001b[0m\u001b[0my_test\u001b[0m\u001b[0;34m,\u001b[0m\u001b[0my_pred\u001b[0m\u001b[0;34m,\u001b[0m\u001b[0my_pred_train\u001b[0m\u001b[0;34m)\u001b[0m\u001b[0;34m\u001b[0m\u001b[0m\n\u001b[0m\u001b[1;32m      2\u001b[0m \u001b[0;34m\u001b[0m\u001b[0m\n",
      "\u001b[0;31mNameError\u001b[0m: name 'model_neu' is not defined"
     ]
    }
   ],
   "source": [
    "model_metrics(model_neu,X_train,X_test,y_train,y_test,y_pred,y_pred_train)\n",
    "\n"
   ]
  },
  {
   "cell_type": "code",
   "execution_count": 25,
   "metadata": {
    "collapsed": true
   },
   "outputs": [],
   "source": [
    "# TPOT Auto-ML\n",
    "\n",
    "from tpot import TPOTClassifier\n",
    "\n",
    "tpot = TPOTClassifier(generations=5,verbosity=2)\n",
    "\n",
    "# train=load_file('historical_data1_time_Q11999.txt')"
   ]
  },
  {
   "cell_type": "code",
   "execution_count": 29,
   "metadata": {},
   "outputs": [
    {
     "data": {
      "text/plain": [
       "array([0, 1])"
      ]
     },
     "execution_count": 29,
     "metadata": {},
     "output_type": "execute_result"
    }
   ],
   "source": [
    "train['delinquency'].unique()\n"
   ]
  },
  {
   "cell_type": "code",
   "execution_count": 34,
   "metadata": {
    "collapsed": true
   },
   "outputs": [],
   "source": [
    "#train['loan_delq_stat'] = [ 0 if x=='XX' else x for x in (train['loan_delq_stat'].apply(lambda x: x))]\n",
    "#train['loan_delq_stat'] = [ 999 if x=='R' else x for x in (train['loan_delq_stat'].apply(lambda x: x))]\n",
    "#train['loan_delq_stat']=train['loan_delq_stat'].fillna(0)\n",
    "#train.fillna(0, inplace=True)\n",
    "#train[['loan_delq_stat']]=train[['loan_delq_stat']].astype(int)\n",
    "\n",
    "\n",
    "#train['delinquency'] = (train.loan_delq_stat > 0).astype(int)\n",
    "\n",
    "y_train_auto=train['delinquency']\n",
    "\n",
    "X_train_auto=train.drop('delinquency', axis = 1)\n",
    "\n",
    "y_train_auto=y_train_auto.astype(np.float64)\n"
   ]
  },
  {
   "cell_type": "code",
   "execution_count": 35,
   "metadata": {},
   "outputs": [
    {
     "ename": "TypeError",
     "evalue": "ufunc 'isnan' not supported for the input types, and the inputs could not be safely coerced to any supported types according to the casting rule ''safe''",
     "output_type": "error",
     "traceback": [
      "\u001b[0;31m---------------------------------------------------------------------------\u001b[0m",
      "\u001b[0;31mTypeError\u001b[0m                                 Traceback (most recent call last)",
      "\u001b[0;32m<ipython-input-35-eb6005da5763>\u001b[0m in \u001b[0;36m<module>\u001b[0;34m()\u001b[0m\n\u001b[1;32m      1\u001b[0m \u001b[0mtpot\u001b[0m \u001b[0;34m=\u001b[0m \u001b[0mTPOTClassifier\u001b[0m\u001b[0;34m(\u001b[0m\u001b[0mverbosity\u001b[0m\u001b[0;34m=\u001b[0m\u001b[0;36m2\u001b[0m\u001b[0;34m,\u001b[0m \u001b[0mmax_time_mins\u001b[0m\u001b[0;34m=\u001b[0m\u001b[0;36m5\u001b[0m\u001b[0;34m,\u001b[0m \u001b[0mmax_eval_time_mins\u001b[0m\u001b[0;34m=\u001b[0m\u001b[0;36m0.04\u001b[0m\u001b[0;34m,\u001b[0m \u001b[0mpopulation_size\u001b[0m\u001b[0;34m=\u001b[0m\u001b[0;36m7\u001b[0m\u001b[0;34m)\u001b[0m\u001b[0;34m\u001b[0m\u001b[0m\n\u001b[1;32m      2\u001b[0m \u001b[0;34m\u001b[0m\u001b[0m\n\u001b[0;32m----> 3\u001b[0;31m \u001b[0mtpot\u001b[0m\u001b[0;34m.\u001b[0m\u001b[0mfit\u001b[0m\u001b[0;34m(\u001b[0m\u001b[0mX_train_auto\u001b[0m\u001b[0;34m,\u001b[0m \u001b[0my_train_auto\u001b[0m\u001b[0;34m)\u001b[0m\u001b[0;34m\u001b[0m\u001b[0m\n\u001b[0m",
      "\u001b[0;32m~/anaconda3/lib/python3.6/site-packages/tpot/base.py\u001b[0m in \u001b[0;36mfit\u001b[0;34m(self, features, target, sample_weight, groups)\u001b[0m\n\u001b[1;32m    577\u001b[0m         \u001b[0mself\u001b[0m\u001b[0;34m.\u001b[0m\u001b[0m_fit_init\u001b[0m\u001b[0;34m(\u001b[0m\u001b[0;34m)\u001b[0m\u001b[0;34m\u001b[0m\u001b[0m\n\u001b[1;32m    578\u001b[0m \u001b[0;34m\u001b[0m\u001b[0m\n\u001b[0;32m--> 579\u001b[0;31m         \u001b[0mfeatures\u001b[0m\u001b[0;34m,\u001b[0m \u001b[0mtarget\u001b[0m \u001b[0;34m=\u001b[0m \u001b[0mself\u001b[0m\u001b[0;34m.\u001b[0m\u001b[0m_check_dataset\u001b[0m\u001b[0;34m(\u001b[0m\u001b[0mfeatures\u001b[0m\u001b[0;34m,\u001b[0m \u001b[0mtarget\u001b[0m\u001b[0;34m,\u001b[0m \u001b[0msample_weight\u001b[0m\u001b[0;34m)\u001b[0m\u001b[0;34m\u001b[0m\u001b[0m\n\u001b[0m\u001b[1;32m    580\u001b[0m \u001b[0;34m\u001b[0m\u001b[0m\n\u001b[1;32m    581\u001b[0m         \u001b[0;31m# Randomly collect a subsample of training samples for pipeline optimization process.\u001b[0m\u001b[0;34m\u001b[0m\u001b[0;34m\u001b[0m\u001b[0m\n",
      "\u001b[0;32m~/anaconda3/lib/python3.6/site-packages/tpot/base.py\u001b[0m in \u001b[0;36m_check_dataset\u001b[0;34m(self, features, target, sample_weight)\u001b[0m\n\u001b[1;32m   1062\u001b[0m                 )\n\u001b[1;32m   1063\u001b[0m         \u001b[0;32melse\u001b[0m\u001b[0;34m:\u001b[0m\u001b[0;34m\u001b[0m\u001b[0m\n\u001b[0;32m-> 1064\u001b[0;31m             \u001b[0;32mif\u001b[0m \u001b[0mnp\u001b[0m\u001b[0;34m.\u001b[0m\u001b[0many\u001b[0m\u001b[0;34m(\u001b[0m\u001b[0mnp\u001b[0m\u001b[0;34m.\u001b[0m\u001b[0misnan\u001b[0m\u001b[0;34m(\u001b[0m\u001b[0mfeatures\u001b[0m\u001b[0;34m)\u001b[0m\u001b[0;34m)\u001b[0m\u001b[0;34m:\u001b[0m\u001b[0;34m\u001b[0m\u001b[0m\n\u001b[0m\u001b[1;32m   1065\u001b[0m                 \u001b[0mself\u001b[0m\u001b[0;34m.\u001b[0m\u001b[0m_imputed\u001b[0m \u001b[0;34m=\u001b[0m \u001b[0;32mTrue\u001b[0m\u001b[0;34m\u001b[0m\u001b[0m\n\u001b[1;32m   1066\u001b[0m                 \u001b[0mfeatures\u001b[0m \u001b[0;34m=\u001b[0m \u001b[0mself\u001b[0m\u001b[0;34m.\u001b[0m\u001b[0m_impute_values\u001b[0m\u001b[0;34m(\u001b[0m\u001b[0mfeatures\u001b[0m\u001b[0;34m)\u001b[0m\u001b[0;34m\u001b[0m\u001b[0m\n",
      "\u001b[0;31mTypeError\u001b[0m: ufunc 'isnan' not supported for the input types, and the inputs could not be safely coerced to any supported types according to the casting rule ''safe''"
     ]
    }
   ],
   "source": [
    "#tpot = TPOTClassifier(verbosity=2, max_time_mins=5, max_eval_time_mins=0.04, population_size=7)\n",
    "\n",
    "#tpot.fit(X_train, y_train)"
   ]
  },
  {
   "cell_type": "code",
   "execution_count": null,
   "metadata": {
    "scrolled": true
   },
   "outputs": [
    {
     "name": "stderr",
     "output_type": "stream",
     "text": [
      "/Users/srikantswamy/anaconda3/lib/python3.6/site-packages/sklearn/utils/validation.py:752: DataConversionWarning: A column-vector y was passed when a 1d array was expected. Please change the shape of y to (n_samples, ), for example using ravel().\n",
      "  y = column_or_1d(y, warn=True)\n"
     ]
    },
    {
     "data": {
      "application/vnd.jupyter.widget-view+json": {
       "model_id": "30d4ea10b20748d8bc9c37f47c678c39",
       "version_major": 2,
       "version_minor": 0
      },
      "text/plain": [
       "A Jupyter Widget"
      ]
     },
     "metadata": {},
     "output_type": "display_data"
    }
   ],
   "source": [
    "tpot.fit(X_train, y_train)"
   ]
  },
  {
   "cell_type": "code",
   "execution_count": 42,
   "metadata": {},
   "outputs": [
    {
     "data": {
      "text/plain": [
       "numpy.ndarray"
      ]
     },
     "execution_count": 42,
     "metadata": {},
     "output_type": "execute_result"
    }
   ],
   "source": [
    "type(X_train)"
   ]
  },
  {
   "cell_type": "code",
   "execution_count": 44,
   "metadata": {},
   "outputs": [
    {
     "data": {
      "text/plain": [
       "False"
      ]
     },
     "execution_count": 44,
     "metadata": {},
     "output_type": "execute_result"
    }
   ],
   "source": [
    "np.isnan(X_train).any()"
   ]
  },
  {
   "cell_type": "code",
   "execution_count": null,
   "metadata": {
    "collapsed": true
   },
   "outputs": [],
   "source": []
  }
 ],
 "metadata": {
  "kernelspec": {
   "display_name": "Python 3",
   "language": "python",
   "name": "python3"
  },
  "language_info": {
   "codemirror_mode": {
    "name": "ipython",
    "version": 3
   },
   "file_extension": ".py",
   "mimetype": "text/x-python",
   "name": "python",
   "nbconvert_exporter": "python",
   "pygments_lexer": "ipython3",
   "version": "3.6.3"
  }
 },
 "nbformat": 4,
 "nbformat_minor": 2
}
