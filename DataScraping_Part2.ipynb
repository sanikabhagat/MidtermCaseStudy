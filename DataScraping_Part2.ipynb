{
 "cells": [
  {
   "cell_type": "markdown",
   "metadata": {},
   "source": [
    "# Data Scraping Part 2"
   ]
  },
  {
   "cell_type": "code",
   "execution_count": 134,
   "metadata": {},
   "outputs": [],
   "source": [
    "import numpy as np\n",
    "import pandas as pd\n",
    "import time\n",
    "import os\n",
    "\n",
    "from selenium import webdriver\n",
    "from webbot import Browser\n",
    "from zipfile import ZipFile"
   ]
  },
  {
   "cell_type": "code",
   "execution_count": 135,
   "metadata": {},
   "outputs": [],
   "source": [
    "def scraping_script_prediction():\n",
    "    global train_year, train_quarter, test_year,test_quarter\n",
    "    train_year=input('Enter train year')\n",
    "    train_quarter=input('Enter train quarter')\n",
    "    test_year=input('Enter test year')\n",
    "    test_quarter=input('Enter test quarter')\n",
    "    auto_login()\n",
    "    year_file_list=zip_file()\n",
    "    extract_zip()\n",
    "    "
   ]
  },
  {
   "cell_type": "code",
   "execution_count": 136,
   "metadata": {},
   "outputs": [],
   "source": [
    "def auto_login():\n",
    "    global driver\n",
    "    driver = Browser()\n",
    "    driver.go_to('https://freddiemac.embs.com/FLoan/Data/download.php')\n",
    "    driver.type('bhagat.san@husky.neu.edu' , into = 'username') \n",
    "    driver.type('S6eb8ob`' , into = 'password')\n",
    "    driver.click('Submit')\n",
    "    driver.click(text='', tag='input', id='', classname='accept')\n",
    "    driver.click('Continue')"
   ]
  },
  {
   "cell_type": "code",
   "execution_count": 143,
   "metadata": {},
   "outputs": [],
   "source": [
    "def zip_file():\n",
    "    quarter=['Q1','Q2','Q3','Q4']\n",
    "    year_file_list=[]\n",
    "    for i in range(2005,2018):\n",
    "        for j in quarter:  \n",
    "            year_file_list.append('historical_data1_'+str(j)+str(i)+'.zip')\n",
    "    return year_file_list"
   ]
  },
  {
   "cell_type": "code",
   "execution_count": 144,
   "metadata": {},
   "outputs": [],
   "source": [
    "a=zip_file()"
   ]
  },
  {
   "cell_type": "code",
   "execution_count": 145,
   "metadata": {},
   "outputs": [
    {
     "data": {
      "text/plain": [
       "['historical_data1_Q12005.zip',\n",
       " 'historical_data1_Q22005.zip',\n",
       " 'historical_data1_Q32005.zip',\n",
       " 'historical_data1_Q42005.zip',\n",
       " 'historical_data1_Q12006.zip',\n",
       " 'historical_data1_Q22006.zip',\n",
       " 'historical_data1_Q32006.zip',\n",
       " 'historical_data1_Q42006.zip',\n",
       " 'historical_data1_Q12007.zip',\n",
       " 'historical_data1_Q22007.zip',\n",
       " 'historical_data1_Q32007.zip',\n",
       " 'historical_data1_Q42007.zip',\n",
       " 'historical_data1_Q12008.zip',\n",
       " 'historical_data1_Q22008.zip',\n",
       " 'historical_data1_Q32008.zip',\n",
       " 'historical_data1_Q42008.zip',\n",
       " 'historical_data1_Q12009.zip',\n",
       " 'historical_data1_Q22009.zip',\n",
       " 'historical_data1_Q32009.zip',\n",
       " 'historical_data1_Q42009.zip',\n",
       " 'historical_data1_Q12010.zip',\n",
       " 'historical_data1_Q22010.zip',\n",
       " 'historical_data1_Q32010.zip',\n",
       " 'historical_data1_Q42010.zip',\n",
       " 'historical_data1_Q12011.zip',\n",
       " 'historical_data1_Q22011.zip',\n",
       " 'historical_data1_Q32011.zip',\n",
       " 'historical_data1_Q42011.zip',\n",
       " 'historical_data1_Q12012.zip',\n",
       " 'historical_data1_Q22012.zip',\n",
       " 'historical_data1_Q32012.zip',\n",
       " 'historical_data1_Q42012.zip',\n",
       " 'historical_data1_Q12013.zip',\n",
       " 'historical_data1_Q22013.zip',\n",
       " 'historical_data1_Q32013.zip',\n",
       " 'historical_data1_Q42013.zip',\n",
       " 'historical_data1_Q12014.zip',\n",
       " 'historical_data1_Q22014.zip',\n",
       " 'historical_data1_Q32014.zip',\n",
       " 'historical_data1_Q42014.zip',\n",
       " 'historical_data1_Q12015.zip',\n",
       " 'historical_data1_Q22015.zip',\n",
       " 'historical_data1_Q32015.zip',\n",
       " 'historical_data1_Q42015.zip',\n",
       " 'historical_data1_Q12016.zip',\n",
       " 'historical_data1_Q22016.zip',\n",
       " 'historical_data1_Q32016.zip',\n",
       " 'historical_data1_Q42016.zip',\n",
       " 'historical_data1_Q12017.zip',\n",
       " 'historical_data1_Q22017.zip',\n",
       " 'historical_data1_Q32017.zip',\n",
       " 'historical_data1_Q42017.zip']"
      ]
     },
     "execution_count": 145,
     "metadata": {},
     "output_type": "execute_result"
    }
   ],
   "source": [
    "a"
   ]
  },
  {
   "cell_type": "code",
   "execution_count": 138,
   "metadata": {},
   "outputs": [],
   "source": [
    "def download_data(train_year,train_quarter,test_year,test_quarter):\n",
    "    train=train_quarter+train_year\n",
    "    test=test_quarter+test_year\n",
    "    downloaded_files=[]\n",
    "    for i in year_file_list:\n",
    "        if test in i:\n",
    "            driver.click(i)\n",
    "            #time.sleep(240)\n",
    "            downloaded_files.append(i)\n",
    "        if train in i:\n",
    "            driver.click(i)\n",
    "            #time.sleep(240)\n",
    "            downloaded_files.append(i)\n",
    "    return downloaded_files\n",
    "\n",
    "    "
   ]
  },
  {
   "cell_type": "code",
   "execution_count": 139,
   "metadata": {},
   "outputs": [],
   "source": [
    "def extract_zip():\n",
    "    downloaded_files=download_data(train_year,train_quarter,test_year,test_quarter)\n",
    "    time.sleep(240)\n",
    "    current_path=os.getcwd()\n",
    "    path=current_path+'\\ExtractedFiles'\n",
    "    download_path=current_path.split('Desktop')[0]+'Downloads\\\\'\n",
    "    for i in downloaded_files:\n",
    "        with ZipFile(download_path+i, 'r') as zip:\n",
    "            zip.extractall(path)"
   ]
  },
  {
   "cell_type": "code",
   "execution_count": 140,
   "metadata": {},
   "outputs": [
    {
     "name": "stdout",
     "output_type": "stream",
     "text": [
      "Enter train year2005\n",
      "Enter train quarterQ1\n",
      "Enter test year2005\n",
      "Enter test quarterQ2\n"
     ]
    }
   ],
   "source": [
    "scraping_script_prediction()"
   ]
  }
 ],
 "metadata": {
  "kernelspec": {
   "display_name": "Python 3",
   "language": "python",
   "name": "python3"
  },
  "language_info": {
   "codemirror_mode": {
    "name": "ipython",
    "version": 3
   },
   "file_extension": ".py",
   "mimetype": "text/x-python",
   "name": "python",
   "nbconvert_exporter": "python",
   "pygments_lexer": "ipython3",
   "version": "3.6.5"
  }
 },
 "nbformat": 4,
 "nbformat_minor": 2
}
