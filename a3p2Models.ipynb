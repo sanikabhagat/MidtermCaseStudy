{
 "cells": [
  {
   "cell_type": "code",
   "execution_count": 27,
   "metadata": {},
   "outputs": [],
   "source": [
    "import pandas as pd\n",
    "import numpy as np\n",
    "import urllib\n",
    "from urllib import request\n",
    "import sklearn \n",
    "from statistics import mean \n",
    "import statistics\n",
    "from math import sqrt\n",
    "from sklearn.metrics import r2_score\n",
    "from sklearn.metrics import mean_squared_error\n",
    "from sklearn.metrics import mean_absolute_error\n",
    "from datetime import time\n",
    "from sklearn import feature_selection"
   ]
  },
  {
   "cell_type": "code",
   "execution_count": 28,
   "metadata": {},
   "outputs": [],
   "source": [
    "from sklearn.cross_validation import train_test_split\n",
    "from sklearn.linear_model import LinearRegression"
   ]
  },
  {
   "cell_type": "code",
   "execution_count": 29,
   "metadata": {},
   "outputs": [],
   "source": [
    "from sklearn import neural_network\n",
    "from sklearn.neural_network import MLPRegressor"
   ]
  },
  {
   "cell_type": "code",
   "execution_count": 30,
   "metadata": {},
   "outputs": [],
   "source": [
    "from sklearn.model_selection import GridSearchCV\n",
    "from sklearn import feature_selection"
   ]
  },
  {
   "cell_type": "code",
   "execution_count": 31,
   "metadata": {},
   "outputs": [],
   "source": [
    "from sklearn import preprocessing"
   ]
  },
  {
   "cell_type": "code",
   "execution_count": 32,
   "metadata": {},
   "outputs": [],
   "source": [
    "from sklearn.ensemble import RandomForestRegressor\n",
    "from sklearn.preprocessing import label_binarize\n",
    "from random import seed\n",
    "from random import randrange\n",
    "from sklearn.preprocessing import MinMaxScaler\n",
    "from sklearn.pipeline import make_pipeline\n",
    "from sklearn.pipeline import Pipeline\n",
    "from sklearn.feature_selection import SelectKBest\n",
    "from sklearn.feature_selection import f_regression"
   ]
  },
  {
   "cell_type": "code",
   "execution_count": 33,
   "metadata": {},
   "outputs": [],
   "source": [
    "from mlxtend.feature_selection import SequentialFeatureSelector as SFS"
   ]
  },
  {
   "cell_type": "code",
   "execution_count": 34,
   "metadata": {},
   "outputs": [],
   "source": [
    "from mlxtend.feature_selection import ExhaustiveFeatureSelector as EFS"
   ]
  },
  {
   "cell_type": "code",
   "execution_count": 35,
   "metadata": {},
   "outputs": [],
   "source": [
    "from sklearn.preprocessing import StandardScaler"
   ]
  },
  {
   "cell_type": "code",
   "execution_count": 36,
   "metadata": {},
   "outputs": [],
   "source": [
    "########################sanika##############\n",
    "import time\n",
    "import os\n",
    "from selenium import webdriver\n",
    "from webbot import Browser\n",
    "from zipfile import ZipFile\n",
    "############################################"
   ]
  },
  {
   "cell_type": "code",
   "execution_count": 37,
   "metadata": {},
   "outputs": [],
   "source": [
    "#########################\n",
    "def scraping_script_prediction():\n",
    "    global train_year, train_quarter, test_year,test_quarter,year_file_list\n",
    "    train_year=input('Enter train year')\n",
    "    train_quarter=input('Enter train quarter')\n",
    "    test_year=input('Enter test year')\n",
    "    test_quarter=input('Enter test quarter')\n",
    "    auto_login()\n",
    "    year_file_list=zip_file()\n",
    "    extract_zip()\n",
    "\n",
    "def auto_login():\n",
    "    global driver\n",
    "    driver = Browser()\n",
    "    driver.go_to('https://freddiemac.embs.com/FLoan/Data/download.php')\n",
    "    #driver.type('bhagat.san@husky.neu.edu' , into = 'username')\n",
    "    driver.type('turuvekeresreeniva.c@husky.neu.edu' , into = 'username')\n",
    "    driver.type('q69{{w?>' , into = 'password')\n",
    "    driver.click('Submit')\n",
    "    driver.click(text='', tag='input', id='', classname='accept')\n",
    "    driver.click('Continue')\n",
    "\n",
    "def zip_file():\n",
    "    quarter=['Q1','Q2','Q3','Q4']\n",
    "    year_file_list=[]\n",
    "    for i in range(2005,2018):\n",
    "        for j in quarter:  \n",
    "            year_file_list.append('historical_data1_'+str(j)+str(i)+'.zip')\n",
    "    return year_file_list\n",
    "\n",
    "def download_data(train_year,train_quarter,test_year,test_quarter):\n",
    "    train=train_quarter+train_year\n",
    "    test=test_quarter+test_year\n",
    "    downloaded_files=[]\n",
    "    for i in year_file_list:\n",
    "        if test in i:\n",
    "            driver.click(i)\n",
    "            #time.sleep(240)\n",
    "            downloaded_files.append(i)\n",
    "        if train in i:\n",
    "            driver.click(i)\n",
    "            #time.sleep(240)\n",
    "            downloaded_files.append(i)\n",
    "    return downloaded_files\n",
    "\n",
    "def extract_zip():\n",
    "    downloaded_files=download_data(train_year,train_quarter,test_year,test_quarter)\n",
    "    time.sleep(240)\n",
    "    current_path=os.getcwd()\n",
    "    path=current_path+'\\ExtractedFiles'\n",
    "    #download_path=current_path.split('Desktop')[0]+'\\\\'\n",
    "    download_path=current_path.split('Desktop')[0]+'Downloads\\\\'\n",
    "    for i in downloaded_files:\n",
    "        with ZipFile(download_path+i, 'r') as zip:\n",
    "            zip.extractall(path)\n"
   ]
  },
  {
   "cell_type": "code",
   "execution_count": 38,
   "metadata": {},
   "outputs": [
    {
     "data": {
      "text/plain": [
       "'C:\\\\Users\\\\chethan\\\\Desktop\\\\ADS'"
      ]
     },
     "execution_count": 38,
     "metadata": {},
     "output_type": "execute_result"
    }
   ],
   "source": [
    "os.getcwd()"
   ]
  },
  {
   "cell_type": "code",
   "execution_count": 39,
   "metadata": {},
   "outputs": [
    {
     "name": "stdout",
     "output_type": "stream",
     "text": [
      "Getting DATA\n",
      "Enter train year2005\n",
      "Enter train quarterQ1\n",
      "Enter test year2005\n",
      "Enter test quarterQ2\n"
     ]
    }
   ],
   "source": [
    "print(\"Getting DATA\")\n",
    "scraping_script_prediction()"
   ]
  },
  {
   "cell_type": "code",
   "execution_count": 40,
   "metadata": {},
   "outputs": [],
   "source": [
    "##################eos#######################"
   ]
  },
  {
   "cell_type": "code",
   "execution_count": 41,
   "metadata": {},
   "outputs": [],
   "source": [
    "global path\n",
    "\n",
    "path = os.getcwd()\n",
    "path_train = path+\"\\\\ExtractedFiles\\\\historical_data1_\"+str(train_quarter)+str(train_year)+\".txt\"\n",
    "path_test = path+\"\\\\ExtractedFiles\\\\historical_data1_\"+str(test_quarter)+str(test_year)+\".txt\""
   ]
  },
  {
   "cell_type": "code",
   "execution_count": 42,
   "metadata": {},
   "outputs": [],
   "source": [
    "##############After getting the data####################"
   ]
  },
  {
   "cell_type": "code",
   "execution_count": 43,
   "metadata": {},
   "outputs": [],
   "source": [
    "df_train = pd.read_table(path_train,sep='\\|',names = ('fico', 'dt_first_pi', 'flag_fthb', 'dt_matr', 'cd_msa', 'mi_pct',\n",
    "       'cnt_units', 'occpy_sts', 'cltv', 'dti', 'orig_upb', 'ltv',\n",
    "       'int_rt', 'channel', 'ppmt_pnlty', 'prod_type', 'st', 'prop_type',\n",
    "       'zipcode', 'id_loan', 'loan_purpose', 'orig_loan_term', 'cnt_borr',\n",
    "       'seller_name', 'servicer_name', 'flag_sc', 'Year'),engine='python')"
   ]
  },
  {
   "cell_type": "code",
   "execution_count": 44,
   "metadata": {},
   "outputs": [],
   "source": [
    "df_test = pd.read_table(path_test,sep='\\|',names = ('fico', 'dt_first_pi', 'flag_fthb', 'dt_matr', 'cd_msa', 'mi_pct',\n",
    "       'cnt_units', 'occpy_sts', 'cltv', 'dti', 'orig_upb', 'ltv',\n",
    "       'int_rt', 'channel', 'ppmt_pnlty', 'prod_type', 'st', 'prop_type',\n",
    "       'zipcode', 'id_loan', 'loan_purpose', 'orig_loan_term', 'cnt_borr',\n",
    "       'seller_name', 'servicer_name', 'flag_sc', 'Year'),engine='python')"
   ]
  },
  {
   "cell_type": "code",
   "execution_count": 45,
   "metadata": {},
   "outputs": [
    {
     "data": {
      "text/html": [
       "<div>\n",
       "<style scoped>\n",
       "    .dataframe tbody tr th:only-of-type {\n",
       "        vertical-align: middle;\n",
       "    }\n",
       "\n",
       "    .dataframe tbody tr th {\n",
       "        vertical-align: top;\n",
       "    }\n",
       "\n",
       "    .dataframe thead th {\n",
       "        text-align: right;\n",
       "    }\n",
       "</style>\n",
       "<table border=\"1\" class=\"dataframe\">\n",
       "  <thead>\n",
       "    <tr style=\"text-align: right;\">\n",
       "      <th></th>\n",
       "      <th>fico</th>\n",
       "      <th>dt_first_pi</th>\n",
       "      <th>flag_fthb</th>\n",
       "      <th>dt_matr</th>\n",
       "      <th>cd_msa</th>\n",
       "      <th>mi_pct</th>\n",
       "      <th>cnt_units</th>\n",
       "      <th>occpy_sts</th>\n",
       "      <th>cltv</th>\n",
       "      <th>dti</th>\n",
       "      <th>...</th>\n",
       "      <th>prop_type</th>\n",
       "      <th>zipcode</th>\n",
       "      <th>id_loan</th>\n",
       "      <th>loan_purpose</th>\n",
       "      <th>orig_loan_term</th>\n",
       "      <th>cnt_borr</th>\n",
       "      <th>seller_name</th>\n",
       "      <th>servicer_name</th>\n",
       "      <th>flag_sc</th>\n",
       "      <th>Year</th>\n",
       "    </tr>\n",
       "  </thead>\n",
       "  <tbody>\n",
       "    <tr>\n",
       "      <th>0</th>\n",
       "      <td>699</td>\n",
       "      <td>200505</td>\n",
       "      <td>N</td>\n",
       "      <td>203504</td>\n",
       "      <td>39300.0</td>\n",
       "      <td>0</td>\n",
       "      <td>1</td>\n",
       "      <td>P</td>\n",
       "      <td>56</td>\n",
       "      <td>42</td>\n",
       "      <td>...</td>\n",
       "      <td>SF</td>\n",
       "      <td>2800.0</td>\n",
       "      <td>F105Q1000001</td>\n",
       "      <td>C</td>\n",
       "      <td>360</td>\n",
       "      <td>2</td>\n",
       "      <td>Other sellers</td>\n",
       "      <td>USBANKNA</td>\n",
       "      <td>NaN</td>\n",
       "      <td>NaN</td>\n",
       "    </tr>\n",
       "    <tr>\n",
       "      <th>1</th>\n",
       "      <td>691</td>\n",
       "      <td>200504</td>\n",
       "      <td>N</td>\n",
       "      <td>203503</td>\n",
       "      <td>36420.0</td>\n",
       "      <td>25</td>\n",
       "      <td>1</td>\n",
       "      <td>P</td>\n",
       "      <td>90</td>\n",
       "      <td>36</td>\n",
       "      <td>...</td>\n",
       "      <td>SF</td>\n",
       "      <td>73000.0</td>\n",
       "      <td>F105Q1000002</td>\n",
       "      <td>N</td>\n",
       "      <td>360</td>\n",
       "      <td>1</td>\n",
       "      <td>Other sellers</td>\n",
       "      <td>Other servicers</td>\n",
       "      <td>NaN</td>\n",
       "      <td>NaN</td>\n",
       "    </tr>\n",
       "    <tr>\n",
       "      <th>2</th>\n",
       "      <td>713</td>\n",
       "      <td>200503</td>\n",
       "      <td>N</td>\n",
       "      <td>203502</td>\n",
       "      <td>28740.0</td>\n",
       "      <td>0</td>\n",
       "      <td>1</td>\n",
       "      <td>P</td>\n",
       "      <td>72</td>\n",
       "      <td>45</td>\n",
       "      <td>...</td>\n",
       "      <td>SF</td>\n",
       "      <td>12500.0</td>\n",
       "      <td>F105Q1000003</td>\n",
       "      <td>P</td>\n",
       "      <td>360</td>\n",
       "      <td>2</td>\n",
       "      <td>Other sellers</td>\n",
       "      <td>Other servicers</td>\n",
       "      <td>NaN</td>\n",
       "      <td>NaN</td>\n",
       "    </tr>\n",
       "    <tr>\n",
       "      <th>3</th>\n",
       "      <td>719</td>\n",
       "      <td>200505</td>\n",
       "      <td>N</td>\n",
       "      <td>203504</td>\n",
       "      <td>NaN</td>\n",
       "      <td>0</td>\n",
       "      <td>1</td>\n",
       "      <td>S</td>\n",
       "      <td>85</td>\n",
       "      <td>47</td>\n",
       "      <td>...</td>\n",
       "      <td>CO</td>\n",
       "      <td>65000.0</td>\n",
       "      <td>F105Q1000004</td>\n",
       "      <td>P</td>\n",
       "      <td>360</td>\n",
       "      <td>2</td>\n",
       "      <td>Other sellers</td>\n",
       "      <td>USBANKNA</td>\n",
       "      <td>NaN</td>\n",
       "      <td>NaN</td>\n",
       "    </tr>\n",
       "    <tr>\n",
       "      <th>4</th>\n",
       "      <td>656</td>\n",
       "      <td>200503</td>\n",
       "      <td>N</td>\n",
       "      <td>203502</td>\n",
       "      <td>40340.0</td>\n",
       "      <td>0</td>\n",
       "      <td>1</td>\n",
       "      <td>P</td>\n",
       "      <td>68</td>\n",
       "      <td>30</td>\n",
       "      <td>...</td>\n",
       "      <td>SF</td>\n",
       "      <td>55900.0</td>\n",
       "      <td>F105Q1000005</td>\n",
       "      <td>C</td>\n",
       "      <td>360</td>\n",
       "      <td>2</td>\n",
       "      <td>Other sellers</td>\n",
       "      <td>Other servicers</td>\n",
       "      <td>NaN</td>\n",
       "      <td>NaN</td>\n",
       "    </tr>\n",
       "  </tbody>\n",
       "</table>\n",
       "<p>5 rows × 27 columns</p>\n",
       "</div>"
      ],
      "text/plain": [
       "   fico  dt_first_pi flag_fthb  dt_matr   cd_msa  mi_pct  cnt_units occpy_sts  \\\n",
       "0   699       200505         N   203504  39300.0       0          1         P   \n",
       "1   691       200504         N   203503  36420.0      25          1         P   \n",
       "2   713       200503         N   203502  28740.0       0          1         P   \n",
       "3   719       200505         N   203504      NaN       0          1         S   \n",
       "4   656       200503         N   203502  40340.0       0          1         P   \n",
       "\n",
       "   cltv  dti ...   prop_type  zipcode       id_loan loan_purpose  \\\n",
       "0    56   42 ...          SF   2800.0  F105Q1000001            C   \n",
       "1    90   36 ...          SF  73000.0  F105Q1000002            N   \n",
       "2    72   45 ...          SF  12500.0  F105Q1000003            P   \n",
       "3    85   47 ...          CO  65000.0  F105Q1000004            P   \n",
       "4    68   30 ...          SF  55900.0  F105Q1000005            C   \n",
       "\n",
       "  orig_loan_term cnt_borr    seller_name    servicer_name  flag_sc Year  \n",
       "0            360        2  Other sellers         USBANKNA      NaN  NaN  \n",
       "1            360        1  Other sellers  Other servicers      NaN  NaN  \n",
       "2            360        2  Other sellers  Other servicers      NaN  NaN  \n",
       "3            360        2  Other sellers         USBANKNA      NaN  NaN  \n",
       "4            360        2  Other sellers  Other servicers      NaN  NaN  \n",
       "\n",
       "[5 rows x 27 columns]"
      ]
     },
     "execution_count": 45,
     "metadata": {},
     "output_type": "execute_result"
    }
   ],
   "source": [
    "df_train.head()"
   ]
  },
  {
   "cell_type": "code",
   "execution_count": 46,
   "metadata": {},
   "outputs": [
    {
     "data": {
      "text/html": [
       "<div>\n",
       "<style scoped>\n",
       "    .dataframe tbody tr th:only-of-type {\n",
       "        vertical-align: middle;\n",
       "    }\n",
       "\n",
       "    .dataframe tbody tr th {\n",
       "        vertical-align: top;\n",
       "    }\n",
       "\n",
       "    .dataframe thead th {\n",
       "        text-align: right;\n",
       "    }\n",
       "</style>\n",
       "<table border=\"1\" class=\"dataframe\">\n",
       "  <thead>\n",
       "    <tr style=\"text-align: right;\">\n",
       "      <th></th>\n",
       "      <th>fico</th>\n",
       "      <th>dt_first_pi</th>\n",
       "      <th>flag_fthb</th>\n",
       "      <th>dt_matr</th>\n",
       "      <th>cd_msa</th>\n",
       "      <th>mi_pct</th>\n",
       "      <th>cnt_units</th>\n",
       "      <th>occpy_sts</th>\n",
       "      <th>cltv</th>\n",
       "      <th>dti</th>\n",
       "      <th>...</th>\n",
       "      <th>prop_type</th>\n",
       "      <th>zipcode</th>\n",
       "      <th>id_loan</th>\n",
       "      <th>loan_purpose</th>\n",
       "      <th>orig_loan_term</th>\n",
       "      <th>cnt_borr</th>\n",
       "      <th>seller_name</th>\n",
       "      <th>servicer_name</th>\n",
       "      <th>flag_sc</th>\n",
       "      <th>Year</th>\n",
       "    </tr>\n",
       "  </thead>\n",
       "  <tbody>\n",
       "    <tr>\n",
       "      <th>0</th>\n",
       "      <td>715</td>\n",
       "      <td>200508</td>\n",
       "      <td>N</td>\n",
       "      <td>203507</td>\n",
       "      <td>33700.0</td>\n",
       "      <td>0</td>\n",
       "      <td>1</td>\n",
       "      <td>P</td>\n",
       "      <td>58</td>\n",
       "      <td>41</td>\n",
       "      <td>...</td>\n",
       "      <td>SF</td>\n",
       "      <td>95300.0</td>\n",
       "      <td>F105Q2000001</td>\n",
       "      <td>C</td>\n",
       "      <td>360</td>\n",
       "      <td>2</td>\n",
       "      <td>Other sellers</td>\n",
       "      <td>WELLSFARGOBANK,NA</td>\n",
       "      <td>NaN</td>\n",
       "      <td>NaN</td>\n",
       "    </tr>\n",
       "    <tr>\n",
       "      <th>1</th>\n",
       "      <td>743</td>\n",
       "      <td>200508</td>\n",
       "      <td>N</td>\n",
       "      <td>203507</td>\n",
       "      <td>NaN</td>\n",
       "      <td>0</td>\n",
       "      <td>1</td>\n",
       "      <td>P</td>\n",
       "      <td>80</td>\n",
       "      <td>36</td>\n",
       "      <td>...</td>\n",
       "      <td>SF</td>\n",
       "      <td>62400.0</td>\n",
       "      <td>F105Q2000002</td>\n",
       "      <td>N</td>\n",
       "      <td>360</td>\n",
       "      <td>2</td>\n",
       "      <td>Other sellers</td>\n",
       "      <td>PNCMTGESERVICES,INC</td>\n",
       "      <td>NaN</td>\n",
       "      <td>NaN</td>\n",
       "    </tr>\n",
       "    <tr>\n",
       "      <th>2</th>\n",
       "      <td>772</td>\n",
       "      <td>200508</td>\n",
       "      <td>N</td>\n",
       "      <td>203507</td>\n",
       "      <td>37860.0</td>\n",
       "      <td>0</td>\n",
       "      <td>1</td>\n",
       "      <td>P</td>\n",
       "      <td>80</td>\n",
       "      <td>34</td>\n",
       "      <td>...</td>\n",
       "      <td>PU</td>\n",
       "      <td>32500.0</td>\n",
       "      <td>F105Q2000003</td>\n",
       "      <td>P</td>\n",
       "      <td>360</td>\n",
       "      <td>1</td>\n",
       "      <td>Other sellers</td>\n",
       "      <td>Other servicers</td>\n",
       "      <td>NaN</td>\n",
       "      <td>NaN</td>\n",
       "    </tr>\n",
       "    <tr>\n",
       "      <th>3</th>\n",
       "      <td>773</td>\n",
       "      <td>200507</td>\n",
       "      <td>N</td>\n",
       "      <td>203506</td>\n",
       "      <td>NaN</td>\n",
       "      <td>0</td>\n",
       "      <td>1</td>\n",
       "      <td>P</td>\n",
       "      <td>64</td>\n",
       "      <td>60</td>\n",
       "      <td>...</td>\n",
       "      <td>SF</td>\n",
       "      <td>56300.0</td>\n",
       "      <td>F105Q2000004</td>\n",
       "      <td>N</td>\n",
       "      <td>360</td>\n",
       "      <td>2</td>\n",
       "      <td>Other sellers</td>\n",
       "      <td>USBANKNA</td>\n",
       "      <td>NaN</td>\n",
       "      <td>NaN</td>\n",
       "    </tr>\n",
       "    <tr>\n",
       "      <th>4</th>\n",
       "      <td>647</td>\n",
       "      <td>200508</td>\n",
       "      <td>N</td>\n",
       "      <td>203507</td>\n",
       "      <td>NaN</td>\n",
       "      <td>30</td>\n",
       "      <td>1</td>\n",
       "      <td>P</td>\n",
       "      <td>91</td>\n",
       "      <td>28</td>\n",
       "      <td>...</td>\n",
       "      <td>SF</td>\n",
       "      <td>49200.0</td>\n",
       "      <td>F105Q2000005</td>\n",
       "      <td>N</td>\n",
       "      <td>360</td>\n",
       "      <td>1</td>\n",
       "      <td>Other sellers</td>\n",
       "      <td>Other servicers</td>\n",
       "      <td>NaN</td>\n",
       "      <td>NaN</td>\n",
       "    </tr>\n",
       "  </tbody>\n",
       "</table>\n",
       "<p>5 rows × 27 columns</p>\n",
       "</div>"
      ],
      "text/plain": [
       "   fico  dt_first_pi flag_fthb  dt_matr   cd_msa  mi_pct  cnt_units occpy_sts  \\\n",
       "0   715       200508         N   203507  33700.0       0          1         P   \n",
       "1   743       200508         N   203507      NaN       0          1         P   \n",
       "2   772       200508         N   203507  37860.0       0          1         P   \n",
       "3   773       200507         N   203506      NaN       0          1         P   \n",
       "4   647       200508         N   203507      NaN      30          1         P   \n",
       "\n",
       "   cltv  dti ...   prop_type  zipcode       id_loan loan_purpose  \\\n",
       "0    58   41 ...          SF  95300.0  F105Q2000001            C   \n",
       "1    80   36 ...          SF  62400.0  F105Q2000002            N   \n",
       "2    80   34 ...          PU  32500.0  F105Q2000003            P   \n",
       "3    64   60 ...          SF  56300.0  F105Q2000004            N   \n",
       "4    91   28 ...          SF  49200.0  F105Q2000005            N   \n",
       "\n",
       "  orig_loan_term cnt_borr    seller_name        servicer_name  flag_sc Year  \n",
       "0            360        2  Other sellers    WELLSFARGOBANK,NA      NaN  NaN  \n",
       "1            360        2  Other sellers  PNCMTGESERVICES,INC      NaN  NaN  \n",
       "2            360        1  Other sellers      Other servicers      NaN  NaN  \n",
       "3            360        2  Other sellers             USBANKNA      NaN  NaN  \n",
       "4            360        1  Other sellers      Other servicers      NaN  NaN  \n",
       "\n",
       "[5 rows x 27 columns]"
      ]
     },
     "execution_count": 46,
     "metadata": {},
     "output_type": "execute_result"
    }
   ],
   "source": [
    "df_test.head()"
   ]
  },
  {
   "cell_type": "code",
   "execution_count": 47,
   "metadata": {},
   "outputs": [
    {
     "data": {
      "text/plain": [
       "array(['fico', 'dt_first_pi', 'flag_fthb', 'dt_matr', 'cd_msa', 'mi_pct',\n",
       "       'cnt_units', 'occpy_sts', 'cltv', 'dti', 'orig_upb', 'ltv',\n",
       "       'int_rt', 'channel', 'ppmt_pnlty', 'prod_type', 'st', 'prop_type',\n",
       "       'zipcode', 'id_loan', 'loan_purpose', 'orig_loan_term', 'cnt_borr',\n",
       "       'seller_name', 'servicer_name', 'flag_sc', 'Year'], dtype=object)"
      ]
     },
     "execution_count": 47,
     "metadata": {},
     "output_type": "execute_result"
    }
   ],
   "source": [
    "df_train.columns.values"
   ]
  },
  {
   "cell_type": "code",
   "execution_count": 48,
   "metadata": {},
   "outputs": [
    {
     "data": {
      "text/plain": [
       "array(['fico', 'dt_first_pi', 'flag_fthb', 'dt_matr', 'cd_msa', 'mi_pct',\n",
       "       'cnt_units', 'occpy_sts', 'cltv', 'dti', 'orig_upb', 'ltv',\n",
       "       'int_rt', 'channel', 'ppmt_pnlty', 'prod_type', 'st', 'prop_type',\n",
       "       'zipcode', 'id_loan', 'loan_purpose', 'orig_loan_term', 'cnt_borr',\n",
       "       'seller_name', 'servicer_name', 'flag_sc', 'Year'], dtype=object)"
      ]
     },
     "execution_count": 48,
     "metadata": {},
     "output_type": "execute_result"
    }
   ],
   "source": [
    "df_test.columns.values"
   ]
  },
  {
   "cell_type": "code",
   "execution_count": 49,
   "metadata": {},
   "outputs": [],
   "source": [
    "#######Data Cleaning##########\n",
    "def cleandata(df):\n",
    "\n",
    "\n",
    "    \n",
    "    #To convert the categorical to numerical\n",
    "    \n",
    "    df_sccstats = pd.get_dummies(df['occpy_sts'])\n",
    "    df_sccstats.columns = ['OS_I', 'OS_P', 'OS_S']\n",
    "    del df_sccstats['OS_I']\n",
    "    print(df_sccstats.head())\n",
    "    \n",
    "    df_channel = pd.get_dummies(df['channel'])\n",
    "    df_channel.columns = ['C_B', 'C_C', 'C_R','C_T']\n",
    "    del df_channel['C_B']\n",
    "    print(df_channel.head())\n",
    "    \n",
    "    df_ppmt = pd.get_dummies(df['ppmt_pnlty'])\n",
    "    df_ppmt.columns = ['ppmt_N0', 'ppmt_YES']\n",
    "    del df_ppmt['ppmt_YES']\n",
    "    print(df_ppmt.head())\n",
    "    \n",
    "    df_proptype = pd.get_dummies(df['prop_type'])\n",
    "    del df_proptype['99']\n",
    "    print(df_proptype.head())\n",
    "    \n",
    "    df_loanpurpose = pd.get_dummies(df['loan_purpose'])\n",
    "    print(df_loanpurpose.head())\n",
    "    \n",
    "    df_prodtype = pd.get_dummies(df['prod_type'])\n",
    "    print(df_prodtype.head())\n",
    "    \n",
    "    df_fthb = pd.get_dummies(df['flag_fthb'])\n",
    "    del df_fthb['9']\n",
    "    df_fthb.columns = ['fthb_N', 'fthb_Y']\n",
    "    print(df_fthb.head())\n",
    "    \n",
    "    df = df.join(df_sccstats)\n",
    "    df = df.join(df_channel)\n",
    "    df = df.join(df_ppmt)\n",
    "    df = df.join(df_prodtype)\n",
    "    df = df.join(df_proptype)\n",
    "    df = df.join(df_loanpurpose)\n",
    "    df = df.join(df_fthb)\n",
    "    del df['occpy_sts']\n",
    "    del df['channel']\n",
    "    del df['ppmt_pnlty']\n",
    "    del df['prod_type']\n",
    "    del df['prop_type']\n",
    "    del df['loan_purpose']\n",
    "    del df['flag_fthb']\n",
    "    \n",
    "    #To fill the missing values\n",
    "    df['cd_msa'].fillna(value=0,inplace= True)\n",
    "    df['mi_pct'].fillna(value=999,inplace= True)\n",
    "    df['cnt_units'].fillna(value=99,inplace= True)\n",
    "    df['cltv'].fillna(value=999,inplace= True)\n",
    "    df['dti'].fillna(value=999,inplace= True)\n",
    "    df['ltv'].fillna(value=999,inplace= True)\n",
    "    df.fillna(value=0,inplace= True)\n",
    "\n",
    "    #dropping these features\n",
    "    del df['id_loan']\n",
    "    del df['seller_name']\n",
    "    del df['servicer_name']\n",
    "    del df['st']\n",
    "    print(\"Final columns : \")\n",
    "    print(df.columns)\n",
    "    return df\n"
   ]
  },
  {
   "cell_type": "code",
   "execution_count": 50,
   "metadata": {},
   "outputs": [
    {
     "name": "stdout",
     "output_type": "stream",
     "text": [
      "   OS_P  OS_S\n",
      "0     1     0\n",
      "1     1     0\n",
      "2     1     0\n",
      "3     0     1\n",
      "4     1     0\n",
      "   C_C  C_R  C_T\n",
      "0    0    1    0\n",
      "1    0    1    0\n",
      "2    0    1    0\n",
      "3    0    1    0\n",
      "4    0    1    0\n",
      "   ppmt_N0\n",
      "0        1\n",
      "1        1\n",
      "2        1\n",
      "3        1\n",
      "4        1\n",
      "   CO  CP  MH  PU  SF\n",
      "0   0   0   0   0   1\n",
      "1   0   0   0   0   1\n",
      "2   0   0   0   0   1\n",
      "3   1   0   0   0   0\n",
      "4   0   0   0   0   1\n",
      "   C  N  P\n",
      "0  1  0  0\n",
      "1  0  1  0\n",
      "2  0  0  1\n",
      "3  0  0  1\n",
      "4  1  0  0\n",
      "   FRM\n",
      "0    1\n",
      "1    1\n",
      "2    1\n",
      "3    1\n",
      "4    1\n",
      "   fthb_N  fthb_Y\n",
      "0       1       0\n",
      "1       1       0\n",
      "2       1       0\n",
      "3       1       0\n",
      "4       1       0\n",
      "Final columns : \n",
      "Index(['fico', 'dt_first_pi', 'dt_matr', 'cd_msa', 'mi_pct', 'cnt_units',\n",
      "       'cltv', 'dti', 'orig_upb', 'ltv', 'int_rt', 'zipcode', 'orig_loan_term',\n",
      "       'cnt_borr', 'flag_sc', 'Year', 'OS_P', 'OS_S', 'C_C', 'C_R', 'C_T',\n",
      "       'ppmt_N0', 'FRM', 'CO', 'CP', 'MH', 'PU', 'SF', 'C', 'N', 'P', 'fthb_N',\n",
      "       'fthb_Y'],\n",
      "      dtype='object')\n"
     ]
    }
   ],
   "source": [
    "#Cleaned Final DataFrame\n",
    "df_train_cleaned = cleandata(df_train)\n"
   ]
  },
  {
   "cell_type": "code",
   "execution_count": 51,
   "metadata": {},
   "outputs": [
    {
     "name": "stdout",
     "output_type": "stream",
     "text": [
      "   OS_P  OS_S\n",
      "0     1     0\n",
      "1     1     0\n",
      "2     1     0\n",
      "3     1     0\n",
      "4     1     0\n",
      "   C_C  C_R  C_T\n",
      "0    0    1    0\n",
      "1    0    1    0\n",
      "2    0    1    0\n",
      "3    0    1    0\n",
      "4    0    1    0\n",
      "   ppmt_N0\n",
      "0        1\n",
      "1        1\n",
      "2        1\n",
      "3        1\n",
      "4        1\n",
      "   CO  CP  MH  PU  SF\n",
      "0   0   0   0   0   1\n",
      "1   0   0   0   0   1\n",
      "2   0   0   0   1   0\n",
      "3   0   0   0   0   1\n",
      "4   0   0   0   0   1\n",
      "   C  N  P\n",
      "0  1  0  0\n",
      "1  0  1  0\n",
      "2  0  0  1\n",
      "3  0  1  0\n",
      "4  0  1  0\n",
      "   FRM\n",
      "0    1\n",
      "1    1\n",
      "2    1\n",
      "3    1\n",
      "4    1\n",
      "   fthb_N  fthb_Y\n",
      "0       1       0\n",
      "1       1       0\n",
      "2       1       0\n",
      "3       1       0\n",
      "4       1       0\n",
      "Final columns : \n",
      "Index(['fico', 'dt_first_pi', 'dt_matr', 'cd_msa', 'mi_pct', 'cnt_units',\n",
      "       'cltv', 'dti', 'orig_upb', 'ltv', 'int_rt', 'zipcode', 'orig_loan_term',\n",
      "       'cnt_borr', 'flag_sc', 'Year', 'OS_P', 'OS_S', 'C_C', 'C_R', 'C_T',\n",
      "       'ppmt_N0', 'FRM', 'CO', 'CP', 'MH', 'PU', 'SF', 'C', 'N', 'P', 'fthb_N',\n",
      "       'fthb_Y'],\n",
      "      dtype='object')\n"
     ]
    }
   ],
   "source": [
    "df_test_cleaned = cleandata(df_test)"
   ]
  },
  {
   "cell_type": "code",
   "execution_count": 52,
   "metadata": {},
   "outputs": [
    {
     "data": {
      "text/html": [
       "<div>\n",
       "<style scoped>\n",
       "    .dataframe tbody tr th:only-of-type {\n",
       "        vertical-align: middle;\n",
       "    }\n",
       "\n",
       "    .dataframe tbody tr th {\n",
       "        vertical-align: top;\n",
       "    }\n",
       "\n",
       "    .dataframe thead th {\n",
       "        text-align: right;\n",
       "    }\n",
       "</style>\n",
       "<table border=\"1\" class=\"dataframe\">\n",
       "  <thead>\n",
       "    <tr style=\"text-align: right;\">\n",
       "      <th></th>\n",
       "      <th>fico</th>\n",
       "      <th>dt_first_pi</th>\n",
       "      <th>dt_matr</th>\n",
       "      <th>cd_msa</th>\n",
       "      <th>mi_pct</th>\n",
       "      <th>cnt_units</th>\n",
       "      <th>cltv</th>\n",
       "      <th>dti</th>\n",
       "      <th>orig_upb</th>\n",
       "      <th>ltv</th>\n",
       "      <th>...</th>\n",
       "      <th>CO</th>\n",
       "      <th>CP</th>\n",
       "      <th>MH</th>\n",
       "      <th>PU</th>\n",
       "      <th>SF</th>\n",
       "      <th>C</th>\n",
       "      <th>N</th>\n",
       "      <th>P</th>\n",
       "      <th>fthb_N</th>\n",
       "      <th>fthb_Y</th>\n",
       "    </tr>\n",
       "  </thead>\n",
       "  <tbody>\n",
       "    <tr>\n",
       "      <th>0</th>\n",
       "      <td>699</td>\n",
       "      <td>200505</td>\n",
       "      <td>203504</td>\n",
       "      <td>39300.0</td>\n",
       "      <td>0</td>\n",
       "      <td>1</td>\n",
       "      <td>56</td>\n",
       "      <td>42</td>\n",
       "      <td>190000</td>\n",
       "      <td>56</td>\n",
       "      <td>...</td>\n",
       "      <td>0</td>\n",
       "      <td>0</td>\n",
       "      <td>0</td>\n",
       "      <td>0</td>\n",
       "      <td>1</td>\n",
       "      <td>1</td>\n",
       "      <td>0</td>\n",
       "      <td>0</td>\n",
       "      <td>1</td>\n",
       "      <td>0</td>\n",
       "    </tr>\n",
       "    <tr>\n",
       "      <th>1</th>\n",
       "      <td>691</td>\n",
       "      <td>200504</td>\n",
       "      <td>203503</td>\n",
       "      <td>36420.0</td>\n",
       "      <td>25</td>\n",
       "      <td>1</td>\n",
       "      <td>90</td>\n",
       "      <td>36</td>\n",
       "      <td>90000</td>\n",
       "      <td>90</td>\n",
       "      <td>...</td>\n",
       "      <td>0</td>\n",
       "      <td>0</td>\n",
       "      <td>0</td>\n",
       "      <td>0</td>\n",
       "      <td>1</td>\n",
       "      <td>0</td>\n",
       "      <td>1</td>\n",
       "      <td>0</td>\n",
       "      <td>1</td>\n",
       "      <td>0</td>\n",
       "    </tr>\n",
       "    <tr>\n",
       "      <th>2</th>\n",
       "      <td>713</td>\n",
       "      <td>200503</td>\n",
       "      <td>203502</td>\n",
       "      <td>28740.0</td>\n",
       "      <td>0</td>\n",
       "      <td>1</td>\n",
       "      <td>72</td>\n",
       "      <td>45</td>\n",
       "      <td>357000</td>\n",
       "      <td>72</td>\n",
       "      <td>...</td>\n",
       "      <td>0</td>\n",
       "      <td>0</td>\n",
       "      <td>0</td>\n",
       "      <td>0</td>\n",
       "      <td>1</td>\n",
       "      <td>0</td>\n",
       "      <td>0</td>\n",
       "      <td>1</td>\n",
       "      <td>1</td>\n",
       "      <td>0</td>\n",
       "    </tr>\n",
       "    <tr>\n",
       "      <th>3</th>\n",
       "      <td>719</td>\n",
       "      <td>200505</td>\n",
       "      <td>203504</td>\n",
       "      <td>0.0</td>\n",
       "      <td>0</td>\n",
       "      <td>1</td>\n",
       "      <td>85</td>\n",
       "      <td>47</td>\n",
       "      <td>195000</td>\n",
       "      <td>68</td>\n",
       "      <td>...</td>\n",
       "      <td>1</td>\n",
       "      <td>0</td>\n",
       "      <td>0</td>\n",
       "      <td>0</td>\n",
       "      <td>0</td>\n",
       "      <td>0</td>\n",
       "      <td>0</td>\n",
       "      <td>1</td>\n",
       "      <td>1</td>\n",
       "      <td>0</td>\n",
       "    </tr>\n",
       "    <tr>\n",
       "      <th>4</th>\n",
       "      <td>656</td>\n",
       "      <td>200503</td>\n",
       "      <td>203502</td>\n",
       "      <td>40340.0</td>\n",
       "      <td>0</td>\n",
       "      <td>1</td>\n",
       "      <td>68</td>\n",
       "      <td>30</td>\n",
       "      <td>253000</td>\n",
       "      <td>68</td>\n",
       "      <td>...</td>\n",
       "      <td>0</td>\n",
       "      <td>0</td>\n",
       "      <td>0</td>\n",
       "      <td>0</td>\n",
       "      <td>1</td>\n",
       "      <td>1</td>\n",
       "      <td>0</td>\n",
       "      <td>0</td>\n",
       "      <td>1</td>\n",
       "      <td>0</td>\n",
       "    </tr>\n",
       "  </tbody>\n",
       "</table>\n",
       "<p>5 rows × 33 columns</p>\n",
       "</div>"
      ],
      "text/plain": [
       "   fico  dt_first_pi  dt_matr   cd_msa  mi_pct  cnt_units  cltv  dti  \\\n",
       "0   699       200505   203504  39300.0       0          1    56   42   \n",
       "1   691       200504   203503  36420.0      25          1    90   36   \n",
       "2   713       200503   203502  28740.0       0          1    72   45   \n",
       "3   719       200505   203504      0.0       0          1    85   47   \n",
       "4   656       200503   203502  40340.0       0          1    68   30   \n",
       "\n",
       "   orig_upb  ltv   ...    CO  CP  MH  PU  SF  C  N  P  fthb_N  fthb_Y  \n",
       "0    190000   56   ...     0   0   0   0   1  1  0  0       1       0  \n",
       "1     90000   90   ...     0   0   0   0   1  0  1  0       1       0  \n",
       "2    357000   72   ...     0   0   0   0   1  0  0  1       1       0  \n",
       "3    195000   68   ...     1   0   0   0   0  0  0  1       1       0  \n",
       "4    253000   68   ...     0   0   0   0   1  1  0  0       1       0  \n",
       "\n",
       "[5 rows x 33 columns]"
      ]
     },
     "execution_count": 52,
     "metadata": {},
     "output_type": "execute_result"
    }
   ],
   "source": [
    "df_train_cleaned.head()"
   ]
  },
  {
   "cell_type": "code",
   "execution_count": 53,
   "metadata": {},
   "outputs": [
    {
     "data": {
      "text/html": [
       "<div>\n",
       "<style scoped>\n",
       "    .dataframe tbody tr th:only-of-type {\n",
       "        vertical-align: middle;\n",
       "    }\n",
       "\n",
       "    .dataframe tbody tr th {\n",
       "        vertical-align: top;\n",
       "    }\n",
       "\n",
       "    .dataframe thead th {\n",
       "        text-align: right;\n",
       "    }\n",
       "</style>\n",
       "<table border=\"1\" class=\"dataframe\">\n",
       "  <thead>\n",
       "    <tr style=\"text-align: right;\">\n",
       "      <th></th>\n",
       "      <th>fico</th>\n",
       "      <th>dt_first_pi</th>\n",
       "      <th>dt_matr</th>\n",
       "      <th>cd_msa</th>\n",
       "      <th>mi_pct</th>\n",
       "      <th>cnt_units</th>\n",
       "      <th>cltv</th>\n",
       "      <th>dti</th>\n",
       "      <th>orig_upb</th>\n",
       "      <th>ltv</th>\n",
       "      <th>...</th>\n",
       "      <th>CO</th>\n",
       "      <th>CP</th>\n",
       "      <th>MH</th>\n",
       "      <th>PU</th>\n",
       "      <th>SF</th>\n",
       "      <th>C</th>\n",
       "      <th>N</th>\n",
       "      <th>P</th>\n",
       "      <th>fthb_N</th>\n",
       "      <th>fthb_Y</th>\n",
       "    </tr>\n",
       "  </thead>\n",
       "  <tbody>\n",
       "    <tr>\n",
       "      <th>0</th>\n",
       "      <td>715</td>\n",
       "      <td>200508</td>\n",
       "      <td>203507</td>\n",
       "      <td>33700.0</td>\n",
       "      <td>0</td>\n",
       "      <td>1</td>\n",
       "      <td>58</td>\n",
       "      <td>41</td>\n",
       "      <td>214000</td>\n",
       "      <td>58</td>\n",
       "      <td>...</td>\n",
       "      <td>0</td>\n",
       "      <td>0</td>\n",
       "      <td>0</td>\n",
       "      <td>0</td>\n",
       "      <td>1</td>\n",
       "      <td>1</td>\n",
       "      <td>0</td>\n",
       "      <td>0</td>\n",
       "      <td>1</td>\n",
       "      <td>0</td>\n",
       "    </tr>\n",
       "    <tr>\n",
       "      <th>1</th>\n",
       "      <td>743</td>\n",
       "      <td>200508</td>\n",
       "      <td>203507</td>\n",
       "      <td>0.0</td>\n",
       "      <td>0</td>\n",
       "      <td>1</td>\n",
       "      <td>80</td>\n",
       "      <td>36</td>\n",
       "      <td>340000</td>\n",
       "      <td>80</td>\n",
       "      <td>...</td>\n",
       "      <td>0</td>\n",
       "      <td>0</td>\n",
       "      <td>0</td>\n",
       "      <td>0</td>\n",
       "      <td>1</td>\n",
       "      <td>0</td>\n",
       "      <td>1</td>\n",
       "      <td>0</td>\n",
       "      <td>1</td>\n",
       "      <td>0</td>\n",
       "    </tr>\n",
       "    <tr>\n",
       "      <th>2</th>\n",
       "      <td>772</td>\n",
       "      <td>200508</td>\n",
       "      <td>203507</td>\n",
       "      <td>37860.0</td>\n",
       "      <td>0</td>\n",
       "      <td>1</td>\n",
       "      <td>80</td>\n",
       "      <td>34</td>\n",
       "      <td>184000</td>\n",
       "      <td>80</td>\n",
       "      <td>...</td>\n",
       "      <td>0</td>\n",
       "      <td>0</td>\n",
       "      <td>0</td>\n",
       "      <td>1</td>\n",
       "      <td>0</td>\n",
       "      <td>0</td>\n",
       "      <td>0</td>\n",
       "      <td>1</td>\n",
       "      <td>1</td>\n",
       "      <td>0</td>\n",
       "    </tr>\n",
       "    <tr>\n",
       "      <th>3</th>\n",
       "      <td>773</td>\n",
       "      <td>200507</td>\n",
       "      <td>203506</td>\n",
       "      <td>0.0</td>\n",
       "      <td>0</td>\n",
       "      <td>1</td>\n",
       "      <td>64</td>\n",
       "      <td>60</td>\n",
       "      <td>260000</td>\n",
       "      <td>64</td>\n",
       "      <td>...</td>\n",
       "      <td>0</td>\n",
       "      <td>0</td>\n",
       "      <td>0</td>\n",
       "      <td>0</td>\n",
       "      <td>1</td>\n",
       "      <td>0</td>\n",
       "      <td>1</td>\n",
       "      <td>0</td>\n",
       "      <td>1</td>\n",
       "      <td>0</td>\n",
       "    </tr>\n",
       "    <tr>\n",
       "      <th>4</th>\n",
       "      <td>647</td>\n",
       "      <td>200508</td>\n",
       "      <td>203507</td>\n",
       "      <td>0.0</td>\n",
       "      <td>30</td>\n",
       "      <td>1</td>\n",
       "      <td>91</td>\n",
       "      <td>28</td>\n",
       "      <td>170000</td>\n",
       "      <td>91</td>\n",
       "      <td>...</td>\n",
       "      <td>0</td>\n",
       "      <td>0</td>\n",
       "      <td>0</td>\n",
       "      <td>0</td>\n",
       "      <td>1</td>\n",
       "      <td>0</td>\n",
       "      <td>1</td>\n",
       "      <td>0</td>\n",
       "      <td>1</td>\n",
       "      <td>0</td>\n",
       "    </tr>\n",
       "  </tbody>\n",
       "</table>\n",
       "<p>5 rows × 33 columns</p>\n",
       "</div>"
      ],
      "text/plain": [
       "   fico  dt_first_pi  dt_matr   cd_msa  mi_pct  cnt_units  cltv  dti  \\\n",
       "0   715       200508   203507  33700.0       0          1    58   41   \n",
       "1   743       200508   203507      0.0       0          1    80   36   \n",
       "2   772       200508   203507  37860.0       0          1    80   34   \n",
       "3   773       200507   203506      0.0       0          1    64   60   \n",
       "4   647       200508   203507      0.0      30          1    91   28   \n",
       "\n",
       "   orig_upb  ltv   ...    CO  CP  MH  PU  SF  C  N  P  fthb_N  fthb_Y  \n",
       "0    214000   58   ...     0   0   0   0   1  1  0  0       1       0  \n",
       "1    340000   80   ...     0   0   0   0   1  0  1  0       1       0  \n",
       "2    184000   80   ...     0   0   0   1   0  0  0  1       1       0  \n",
       "3    260000   64   ...     0   0   0   0   1  0  1  0       1       0  \n",
       "4    170000   91   ...     0   0   0   0   1  0  1  0       1       0  \n",
       "\n",
       "[5 rows x 33 columns]"
      ]
     },
     "execution_count": 53,
     "metadata": {},
     "output_type": "execute_result"
    }
   ],
   "source": [
    "df_test_cleaned.head()"
   ]
  },
  {
   "cell_type": "code",
   "execution_count": 54,
   "metadata": {},
   "outputs": [],
   "source": [
    "def mae(org,pred):\n",
    "    return mean_absolute_error(org,pred)\n",
    "def rmse(org,pred):\n",
    "    return np.sqrt(mean_squared_error(org,pred))\n",
    "def mape(org,pred):\n",
    "    y_true, y_pred = np.array(org), np.array(pred)\n",
    "    return np.mean(np.abs((y_true - y_pred) / y_true)) * 100"
   ]
  },
  {
   "cell_type": "code",
   "execution_count": 55,
   "metadata": {},
   "outputs": [],
   "source": [
    "def scores(model,yorg,ypred):\n",
    "    print(\"The scores for the model : \",model)\n",
    "    print(\"MAE    :    \",mae(yorg,ypred))\n",
    "    print(\"RMSE   :    \",rmse(yorg,ypred))\n",
    "    print(\"MAPE   :    \",mape(yorg,ypred))"
   ]
  },
  {
   "cell_type": "code",
   "execution_count": 56,
   "metadata": {},
   "outputs": [],
   "source": [
    "#To split the data\n",
    "#X_train, X_test, y_train, y_test = train_test_split(X, y, test_size=0.3, random_state=2)"
   ]
  },
  {
   "cell_type": "code",
   "execution_count": 57,
   "metadata": {},
   "outputs": [],
   "source": [
    "yt = df_train_cleaned['int_rt']\n",
    "del df_train_cleaned['int_rt']"
   ]
  },
  {
   "cell_type": "code",
   "execution_count": 58,
   "metadata": {},
   "outputs": [],
   "source": [
    "ytest = df_test_cleaned['int_rt']\n",
    "del df_test_cleaned['int_rt']"
   ]
  },
  {
   "cell_type": "code",
   "execution_count": 59,
   "metadata": {},
   "outputs": [],
   "source": [
    "X_train = df_train_cleaned\n",
    "#print(X_train)"
   ]
  },
  {
   "cell_type": "code",
   "execution_count": 60,
   "metadata": {},
   "outputs": [],
   "source": [
    "X_test = df_test_cleaned\n",
    "#print(X_test)"
   ]
  },
  {
   "cell_type": "code",
   "execution_count": 61,
   "metadata": {},
   "outputs": [],
   "source": [
    "y_train = yt\n",
    "#print(y_train)"
   ]
  },
  {
   "cell_type": "code",
   "execution_count": 62,
   "metadata": {},
   "outputs": [],
   "source": [
    "y_test = ytest\n",
    "#print(y_test)"
   ]
  },
  {
   "cell_type": "markdown",
   "metadata": {},
   "source": [
    "# Linear Regression"
   ]
  },
  {
   "cell_type": "code",
   "execution_count": 63,
   "metadata": {},
   "outputs": [
    {
     "data": {
      "text/plain": [
       "LinearRegression(copy_X=True, fit_intercept=True, n_jobs=1, normalize=False)"
      ]
     },
     "execution_count": 63,
     "metadata": {},
     "output_type": "execute_result"
    }
   ],
   "source": [
    "#Linear Regression Model\n",
    "lm=LinearRegression()\n",
    "lm.fit(X_train,y_train)\n"
   ]
  },
  {
   "cell_type": "code",
   "execution_count": 64,
   "metadata": {},
   "outputs": [
    {
     "name": "stdout",
     "output_type": "stream",
     "text": [
      "-300.19432418788926\n",
      "[-3.46041833e-05  3.67446641e-03 -2.14985602e-03  4.49422677e-07\n",
      "  1.30464879e-03  7.24071954e-03  1.41969164e-04  4.08816111e-05\n",
      " -8.00389998e-07  1.93406811e-03 -1.34351673e-07  2.05762806e-02\n",
      " -2.16327439e-03 -6.35602682e-15  6.13398221e-15 -3.41215298e-01\n",
      " -3.21589529e-01  3.21687193e-01 -1.71244714e-01 -2.47896691e-01\n",
      " -7.92531503e-02  4.23272528e-16 -1.31991961e-02  4.02763284e-02\n",
      "  2.47172281e-01 -3.20793214e-02 -3.31361132e-02  3.27937460e-02\n",
      "  1.67888722e-02 -4.95826182e-02 -3.45135845e-02 -1.11949425e-02]\n"
     ]
    }
   ],
   "source": [
    "print(lm.intercept_)\n",
    "print(lm.coef_)\n",
    "cdf=pd.DataFrame(lm.coef_,df_train_cleaned.columns,columns=['Coeff'])"
   ]
  },
  {
   "cell_type": "code",
   "execution_count": 65,
   "metadata": {},
   "outputs": [
    {
     "name": "stdout",
     "output_type": "stream",
     "text": [
      "                       Coeff\n",
      "fico           -3.460418e-05\n",
      "dt_first_pi     3.674466e-03\n",
      "dt_matr        -2.149856e-03\n",
      "cd_msa          4.494227e-07\n",
      "mi_pct          1.304649e-03\n",
      "cnt_units       7.240720e-03\n",
      "cltv            1.419692e-04\n",
      "dti             4.088161e-05\n",
      "orig_upb       -8.003900e-07\n",
      "ltv             1.934068e-03\n",
      "zipcode        -1.343517e-07\n",
      "orig_loan_term  2.057628e-02\n",
      "cnt_borr       -2.163274e-03\n",
      "flag_sc        -6.356027e-15\n",
      "Year            6.133982e-15\n",
      "OS_P           -3.412153e-01\n",
      "OS_S           -3.215895e-01\n",
      "C_C             3.216872e-01\n",
      "C_R            -1.712447e-01\n",
      "C_T            -2.478967e-01\n",
      "ppmt_N0        -7.925315e-02\n",
      "FRM             4.232725e-16\n",
      "CO             -1.319920e-02\n",
      "CP              4.027633e-02\n",
      "MH              2.471723e-01\n",
      "PU             -3.207932e-02\n",
      "SF             -3.313611e-02\n",
      "C               3.279375e-02\n",
      "N               1.678887e-02\n",
      "P              -4.958262e-02\n",
      "fthb_N         -3.451358e-02\n",
      "fthb_Y         -1.119494e-02\n"
     ]
    }
   ],
   "source": [
    "print(cdf)"
   ]
  },
  {
   "cell_type": "code",
   "execution_count": 66,
   "metadata": {},
   "outputs": [],
   "source": [
    "def prediction_function(variable_set):\n",
    "    return lm.predict(variable_set)\n"
   ]
  },
  {
   "cell_type": "code",
   "execution_count": 67,
   "metadata": {},
   "outputs": [
    {
     "name": "stdout",
     "output_type": "stream",
     "text": [
      "[5.79306829 5.95024829 5.60078324 ... 5.90347446 5.85613869 5.86321381]\n"
     ]
    }
   ],
   "source": [
    "train_prediction=prediction_function(X_train)\n",
    "print(train_prediction)"
   ]
  },
  {
   "cell_type": "code",
   "execution_count": 68,
   "metadata": {},
   "outputs": [
    {
     "name": "stdout",
     "output_type": "stream",
     "text": [
      "[5.76704599 5.6839661  5.76562249 ... 5.88667989 5.85562778 5.8663195 ]\n"
     ]
    }
   ],
   "source": [
    "test_prediction=prediction_function(X_test)\n",
    "print(test_prediction)"
   ]
  },
  {
   "cell_type": "code",
   "execution_count": 69,
   "metadata": {},
   "outputs": [
    {
     "name": "stdout",
     "output_type": "stream",
     "text": [
      "Scores for test\n",
      "The scores for the model :  Linear Regression\n",
      "MAE    :     0.24579004505575627\n",
      "RMSE   :     0.3222976244659248\n",
      "MAPE   :     4.195856777807941\n"
     ]
    }
   ],
   "source": [
    "print(\"Scores for test\")\n",
    "scores(\"Linear Regression\",y_test,test_prediction)"
   ]
  },
  {
   "cell_type": "code",
   "execution_count": 70,
   "metadata": {},
   "outputs": [
    {
     "name": "stdout",
     "output_type": "stream",
     "text": [
      "Scores for train\n",
      "The scores for the model :  Linear Regression\n",
      "MAE    :     0.21296023996230556\n",
      "RMSE   :     0.28933832294383566\n",
      "MAPE   :     3.7688328173372856\n"
     ]
    }
   ],
   "source": [
    "print(\"Scores for train\")\n",
    "scores(\"Linear Regression\",y_train,train_prediction)\n",
    "########Test on Q22005 and automate#########"
   ]
  },
  {
   "cell_type": "markdown",
   "metadata": {},
   "source": [
    "# MLP Regressor"
   ]
  },
  {
   "cell_type": "code",
   "execution_count": 75,
   "metadata": {},
   "outputs": [],
   "source": [
    "param_grid = {'activation' : ['tanh', 'relu'],'solver' : ['adam', 'sgd']}"
   ]
  },
  {
   "cell_type": "code",
   "execution_count": 76,
   "metadata": {},
   "outputs": [],
   "source": [
    "rf = MLPRegressor()"
   ]
  },
  {
   "cell_type": "code",
   "execution_count": 77,
   "metadata": {},
   "outputs": [],
   "source": [
    "gs = GridSearchCV(rf, param_grid=param_grid, cv = 2, n_jobs = -1, verbose=3, refit=True)"
   ]
  },
  {
   "cell_type": "code",
   "execution_count": 78,
   "metadata": {},
   "outputs": [
    {
     "name": "stdout",
     "output_type": "stream",
     "text": [
      "Fitting 2 folds for each of 4 candidates, totalling 8 fits\n"
     ]
    },
    {
     "name": "stderr",
     "output_type": "stream",
     "text": [
      "[Parallel(n_jobs=-1)]: Done   2 out of   8 | elapsed:   38.1s remaining:  1.9min\n",
      "[Parallel(n_jobs=-1)]: Done   5 out of   8 | elapsed:   43.7s remaining:   26.2s\n",
      "[Parallel(n_jobs=-1)]: Done   8 out of   8 | elapsed:  5.0min remaining:    0.0s\n",
      "[Parallel(n_jobs=-1)]: Done   8 out of   8 | elapsed:  5.0min finished\n"
     ]
    },
    {
     "data": {
      "text/plain": [
       "GridSearchCV(cv=2, error_score='raise',\n",
       "       estimator=MLPRegressor(activation='relu', alpha=0.0001, batch_size='auto', beta_1=0.9,\n",
       "       beta_2=0.999, early_stopping=False, epsilon=1e-08,\n",
       "       hidden_layer_sizes=(100,), learning_rate='constant',\n",
       "       learning_rate_init=0.001, max_iter=200, momentum=0.9,\n",
       "       nesterovs_momentum=True, power_t=0.5, random_state=None,\n",
       "       shuffle=True, solver='adam', tol=0.0001, validation_fraction=0.1,\n",
       "       verbose=False, warm_start=False),\n",
       "       fit_params=None, iid=True, n_jobs=-1,\n",
       "       param_grid={'activation': ['tanh', 'relu'], 'solver': ['adam', 'sgd']},\n",
       "       pre_dispatch='2*n_jobs', refit=True, return_train_score='warn',\n",
       "       scoring=None, verbose=3)"
      ]
     },
     "execution_count": 78,
     "metadata": {},
     "output_type": "execute_result"
    }
   ],
   "source": [
    "gs.fit(X_train, y_train)"
   ]
  },
  {
   "cell_type": "code",
   "execution_count": 79,
   "metadata": {},
   "outputs": [
    {
     "data": {
      "text/plain": [
       "{'activation': 'tanh', 'solver': 'adam'}"
      ]
     },
     "execution_count": 79,
     "metadata": {},
     "output_type": "execute_result"
    }
   ],
   "source": [
    "gs.best_params_"
   ]
  },
  {
   "cell_type": "code",
   "execution_count": 80,
   "metadata": {},
   "outputs": [],
   "source": [
    "#Manual\n",
    "##mlp = MLPRegressor(hidden_layer_sizes=(100,), activation='tanh', solver='adam', alpha=0.0001, batch_size='auto',learning_rate_init=0.001)\n",
    "#mlp.fit(X_train, y_train)"
   ]
  },
  {
   "cell_type": "code",
   "execution_count": 81,
   "metadata": {},
   "outputs": [],
   "source": [
    "ypredtrain_mlp = gs.predict(X_train)\n"
   ]
  },
  {
   "cell_type": "code",
   "execution_count": 82,
   "metadata": {},
   "outputs": [],
   "source": [
    "ypredtest_mlp= gs.predict(X_test)"
   ]
  },
  {
   "cell_type": "code",
   "execution_count": 83,
   "metadata": {},
   "outputs": [
    {
     "name": "stdout",
     "output_type": "stream",
     "text": [
      "Scores for test\n",
      "The scores for the model :  MLP\n",
      "MAE    :     0.2888302755394753\n",
      "RMSE   :     0.3725165406292345\n",
      "MAPE   :     4.917730603477626\n"
     ]
    }
   ],
   "source": [
    "print(\"Scores for test\")\n",
    "scores(\"MLP\",y_test,ypredtest_mlp)"
   ]
  },
  {
   "cell_type": "code",
   "execution_count": 84,
   "metadata": {},
   "outputs": [
    {
     "name": "stdout",
     "output_type": "stream",
     "text": [
      "Scores for train\n",
      "The scores for the model :  MLP\n",
      "MAE    :     0.2817389631950272\n",
      "RMSE   :     0.36711282927604916\n",
      "MAPE   :     5.023967210417156\n"
     ]
    }
   ],
   "source": [
    "print(\"Scores for train\")\n",
    "scores(\"MLP\",y_train,ypredtrain_mlp)"
   ]
  },
  {
   "cell_type": "markdown",
   "metadata": {},
   "source": [
    "# Random Forest"
   ]
  },
  {
   "cell_type": "code",
   "execution_count": 85,
   "metadata": {},
   "outputs": [],
   "source": [
    "est= RandomForestRegressor()\n",
    "minmax_scaler = preprocessing.MinMaxScaler()\n",
    "selector = feature_selection.RFE(est)\n",
    "pipe_params = [('feat_selection',selector),('std_scaler', minmax_scaler), ('clf', est)]\n",
    "pipe = Pipeline(pipe_params)"
   ]
  },
  {
   "cell_type": "code",
   "execution_count": 86,
   "metadata": {},
   "outputs": [
    {
     "data": {
      "text/plain": [
       "GridSearchCV(cv=2, error_score='raise',\n",
       "       estimator=Pipeline(memory=None,\n",
       "     steps=[('feat_selection', RFE(estimator=RandomForestRegressor(bootstrap=True, criterion='mse', max_depth=None,\n",
       "           max_features='auto', max_leaf_nodes=None,\n",
       "           min_impurity_decrease=0.0, min_impurity_split=None,\n",
       "           min_samples_leaf=1, min_samples_split=2,\n",
       "           min_weight...timators=10, n_jobs=1,\n",
       "           oob_score=False, random_state=None, verbose=0, warm_start=False))]),\n",
       "       fit_params=None, iid=True, n_jobs=-1,\n",
       "       param_grid={'clf__n_estimators': [30, 50]}, pre_dispatch='2*n_jobs',\n",
       "       refit=True, return_train_score='warn', scoring=None, verbose=0)"
      ]
     },
     "execution_count": 86,
     "metadata": {},
     "output_type": "execute_result"
    }
   ],
   "source": [
    "param_grid = {'clf__n_estimators' : [30, 50] }\n",
    "clf1 = GridSearchCV(pipe, param_grid=param_grid,n_jobs = -1, cv=2)\n",
    "clf1.fit(X_train, y_train)"
   ]
  },
  {
   "cell_type": "code",
   "execution_count": 87,
   "metadata": {},
   "outputs": [],
   "source": [
    "ypredtrain_RFE=clf1.predict(X_train)\n",
    "ypredtest_RFE=clf1.predict(X_test)"
   ]
  },
  {
   "cell_type": "code",
   "execution_count": 88,
   "metadata": {},
   "outputs": [
    {
     "name": "stdout",
     "output_type": "stream",
     "text": [
      "Scores for test\n",
      "The scores for the model :  RFE\n",
      "MAE    :     0.24004805585342148\n",
      "RMSE   :     0.3119122742393992\n",
      "MAPE   :     4.1709343891099175\n"
     ]
    }
   ],
   "source": [
    "print(\"Scores for test\")\n",
    "scores(\"RFE\",y_test,ypredtest_RFE)"
   ]
  },
  {
   "cell_type": "code",
   "execution_count": 89,
   "metadata": {},
   "outputs": [
    {
     "name": "stdout",
     "output_type": "stream",
     "text": [
      "Scores for train\n",
      "The scores for the model :  RFE\n",
      "MAE    :     0.0749306712650652\n",
      "RMSE   :     0.10277357513791388\n",
      "MAPE   :     1.3255943326121253\n"
     ]
    }
   ],
   "source": [
    "print(\"Scores for train\")\n",
    "scores(\"RFE\",y_train,ypredtrain_RFE)"
   ]
  },
  {
   "cell_type": "code",
   "execution_count": 90,
   "metadata": {},
   "outputs": [
    {
     "data": {
      "image/png": "[encoded data removed]",
      "text/plain": [
       "<Figure size 432x288 with 1 Axes>"
      ]
     },
     "metadata": {},
     "output_type": "display_data"
    }
   ],
   "source": [
    "import matplotlib.pyplot as plt\n",
    "%matplotlib inline\n",
    "plt.scatter(X_test.index,y_test, c='b', marker='x', label='1')\n",
    "plt.scatter(X_test.index, ypredtest_RFE, c='r', marker='s', label='-1')\n",
    "plt.legend(loc='lower left')\n",
    "plt.show()"
   ]
  },
  {
   "cell_type": "code",
   "execution_count": 91,
   "metadata": {},
   "outputs": [
    {
     "data": {
      "image/png": "[encoded data removed]",
      "text/plain": [
       "<Figure size 432x288 with 1 Axes>"
      ]
     },
     "metadata": {},
     "output_type": "display_data"
    }
   ],
   "source": [
    "plt.scatter(X_test.index,y_test, c='b', marker='x', label='1')\n",
    "plt.scatter(X_test.index, ypredtest_RFE, c='r', marker='s', label='-1')\n",
    "plt.xlim(100000,100020)\n",
    "plt.show()"
   ]
  },
  {
   "cell_type": "code",
   "execution_count": 92,
   "metadata": {},
   "outputs": [
    {
     "data": {
      "image/png": "[encoded data removed]",
      "text/plain": [
       "<Figure size 432x288 with 1 Axes>"
      ]
     },
     "metadata": {},
     "output_type": "display_data"
    }
   ],
   "source": [
    "plt.scatter(X_test.index,y_test, c='b', marker='x', label='1')\n",
    "plt.scatter(X_test.index, ypredtest_mlp, c='r', marker='s', label='-1')\n",
    "plt.legend(loc='lower left')\n",
    "plt.show()"
   ]
  },
  {
   "cell_type": "code",
   "execution_count": 93,
   "metadata": {},
   "outputs": [
    {
     "data": {
      "image/png": "[encoded data removed]",
      "text/plain": [
       "<Figure size 432x288 with 1 Axes>"
      ]
     },
     "metadata": {},
     "output_type": "display_data"
    }
   ],
   "source": [
    "plt.scatter(X_test.index,y_test, c='b', marker='x', label='1')\n",
    "plt.scatter(X_test.index, ypredtest_mlp, c='r', marker='s', label='-1')\n",
    "plt.xlim(100000,100020)\n",
    "plt.show()"
   ]
  },
  {
   "cell_type": "code",
   "execution_count": 94,
   "metadata": {},
   "outputs": [
    {
     "data": {
      "image/png": "[encoded data removed]",
      "text/plain": [
       "<Figure size 432x288 with 1 Axes>"
      ]
     },
     "metadata": {},
     "output_type": "display_data"
    }
   ],
   "source": [
    "plt.scatter(X_test.index,y_test, c='b', marker='x', label='1')\n",
    "plt.scatter(X_test.index, test_prediction, c='r', marker='s', label='-1')\n",
    "plt.legend(loc='lower left')\n",
    "plt.show()"
   ]
  },
  {
   "cell_type": "code",
   "execution_count": 95,
   "metadata": {},
   "outputs": [
    {
     "data": {
      "image/png": "[encoded data removed]",
      "text/plain": [
       "<Figure size 432x288 with 1 Axes>"
      ]
     },
     "metadata": {},
     "output_type": "display_data"
    }
   ],
   "source": [
    "plt.scatter(X_test.index,y_test, c='b', marker='x', label='1')\n",
    "plt.scatter(X_test.index, test_prediction, c='r', marker='s', label='-1')\n",
    "plt.xlim(100000,100020)\n",
    "plt.show()"
   ]
  },
  {
   "cell_type": "markdown",
   "metadata": {},
   "source": [
    "# Feature Selection"
   ]
  },
  {
   "cell_type": "code",
   "execution_count": 96,
   "metadata": {},
   "outputs": [],
   "source": [
    "error_metric = pd.DataFrame({'Model':[],\n",
    "                            'rmse_train':[], \n",
    "                            'rmse_test': [],\n",
    "                            'mae_train': [],\n",
    "                            'mae_test':[],\n",
    "                            'mape_train':[],\n",
    "                            'mape_test':[]})\n",
    "\n",
    "\n",
    "\n",
    "def calc_error_metric(modelname, model, X_train, y_train, X_test, y_test):\n",
    "    global error_metric\n",
    "    y_train_predicted = model.predict(X_train)\n",
    "    y_test_predicted = model.predict(X_test)\n",
    "    \n",
    "    mae_train=mean_absolute_error(y_train, y_train_predicted)\n",
    "    mae_test=mean_absolute_error(y_test, y_test_predicted)\n",
    "    \n",
    "    \n",
    "    #mse_train=mean_squared_error(y_train, y_train_predicted)\n",
    "    #mse_test=mean_squared_error(y_test, y_test_predicted)\n",
    "    \n",
    "    rmse_train=np.sqrt(mean_squared_error(y_train, y_train_predicted))\n",
    "    rmse_test=np.sqrt(mean_squared_error(y_test, y_test_predicted))\n",
    "    \n",
    "    \n",
    "    mape_test = np.mean(np.abs((y_test - y_test_predicted) / y_test)) * 100\n",
    "    mape_train = np.mean(np.abs((y_train - y_train_predicted) / y_train)) * 100\n",
    "   \n",
    "    #r2_train=r2_score(y_train, y_train_predicted)\n",
    "    #r2_test=r2_score(y_test, y_test_predicted)\n",
    "   \n",
    "    \n",
    "    df_local = pd.DataFrame({'Model':[modelname],\n",
    "                            'rmse_train':[rmse_train], \n",
    "                            'rmse_test': [rmse_test],\n",
    "                            'mae_train': [mae_train],\n",
    "                            'mae_test': [mae_test],\n",
    "                            'mape_train':[mape_train],\n",
    "                            'mape_test':[mape_test]})\n",
    "        \n",
    "    error_metric = pd.concat([error_metric, df_local])\n",
    "    return error_metric"
   ]
  },
  {
   "cell_type": "code",
   "execution_count": 97,
   "metadata": {},
   "outputs": [],
   "source": [
    "#Forward Search"
   ]
  },
  {
   "cell_type": "code",
   "execution_count": 98,
   "metadata": {},
   "outputs": [],
   "source": [
    "lm2 = LinearRegression()"
   ]
  },
  {
   "cell_type": "code",
   "execution_count": 99,
   "metadata": {},
   "outputs": [],
   "source": [
    "k = 30\n",
    "sfs = SFS(lm2, \n",
    "          forward=True,\n",
    "          floating=False,\n",
    "          k_features=k,\n",
    "          scoring='neg_mean_squared_error',\n",
    "          cv=2)\n",
    "\n",
    "\n"
   ]
  },
  {
   "cell_type": "code",
   "execution_count": 100,
   "metadata": {},
   "outputs": [
    {
     "data": {
      "text/plain": [
       "SequentialFeatureSelector(clone_estimator=True, cv=2,\n",
       "             estimator=LinearRegression(copy_X=True, fit_intercept=True, n_jobs=1, normalize=False),\n",
       "             floating=False, forward=True, k_features=30, n_jobs=1,\n",
       "             pre_dispatch='2*n_jobs', scoring='neg_mean_squared_error',\n",
       "             verbose=0)"
      ]
     },
     "execution_count": 100,
     "metadata": {},
     "output_type": "execute_result"
    }
   ],
   "source": [
    "sfs.fit(X_train, y_train.values)"
   ]
  },
  {
   "cell_type": "code",
   "execution_count": 101,
   "metadata": {},
   "outputs": [
    {
     "name": "stdout",
     "output_type": "stream",
     "text": [
      "Top 30 features from Forward Selection Method\n",
      "('fico', 'dt_first_pi', 'cd_msa', 'mi_pct', 'cnt_units', 'cltv', 'dti', 'orig_upb', 'ltv', 'zipcode', 'cnt_borr', 'flag_sc', 'Year', 'OS_P', 'OS_S', 'C_C', 'C_R', 'C_T', 'ppmt_N0', 'FRM', 'CO', 'CP', 'MH', 'PU', 'SF', 'C', 'N', 'P', 'fthb_N', 'fthb_Y')\n"
     ]
    }
   ],
   "source": [
    "#Feature Names\n",
    "columns = sfs.k_feature_names_\n",
    "print(\"Top \"+str(k)+\" features from Forward Selection Method\")\n",
    "print(columns)"
   ]
  },
  {
   "cell_type": "code",
   "execution_count": 102,
   "metadata": {},
   "outputs": [],
   "source": [
    "columnsimp = list(columns)"
   ]
  },
  {
   "cell_type": "code",
   "execution_count": 103,
   "metadata": {},
   "outputs": [],
   "source": [
    "df_train_fwd = df_train_cleaned[columnsimp]"
   ]
  },
  {
   "cell_type": "code",
   "execution_count": 104,
   "metadata": {},
   "outputs": [],
   "source": [
    "df_test_fwd = df_test_cleaned[columnsimp]"
   ]
  },
  {
   "cell_type": "code",
   "execution_count": 105,
   "metadata": {},
   "outputs": [
    {
     "name": "stdout",
     "output_type": "stream",
     "text": [
      "Regression_30FWD completed\n",
      "scores\n"
     ]
    }
   ],
   "source": [
    "pipe_lr = Pipeline([('scl', StandardScaler()),('clf', LinearRegression(normalize=True))])\n",
    "grid_params_lr =[{}]\n",
    "gs_lr = GridSearchCV(estimator=pipe_lr, param_grid=grid_params_lr, cv=3)\n",
    "gs_lr.fit(df_train_fwd, y_train)\n",
    "em=calc_error_metric('Regression30FWD', gs_lr, df_train_fwd, y_train, df_test_fwd, y_test)\n",
    "print(\"Regression_\"+str(k)+\"FWD completed\")\n",
    "print(\"scores\")\n",
    "score30LR_minmax = em\n"
   ]
  },
  {
   "cell_type": "code",
   "execution_count": 106,
   "metadata": {},
   "outputs": [
    {
     "data": {
      "text/html": [
       "<div>\n",
       "<style scoped>\n",
       "    .dataframe tbody tr th:only-of-type {\n",
       "        vertical-align: middle;\n",
       "    }\n",
       "\n",
       "    .dataframe tbody tr th {\n",
       "        vertical-align: top;\n",
       "    }\n",
       "\n",
       "    .dataframe thead th {\n",
       "        text-align: right;\n",
       "    }\n",
       "</style>\n",
       "<table border=\"1\" class=\"dataframe\">\n",
       "  <thead>\n",
       "    <tr style=\"text-align: right;\">\n",
       "      <th></th>\n",
       "      <th>Model</th>\n",
       "      <th>rmse_train</th>\n",
       "      <th>rmse_test</th>\n",
       "      <th>mae_train</th>\n",
       "      <th>mae_test</th>\n",
       "      <th>mape_train</th>\n",
       "      <th>mape_test</th>\n",
       "    </tr>\n",
       "  </thead>\n",
       "  <tbody>\n",
       "    <tr>\n",
       "      <th>0</th>\n",
       "      <td>Regression30FWD</td>\n",
       "      <td>0.345011</td>\n",
       "      <td>0.355157</td>\n",
       "      <td>0.263314</td>\n",
       "      <td>0.275643</td>\n",
       "      <td>4.698277</td>\n",
       "      <td>4.703564</td>\n",
       "    </tr>\n",
       "  </tbody>\n",
       "</table>\n",
       "</div>"
      ],
      "text/plain": [
       "             Model  rmse_train  rmse_test  mae_train  mae_test  mape_train  \\\n",
       "0  Regression30FWD    0.345011   0.355157   0.263314  0.275643    4.698277   \n",
       "\n",
       "   mape_test  \n",
       "0   4.703564  "
      ]
     },
     "execution_count": 106,
     "metadata": {},
     "output_type": "execute_result"
    }
   ],
   "source": [
    "score30LR_minmax"
   ]
  },
  {
   "cell_type": "code",
   "execution_count": 107,
   "metadata": {},
   "outputs": [
    {
     "name": "stdout",
     "output_type": "stream",
     "text": [
      "Scores for test\n",
      "The scores for the model :  Linear Regression\n",
      "MAE    :     0.24579004505575627\n",
      "RMSE   :     0.3222976244659248\n",
      "MAPE   :     4.195856777807941\n",
      "Scores for train\n",
      "The scores for the model :  Linear Regression\n",
      "MAE    :     0.21296023996230556\n",
      "RMSE   :     0.28933832294383566\n",
      "MAPE   :     3.7688328173372856\n"
     ]
    }
   ],
   "source": [
    "print(\"Scores for test\")\n",
    "scores(\"Linear Regression\",y_test,test_prediction)\n",
    "print(\"Scores for train\")\n",
    "scores(\"Linear Regression\",y_train,train_prediction)"
   ]
  },
  {
   "cell_type": "code",
   "execution_count": 108,
   "metadata": {},
   "outputs": [],
   "source": [
    "#Backward Search"
   ]
  },
  {
   "cell_type": "code",
   "execution_count": 109,
   "metadata": {},
   "outputs": [],
   "source": [
    "k = 30\n",
    "sbs = SFS(lm2, \n",
    "          forward=False,\n",
    "          floating=False,\n",
    "          k_features=k,\n",
    "          scoring='neg_mean_squared_error',\n",
    "          cv=2)\n",
    "\n",
    "\n"
   ]
  },
  {
   "cell_type": "code",
   "execution_count": 110,
   "metadata": {},
   "outputs": [
    {
     "data": {
      "text/plain": [
       "SequentialFeatureSelector(clone_estimator=True, cv=2,\n",
       "             estimator=LinearRegression(copy_X=True, fit_intercept=True, n_jobs=1, normalize=False),\n",
       "             floating=False, forward=False, k_features=30, n_jobs=1,\n",
       "             pre_dispatch='2*n_jobs', scoring='neg_mean_squared_error',\n",
       "             verbose=0)"
      ]
     },
     "execution_count": 110,
     "metadata": {},
     "output_type": "execute_result"
    }
   ],
   "source": [
    "sbs.fit(X_train.values, y_train.values)"
   ]
  },
  {
   "cell_type": "code",
   "execution_count": 111,
   "metadata": {},
   "outputs": [
    {
     "name": "stdout",
     "output_type": "stream",
     "text": [
      "Top 30 features from Backward Selection Method\n",
      "('0', '1', '2', '3', '4', '5', '6', '7', '8', '9', '10', '11', '12', '13', '14', '16', '17', '18', '19', '20', '21', '22', '23', '24', '25', '26', '27', '28', '29', '31')\n"
     ]
    }
   ],
   "source": [
    "#Feature Names\n",
    "columns = sbs.k_feature_names_\n",
    "print(\"Top \"+str(k)+\" features from Backward Selection Method\")\n",
    "print(columns)"
   ]
  },
  {
   "cell_type": "code",
   "execution_count": 112,
   "metadata": {},
   "outputs": [],
   "source": [
    "columnsimp = list(columns)"
   ]
  },
  {
   "cell_type": "code",
   "execution_count": 113,
   "metadata": {},
   "outputs": [],
   "source": [
    "df_cleaned_test_bk = df_test_cleaned\n"
   ]
  },
  {
   "cell_type": "code",
   "execution_count": 114,
   "metadata": {},
   "outputs": [],
   "source": [
    "df_cleaned_test_bk.columns = ['0','1', '2', '3','4','5','6','7','8','9','10','11','12','13','14','15','16','17','18','19','20','21','22','23','24','25','26','27','28','29','30','31']"
   ]
  },
  {
   "cell_type": "code",
   "execution_count": 115,
   "metadata": {},
   "outputs": [],
   "source": [
    "df_test_bwd = df_cleaned_test_bk[columnsimp]"
   ]
  },
  {
   "cell_type": "code",
   "execution_count": 116,
   "metadata": {},
   "outputs": [],
   "source": [
    "df_cleaned_train_bk = df_train_cleaned\n",
    "df_cleaned_train_bk.columns = ['0','1', '2', '3','4','5','6','7','8','9','10','11','12','13','14','15','16','17','18','19','20','21','22','23','24','25','26','27','28','29','30','31']\n",
    "df_train_bwd = df_cleaned_train_bk[columnsimp]"
   ]
  },
  {
   "cell_type": "code",
   "execution_count": 117,
   "metadata": {},
   "outputs": [
    {
     "data": {
      "text/html": [
       "<div>\n",
       "<style scoped>\n",
       "    .dataframe tbody tr th:only-of-type {\n",
       "        vertical-align: middle;\n",
       "    }\n",
       "\n",
       "    .dataframe tbody tr th {\n",
       "        vertical-align: top;\n",
       "    }\n",
       "\n",
       "    .dataframe thead th {\n",
       "        text-align: right;\n",
       "    }\n",
       "</style>\n",
       "<table border=\"1\" class=\"dataframe\">\n",
       "  <thead>\n",
       "    <tr style=\"text-align: right;\">\n",
       "      <th></th>\n",
       "      <th>0</th>\n",
       "      <th>1</th>\n",
       "      <th>2</th>\n",
       "      <th>3</th>\n",
       "      <th>4</th>\n",
       "      <th>5</th>\n",
       "      <th>6</th>\n",
       "      <th>7</th>\n",
       "      <th>8</th>\n",
       "      <th>9</th>\n",
       "      <th>...</th>\n",
       "      <th>21</th>\n",
       "      <th>22</th>\n",
       "      <th>23</th>\n",
       "      <th>24</th>\n",
       "      <th>25</th>\n",
       "      <th>26</th>\n",
       "      <th>27</th>\n",
       "      <th>28</th>\n",
       "      <th>29</th>\n",
       "      <th>31</th>\n",
       "    </tr>\n",
       "  </thead>\n",
       "  <tbody>\n",
       "    <tr>\n",
       "      <th>0</th>\n",
       "      <td>699</td>\n",
       "      <td>200505</td>\n",
       "      <td>203504</td>\n",
       "      <td>39300.0</td>\n",
       "      <td>0</td>\n",
       "      <td>1</td>\n",
       "      <td>56</td>\n",
       "      <td>42</td>\n",
       "      <td>190000</td>\n",
       "      <td>56</td>\n",
       "      <td>...</td>\n",
       "      <td>1</td>\n",
       "      <td>0</td>\n",
       "      <td>0</td>\n",
       "      <td>0</td>\n",
       "      <td>0</td>\n",
       "      <td>1</td>\n",
       "      <td>1</td>\n",
       "      <td>0</td>\n",
       "      <td>0</td>\n",
       "      <td>0</td>\n",
       "    </tr>\n",
       "    <tr>\n",
       "      <th>1</th>\n",
       "      <td>691</td>\n",
       "      <td>200504</td>\n",
       "      <td>203503</td>\n",
       "      <td>36420.0</td>\n",
       "      <td>25</td>\n",
       "      <td>1</td>\n",
       "      <td>90</td>\n",
       "      <td>36</td>\n",
       "      <td>90000</td>\n",
       "      <td>90</td>\n",
       "      <td>...</td>\n",
       "      <td>1</td>\n",
       "      <td>0</td>\n",
       "      <td>0</td>\n",
       "      <td>0</td>\n",
       "      <td>0</td>\n",
       "      <td>1</td>\n",
       "      <td>0</td>\n",
       "      <td>1</td>\n",
       "      <td>0</td>\n",
       "      <td>0</td>\n",
       "    </tr>\n",
       "    <tr>\n",
       "      <th>2</th>\n",
       "      <td>713</td>\n",
       "      <td>200503</td>\n",
       "      <td>203502</td>\n",
       "      <td>28740.0</td>\n",
       "      <td>0</td>\n",
       "      <td>1</td>\n",
       "      <td>72</td>\n",
       "      <td>45</td>\n",
       "      <td>357000</td>\n",
       "      <td>72</td>\n",
       "      <td>...</td>\n",
       "      <td>1</td>\n",
       "      <td>0</td>\n",
       "      <td>0</td>\n",
       "      <td>0</td>\n",
       "      <td>0</td>\n",
       "      <td>1</td>\n",
       "      <td>0</td>\n",
       "      <td>0</td>\n",
       "      <td>1</td>\n",
       "      <td>0</td>\n",
       "    </tr>\n",
       "    <tr>\n",
       "      <th>3</th>\n",
       "      <td>719</td>\n",
       "      <td>200505</td>\n",
       "      <td>203504</td>\n",
       "      <td>0.0</td>\n",
       "      <td>0</td>\n",
       "      <td>1</td>\n",
       "      <td>85</td>\n",
       "      <td>47</td>\n",
       "      <td>195000</td>\n",
       "      <td>68</td>\n",
       "      <td>...</td>\n",
       "      <td>1</td>\n",
       "      <td>1</td>\n",
       "      <td>0</td>\n",
       "      <td>0</td>\n",
       "      <td>0</td>\n",
       "      <td>0</td>\n",
       "      <td>0</td>\n",
       "      <td>0</td>\n",
       "      <td>1</td>\n",
       "      <td>0</td>\n",
       "    </tr>\n",
       "    <tr>\n",
       "      <th>4</th>\n",
       "      <td>656</td>\n",
       "      <td>200503</td>\n",
       "      <td>203502</td>\n",
       "      <td>40340.0</td>\n",
       "      <td>0</td>\n",
       "      <td>1</td>\n",
       "      <td>68</td>\n",
       "      <td>30</td>\n",
       "      <td>253000</td>\n",
       "      <td>68</td>\n",
       "      <td>...</td>\n",
       "      <td>1</td>\n",
       "      <td>0</td>\n",
       "      <td>0</td>\n",
       "      <td>0</td>\n",
       "      <td>0</td>\n",
       "      <td>1</td>\n",
       "      <td>1</td>\n",
       "      <td>0</td>\n",
       "      <td>0</td>\n",
       "      <td>0</td>\n",
       "    </tr>\n",
       "  </tbody>\n",
       "</table>\n",
       "<p>5 rows × 30 columns</p>\n",
       "</div>"
      ],
      "text/plain": [
       "     0       1       2        3   4  5   6   7       8   9 ...  21  22  23  \\\n",
       "0  699  200505  203504  39300.0   0  1  56  42  190000  56 ...   1   0   0   \n",
       "1  691  200504  203503  36420.0  25  1  90  36   90000  90 ...   1   0   0   \n",
       "2  713  200503  203502  28740.0   0  1  72  45  357000  72 ...   1   0   0   \n",
       "3  719  200505  203504      0.0   0  1  85  47  195000  68 ...   1   1   0   \n",
       "4  656  200503  203502  40340.0   0  1  68  30  253000  68 ...   1   0   0   \n",
       "\n",
       "   24  25  26  27  28  29  31  \n",
       "0   0   0   1   1   0   0   0  \n",
       "1   0   0   1   0   1   0   0  \n",
       "2   0   0   1   0   0   1   0  \n",
       "3   0   0   0   0   0   1   0  \n",
       "4   0   0   1   1   0   0   0  \n",
       "\n",
       "[5 rows x 30 columns]"
      ]
     },
     "execution_count": 117,
     "metadata": {},
     "output_type": "execute_result"
    }
   ],
   "source": [
    "df_train_bwd.head()"
   ]
  },
  {
   "cell_type": "code",
   "execution_count": 118,
   "metadata": {},
   "outputs": [
    {
     "data": {
      "text/html": [
       "<div>\n",
       "<style scoped>\n",
       "    .dataframe tbody tr th:only-of-type {\n",
       "        vertical-align: middle;\n",
       "    }\n",
       "\n",
       "    .dataframe tbody tr th {\n",
       "        vertical-align: top;\n",
       "    }\n",
       "\n",
       "    .dataframe thead th {\n",
       "        text-align: right;\n",
       "    }\n",
       "</style>\n",
       "<table border=\"1\" class=\"dataframe\">\n",
       "  <thead>\n",
       "    <tr style=\"text-align: right;\">\n",
       "      <th></th>\n",
       "      <th>0</th>\n",
       "      <th>1</th>\n",
       "      <th>2</th>\n",
       "      <th>3</th>\n",
       "      <th>4</th>\n",
       "      <th>5</th>\n",
       "      <th>6</th>\n",
       "      <th>7</th>\n",
       "      <th>8</th>\n",
       "      <th>9</th>\n",
       "      <th>...</th>\n",
       "      <th>21</th>\n",
       "      <th>22</th>\n",
       "      <th>23</th>\n",
       "      <th>24</th>\n",
       "      <th>25</th>\n",
       "      <th>26</th>\n",
       "      <th>27</th>\n",
       "      <th>28</th>\n",
       "      <th>29</th>\n",
       "      <th>31</th>\n",
       "    </tr>\n",
       "  </thead>\n",
       "  <tbody>\n",
       "    <tr>\n",
       "      <th>0</th>\n",
       "      <td>715</td>\n",
       "      <td>200508</td>\n",
       "      <td>203507</td>\n",
       "      <td>33700.0</td>\n",
       "      <td>0</td>\n",
       "      <td>1</td>\n",
       "      <td>58</td>\n",
       "      <td>41</td>\n",
       "      <td>214000</td>\n",
       "      <td>58</td>\n",
       "      <td>...</td>\n",
       "      <td>1</td>\n",
       "      <td>0</td>\n",
       "      <td>0</td>\n",
       "      <td>0</td>\n",
       "      <td>0</td>\n",
       "      <td>1</td>\n",
       "      <td>1</td>\n",
       "      <td>0</td>\n",
       "      <td>0</td>\n",
       "      <td>0</td>\n",
       "    </tr>\n",
       "    <tr>\n",
       "      <th>1</th>\n",
       "      <td>743</td>\n",
       "      <td>200508</td>\n",
       "      <td>203507</td>\n",
       "      <td>0.0</td>\n",
       "      <td>0</td>\n",
       "      <td>1</td>\n",
       "      <td>80</td>\n",
       "      <td>36</td>\n",
       "      <td>340000</td>\n",
       "      <td>80</td>\n",
       "      <td>...</td>\n",
       "      <td>1</td>\n",
       "      <td>0</td>\n",
       "      <td>0</td>\n",
       "      <td>0</td>\n",
       "      <td>0</td>\n",
       "      <td>1</td>\n",
       "      <td>0</td>\n",
       "      <td>1</td>\n",
       "      <td>0</td>\n",
       "      <td>0</td>\n",
       "    </tr>\n",
       "    <tr>\n",
       "      <th>2</th>\n",
       "      <td>772</td>\n",
       "      <td>200508</td>\n",
       "      <td>203507</td>\n",
       "      <td>37860.0</td>\n",
       "      <td>0</td>\n",
       "      <td>1</td>\n",
       "      <td>80</td>\n",
       "      <td>34</td>\n",
       "      <td>184000</td>\n",
       "      <td>80</td>\n",
       "      <td>...</td>\n",
       "      <td>1</td>\n",
       "      <td>0</td>\n",
       "      <td>0</td>\n",
       "      <td>0</td>\n",
       "      <td>1</td>\n",
       "      <td>0</td>\n",
       "      <td>0</td>\n",
       "      <td>0</td>\n",
       "      <td>1</td>\n",
       "      <td>0</td>\n",
       "    </tr>\n",
       "    <tr>\n",
       "      <th>3</th>\n",
       "      <td>773</td>\n",
       "      <td>200507</td>\n",
       "      <td>203506</td>\n",
       "      <td>0.0</td>\n",
       "      <td>0</td>\n",
       "      <td>1</td>\n",
       "      <td>64</td>\n",
       "      <td>60</td>\n",
       "      <td>260000</td>\n",
       "      <td>64</td>\n",
       "      <td>...</td>\n",
       "      <td>1</td>\n",
       "      <td>0</td>\n",
       "      <td>0</td>\n",
       "      <td>0</td>\n",
       "      <td>0</td>\n",
       "      <td>1</td>\n",
       "      <td>0</td>\n",
       "      <td>1</td>\n",
       "      <td>0</td>\n",
       "      <td>0</td>\n",
       "    </tr>\n",
       "    <tr>\n",
       "      <th>4</th>\n",
       "      <td>647</td>\n",
       "      <td>200508</td>\n",
       "      <td>203507</td>\n",
       "      <td>0.0</td>\n",
       "      <td>30</td>\n",
       "      <td>1</td>\n",
       "      <td>91</td>\n",
       "      <td>28</td>\n",
       "      <td>170000</td>\n",
       "      <td>91</td>\n",
       "      <td>...</td>\n",
       "      <td>1</td>\n",
       "      <td>0</td>\n",
       "      <td>0</td>\n",
       "      <td>0</td>\n",
       "      <td>0</td>\n",
       "      <td>1</td>\n",
       "      <td>0</td>\n",
       "      <td>1</td>\n",
       "      <td>0</td>\n",
       "      <td>0</td>\n",
       "    </tr>\n",
       "  </tbody>\n",
       "</table>\n",
       "<p>5 rows × 30 columns</p>\n",
       "</div>"
      ],
      "text/plain": [
       "     0       1       2        3   4  5   6   7       8   9 ...  21  22  23  \\\n",
       "0  715  200508  203507  33700.0   0  1  58  41  214000  58 ...   1   0   0   \n",
       "1  743  200508  203507      0.0   0  1  80  36  340000  80 ...   1   0   0   \n",
       "2  772  200508  203507  37860.0   0  1  80  34  184000  80 ...   1   0   0   \n",
       "3  773  200507  203506      0.0   0  1  64  60  260000  64 ...   1   0   0   \n",
       "4  647  200508  203507      0.0  30  1  91  28  170000  91 ...   1   0   0   \n",
       "\n",
       "   24  25  26  27  28  29  31  \n",
       "0   0   0   1   1   0   0   0  \n",
       "1   0   0   1   0   1   0   0  \n",
       "2   0   1   0   0   0   1   0  \n",
       "3   0   0   1   0   1   0   0  \n",
       "4   0   0   1   0   1   0   0  \n",
       "\n",
       "[5 rows x 30 columns]"
      ]
     },
     "execution_count": 118,
     "metadata": {},
     "output_type": "execute_result"
    }
   ],
   "source": [
    "df_test_bwd.head()"
   ]
  },
  {
   "cell_type": "code",
   "execution_count": 119,
   "metadata": {},
   "outputs": [
    {
     "name": "stdout",
     "output_type": "stream",
     "text": [
      "Regression_30BWD completed\n",
      "scores\n"
     ]
    }
   ],
   "source": [
    "pipe_lr = Pipeline([('scl', StandardScaler()),('clf', LinearRegression(normalize=True))])\n",
    "grid_params_lr =[{}]\n",
    "gs_lr = GridSearchCV(estimator=pipe_lr, param_grid=grid_params_lr, cv=3)\n",
    "gs_lr.fit(df_train_bwd, y_train)\n",
    "em=calc_error_metric('Regression_30BWD', gs_lr, df_train_bwd, y_train, df_test_bwd, y_test)\n",
    "print(\"Regression_\"+str(k)+\"BWD completed\")\n",
    "print(\"scores\")\n",
    "score30LR_std_BK = em"
   ]
  },
  {
   "cell_type": "code",
   "execution_count": 120,
   "metadata": {},
   "outputs": [
    {
     "data": {
      "text/html": [
       "<div>\n",
       "<style scoped>\n",
       "    .dataframe tbody tr th:only-of-type {\n",
       "        vertical-align: middle;\n",
       "    }\n",
       "\n",
       "    .dataframe tbody tr th {\n",
       "        vertical-align: top;\n",
       "    }\n",
       "\n",
       "    .dataframe thead th {\n",
       "        text-align: right;\n",
       "    }\n",
       "</style>\n",
       "<table border=\"1\" class=\"dataframe\">\n",
       "  <thead>\n",
       "    <tr style=\"text-align: right;\">\n",
       "      <th></th>\n",
       "      <th>Model</th>\n",
       "      <th>rmse_train</th>\n",
       "      <th>rmse_test</th>\n",
       "      <th>mae_train</th>\n",
       "      <th>mae_test</th>\n",
       "      <th>mape_train</th>\n",
       "      <th>mape_test</th>\n",
       "    </tr>\n",
       "  </thead>\n",
       "  <tbody>\n",
       "    <tr>\n",
       "      <th>0</th>\n",
       "      <td>Regression30FWD</td>\n",
       "      <td>0.345011</td>\n",
       "      <td>0.355157</td>\n",
       "      <td>0.263314</td>\n",
       "      <td>0.275643</td>\n",
       "      <td>4.698277</td>\n",
       "      <td>4.703564</td>\n",
       "    </tr>\n",
       "    <tr>\n",
       "      <th>0</th>\n",
       "      <td>Regression_30BWD</td>\n",
       "      <td>0.296105</td>\n",
       "      <td>0.326503</td>\n",
       "      <td>0.217244</td>\n",
       "      <td>0.246590</td>\n",
       "      <td>3.840962</td>\n",
       "      <td>4.206193</td>\n",
       "    </tr>\n",
       "  </tbody>\n",
       "</table>\n",
       "</div>"
      ],
      "text/plain": [
       "              Model  rmse_train  rmse_test  mae_train  mae_test  mape_train  \\\n",
       "0   Regression30FWD    0.345011   0.355157   0.263314  0.275643    4.698277   \n",
       "0  Regression_30BWD    0.296105   0.326503   0.217244  0.246590    3.840962   \n",
       "\n",
       "   mape_test  \n",
       "0   4.703564  \n",
       "0   4.206193  "
      ]
     },
     "execution_count": 120,
     "metadata": {},
     "output_type": "execute_result"
    }
   ],
   "source": [
    "score30LR_std_BK"
   ]
  },
  {
   "cell_type": "code",
   "execution_count": 121,
   "metadata": {},
   "outputs": [
    {
     "name": "stdout",
     "output_type": "stream",
     "text": [
      "Scores for test\n",
      "The scores for the model :  Linear Regression\n",
      "MAE    :     0.24579004505575627\n",
      "RMSE   :     0.3222976244659248\n",
      "MAPE   :     4.195856777807941\n",
      "Scores for train\n",
      "The scores for the model :  Linear Regression\n",
      "MAE    :     0.21296023996230556\n",
      "RMSE   :     0.28933832294383566\n",
      "MAPE   :     3.7688328173372856\n"
     ]
    }
   ],
   "source": [
    "print(\"Scores for test\")\n",
    "scores(\"Linear Regression\",y_test,test_prediction)\n",
    "print(\"Scores for train\")\n",
    "scores(\"Linear Regression\",y_train,train_prediction)"
   ]
  },
  {
   "cell_type": "code",
   "execution_count": 122,
   "metadata": {},
   "outputs": [
    {
     "data": {
      "text/plain": [
       "LinearRegression(copy_X=True, fit_intercept=True, n_jobs=1, normalize=False)"
      ]
     },
     "execution_count": 122,
     "metadata": {},
     "output_type": "execute_result"
    }
   ],
   "source": [
    "#Without scaling FWD\n",
    "lm.fit(df_train_fwd,y_train)"
   ]
  },
  {
   "cell_type": "code",
   "execution_count": 123,
   "metadata": {},
   "outputs": [
    {
     "name": "stdout",
     "output_type": "stream",
     "text": [
      "Scores for test\n",
      "The scores for the model :  Linear Regression\n",
      "MAE    :     0.27564524443263405\n",
      "RMSE   :     0.3551581102765889\n",
      "MAPE   :     4.703590611361663\n",
      "Scores for train\n",
      "The scores for the model :  Linear Regression\n",
      "MAE    :     0.26331187855728794\n",
      "RMSE   :     0.3450113781147228\n",
      "MAPE   :     4.698239915673019\n"
     ]
    }
   ],
   "source": [
    "train_prediction_fwd=prediction_function(df_train_fwd)\n",
    "test_prediction_fwd=prediction_function(df_test_fwd)\n",
    "print(\"Scores for test\")\n",
    "scores(\"Linear Regression\",y_test,test_prediction_fwd)\n",
    "print(\"Scores for train\")\n",
    "scores(\"Linear Regression\",y_train,train_prediction_fwd)"
   ]
  },
  {
   "cell_type": "code",
   "execution_count": 124,
   "metadata": {},
   "outputs": [
    {
     "data": {
      "text/plain": [
       "LinearRegression(copy_X=True, fit_intercept=True, n_jobs=1, normalize=False)"
      ]
     },
     "execution_count": 124,
     "metadata": {},
     "output_type": "execute_result"
    }
   ],
   "source": [
    "#Without scaling BWD\n",
    "lm.fit(df_train_bwd,y_train)"
   ]
  },
  {
   "cell_type": "code",
   "execution_count": 125,
   "metadata": {},
   "outputs": [
    {
     "name": "stdout",
     "output_type": "stream",
     "text": [
      "Scores for test\n",
      "The scores for the model :  Linear Regression\n",
      "MAE    :     0.24658800772591052\n",
      "RMSE   :     0.32650076334969547\n",
      "MAPE   :     4.206166096525667\n",
      "Scores for train\n",
      "The scores for the model :  Linear Regression\n",
      "MAE    :     0.21724411559372211\n",
      "RMSE   :     0.29610471283575335\n",
      "MAPE   :     3.840964930190247\n"
     ]
    }
   ],
   "source": [
    "train_prediction_bwd=prediction_function(df_train_bwd)\n",
    "test_prediction_bwd=prediction_function(df_test_bwd)\n",
    "print(\"Scores for test\")\n",
    "scores(\"Linear Regression\",y_test,test_prediction_bwd)\n",
    "print(\"Scores for train\")\n",
    "scores(\"Linear Regression\",y_train,train_prediction_bwd)"
   ]
  },
  {
   "cell_type": "code",
   "execution_count": 126,
   "metadata": {},
   "outputs": [
    {
     "name": "stderr",
     "output_type": "stream",
     "text": [
      "Features: 5456/5456"
     ]
    },
    {
     "data": {
      "text/plain": [
       "ExhaustiveFeatureSelector(clone_estimator=True, cv=0,\n",
       "             estimator=LinearRegression(copy_X=True, fit_intercept=True, n_jobs=1, normalize=False),\n",
       "             max_features=3, min_features=2, n_jobs=1,\n",
       "             pre_dispatch='2*n_jobs', print_progress=True,\n",
       "             scoring='neg_mean_squared_error')"
      ]
     },
     "execution_count": 126,
     "metadata": {},
     "output_type": "execute_result"
    }
   ],
   "source": [
    "efs = EFS(lm2, \n",
    "          min_features=2,\n",
    "          max_features=3,\n",
    "          scoring='neg_mean_squared_error',\n",
    "          cv=0)\n",
    "\n",
    "efs.fit(X_train, y_train)"
   ]
  },
  {
   "cell_type": "code",
   "execution_count": 127,
   "metadata": {},
   "outputs": [
    {
     "name": "stdout",
     "output_type": "stream",
     "text": [
      "Best MSE score: 0.09\n"
     ]
    }
   ],
   "source": [
    "print('Best MSE score: %.2f' % (efs.best_score_*-1))"
   ]
  },
  {
   "cell_type": "code",
   "execution_count": 128,
   "metadata": {},
   "outputs": [
    {
     "name": "stdout",
     "output_type": "stream",
     "text": [
      "Best subset: (2, 8, 15) ('2', '8', '15')\n"
     ]
    }
   ],
   "source": [
    "print('Best subset:', efs.best_idx_,efs.best_feature_names_)"
   ]
  },
  {
   "cell_type": "code",
   "execution_count": 129,
   "metadata": {},
   "outputs": [
    {
     "data": {
      "text/plain": [
       "('2', '8', '15')"
      ]
     },
     "execution_count": 129,
     "metadata": {},
     "output_type": "execute_result"
    }
   ],
   "source": [
    "efs.best_feature_names_"
   ]
  },
  {
   "cell_type": "code",
   "execution_count": 130,
   "metadata": {},
   "outputs": [
    {
     "name": "stdout",
     "output_type": "stream",
     "text": [
      "Top 30 features from Exauastive Selection Method\n",
      "('2', '8', '15')\n"
     ]
    }
   ],
   "source": [
    "#Feature Names\n",
    "columns = efs.best_feature_names_\n",
    "print(\"Top \"+str(k)+\" features from Exauastive Selection Method\")\n",
    "print(columns)"
   ]
  },
  {
   "cell_type": "code",
   "execution_count": 131,
   "metadata": {},
   "outputs": [],
   "source": [
    "columnsimp = list(columns)"
   ]
  },
  {
   "cell_type": "code",
   "execution_count": 132,
   "metadata": {},
   "outputs": [],
   "source": [
    "df_cleaned_test_es = df_test_cleaned[columnsimp]"
   ]
  },
  {
   "cell_type": "code",
   "execution_count": 133,
   "metadata": {},
   "outputs": [],
   "source": [
    "df_cleaned_train_es = df_train_cleaned[columnsimp]"
   ]
  },
  {
   "cell_type": "code",
   "execution_count": 134,
   "metadata": {},
   "outputs": [
    {
     "data": {
      "text/html": [
       "<div>\n",
       "<style scoped>\n",
       "    .dataframe tbody tr th:only-of-type {\n",
       "        vertical-align: middle;\n",
       "    }\n",
       "\n",
       "    .dataframe tbody tr th {\n",
       "        vertical-align: top;\n",
       "    }\n",
       "\n",
       "    .dataframe thead th {\n",
       "        text-align: right;\n",
       "    }\n",
       "</style>\n",
       "<table border=\"1\" class=\"dataframe\">\n",
       "  <thead>\n",
       "    <tr style=\"text-align: right;\">\n",
       "      <th></th>\n",
       "      <th>2</th>\n",
       "      <th>8</th>\n",
       "      <th>15</th>\n",
       "    </tr>\n",
       "  </thead>\n",
       "  <tbody>\n",
       "    <tr>\n",
       "      <th>0</th>\n",
       "      <td>203507</td>\n",
       "      <td>214000</td>\n",
       "      <td>1</td>\n",
       "    </tr>\n",
       "    <tr>\n",
       "      <th>1</th>\n",
       "      <td>203507</td>\n",
       "      <td>340000</td>\n",
       "      <td>1</td>\n",
       "    </tr>\n",
       "    <tr>\n",
       "      <th>2</th>\n",
       "      <td>203507</td>\n",
       "      <td>184000</td>\n",
       "      <td>1</td>\n",
       "    </tr>\n",
       "    <tr>\n",
       "      <th>3</th>\n",
       "      <td>203506</td>\n",
       "      <td>260000</td>\n",
       "      <td>1</td>\n",
       "    </tr>\n",
       "    <tr>\n",
       "      <th>4</th>\n",
       "      <td>203507</td>\n",
       "      <td>170000</td>\n",
       "      <td>1</td>\n",
       "    </tr>\n",
       "  </tbody>\n",
       "</table>\n",
       "</div>"
      ],
      "text/plain": [
       "        2       8  15\n",
       "0  203507  214000   1\n",
       "1  203507  340000   1\n",
       "2  203507  184000   1\n",
       "3  203506  260000   1\n",
       "4  203507  170000   1"
      ]
     },
     "execution_count": 134,
     "metadata": {},
     "output_type": "execute_result"
    }
   ],
   "source": [
    "df_cleaned_test_es.head()"
   ]
  },
  {
   "cell_type": "code",
   "execution_count": 135,
   "metadata": {},
   "outputs": [],
   "source": [
    "#Without scaling BWD\n",
    "lm.fit(df_cleaned_train_es,y_train)\n",
    "\n",
    "test_prediction_est=prediction_function(df_cleaned_test_es)\n",
    "train_prediction_est=prediction_function(df_cleaned_train_es)\n"
   ]
  },
  {
   "cell_type": "code",
   "execution_count": 136,
   "metadata": {},
   "outputs": [
    {
     "name": "stdout",
     "output_type": "stream",
     "text": [
      "Scores for test\n",
      "The scores for the model :  Linear Regression\n",
      "MAE    :     0.253210899451224\n",
      "RMSE   :     0.3336258914528731\n",
      "MAPE   :     4.317719753546919\n",
      "Scores for train\n",
      "The scores for the model :  Linear Regression\n",
      "MAE    :     0.22396876754362086\n",
      "RMSE   :     0.3029722404922929\n",
      "MAPE   :     3.96172053370561\n"
     ]
    }
   ],
   "source": [
    "print(\"Scores for test\")\n",
    "scores(\"Linear Regression\",y_test,test_prediction_est)\n",
    "print(\"Scores for train\")\n",
    "scores(\"Linear Regression\",y_train,train_prediction_est)"
   ]
  },
  {
   "cell_type": "code",
   "execution_count": 137,
   "metadata": {},
   "outputs": [
    {
     "name": "stdout",
     "output_type": "stream",
     "text": [
      "Scores for test\n",
      "The scores for the model :  Linear Regression\n",
      "MAE    :     0.24579004505575627\n",
      "RMSE   :     0.3222976244659248\n",
      "MAPE   :     4.195856777807941\n",
      "Scores for train\n",
      "The scores for the model :  Linear Regression\n",
      "MAE    :     0.21296023996230556\n",
      "RMSE   :     0.28933832294383566\n",
      "MAPE   :     3.7688328173372856\n"
     ]
    }
   ],
   "source": [
    "print(\"Scores for test\")\n",
    "scores(\"Linear Regression\",y_test,test_prediction)\n",
    "print(\"Scores for train\")\n",
    "scores(\"Linear Regression\",y_train,train_prediction)"
   ]
  },
  {
   "cell_type": "markdown",
   "metadata": {},
   "source": [
    "# Best Model from TPOT"
   ]
  },
  {
   "cell_type": "code",
   "execution_count": 138,
   "metadata": {},
   "outputs": [],
   "source": [
    "RM = RandomForestRegressor(bootstrap=True, max_features=0.3, min_samples_leaf=6, min_samples_split=4, n_estimators=100)"
   ]
  },
  {
   "cell_type": "code",
   "execution_count": 139,
   "metadata": {},
   "outputs": [
    {
     "data": {
      "text/plain": [
       "RandomForestRegressor(bootstrap=True, criterion='mse', max_depth=None,\n",
       "           max_features=0.3, max_leaf_nodes=None,\n",
       "           min_impurity_decrease=0.0, min_impurity_split=None,\n",
       "           min_samples_leaf=6, min_samples_split=4,\n",
       "           min_weight_fraction_leaf=0.0, n_estimators=100, n_jobs=1,\n",
       "           oob_score=False, random_state=None, verbose=0, warm_start=False)"
      ]
     },
     "execution_count": 139,
     "metadata": {},
     "output_type": "execute_result"
    }
   ],
   "source": [
    "RM.fit(X_train, y_train)"
   ]
  },
  {
   "cell_type": "code",
   "execution_count": 140,
   "metadata": {},
   "outputs": [],
   "source": [
    "ypred_best_test = RM.predict(X_test)"
   ]
  },
  {
   "cell_type": "code",
   "execution_count": 141,
   "metadata": {},
   "outputs": [],
   "source": [
    "ypred_best_train = RM.predict(X_train)"
   ]
  },
  {
   "cell_type": "code",
   "execution_count": 142,
   "metadata": {},
   "outputs": [
    {
     "name": "stdout",
     "output_type": "stream",
     "text": [
      "Scores for test\n",
      "The scores for the model :  RF - TPOT\n",
      "MAE    :     0.22571406695528873\n",
      "RMSE   :     0.2950441655218244\n",
      "MAPE   :     3.9096081972426555\n",
      "Scores for train\n",
      "The scores for the model :  RF - TPOT\n",
      "MAE    :     0.1537671018297871\n",
      "RMSE   :     0.2110703054006318\n",
      "MAPE   :     2.7198915371916472\n"
     ]
    }
   ],
   "source": [
    "print(\"Scores for test\")\n",
    "scores(\"RF - TPOT\",y_test,ypred_best_test)\n",
    "print(\"Scores for train\")\n",
    "scores(\"RF - TPOT\",y_train,ypred_best_train)"
   ]
  },
  {
   "cell_type": "code",
   "execution_count": 143,
   "metadata": {},
   "outputs": [],
   "source": [
    "#TO Build the FInal Metrics Table\n",
    "error_metric_f = pd.DataFrame({'Model_Name':[],\n",
    "                            'rmse_train':[], \n",
    "                            'rmse_test': [],\n",
    "                            'mae_train': [],\n",
    "                            'mae_test':[],\n",
    "                            'mape_train':[],\n",
    "                            'mape_test':[]})\n",
    "\n",
    "\n",
    "\n",
    "def metric(modelname,y_train, y_train_predicted, y_test, y_test_predicted):\n",
    "    global error_metric_f\n",
    "    \n",
    "    mae_train=mean_absolute_error(y_train, y_train_predicted)\n",
    "    mae_test=mean_absolute_error(y_test, y_test_predicted)\n",
    "    \n",
    "    \n",
    "    rmse_train=np.sqrt(mean_squared_error(y_train, y_train_predicted))\n",
    "    rmse_test=np.sqrt(mean_squared_error(y_test, y_test_predicted))\n",
    "    \n",
    "    \n",
    "    mape_test = np.mean(np.abs((y_test - y_test_predicted) / y_test)) * 100\n",
    "    mape_train = np.mean(np.abs((y_train - y_train_predicted) / y_train)) * 100\n",
    "\n",
    "    df_local = pd.DataFrame({'Model_Name':[modelname],\n",
    "                            'rmse_train':[rmse_train], \n",
    "                            'rmse_test': [rmse_test],\n",
    "                            'mae_train': [mae_train],\n",
    "                            'mae_test': [mae_test],\n",
    "                            'mape_train':[mape_train],\n",
    "                            'mape_test':[mape_test]})\n",
    "        \n",
    "    error_metric_f = pd.concat([error_metric_f, df_local])\n",
    "    return error_metric_f"
   ]
  },
  {
   "cell_type": "code",
   "execution_count": 144,
   "metadata": {},
   "outputs": [
    {
     "data": {
      "text/html": [
       "<div>\n",
       "<style scoped>\n",
       "    .dataframe tbody tr th:only-of-type {\n",
       "        vertical-align: middle;\n",
       "    }\n",
       "\n",
       "    .dataframe tbody tr th {\n",
       "        vertical-align: top;\n",
       "    }\n",
       "\n",
       "    .dataframe thead th {\n",
       "        text-align: right;\n",
       "    }\n",
       "</style>\n",
       "<table border=\"1\" class=\"dataframe\">\n",
       "  <thead>\n",
       "    <tr style=\"text-align: right;\">\n",
       "      <th></th>\n",
       "      <th>Model_Name</th>\n",
       "      <th>rmse_train</th>\n",
       "      <th>rmse_test</th>\n",
       "      <th>mae_train</th>\n",
       "      <th>mae_test</th>\n",
       "      <th>mape_train</th>\n",
       "      <th>mape_test</th>\n",
       "    </tr>\n",
       "  </thead>\n",
       "  <tbody>\n",
       "    <tr>\n",
       "      <th>0</th>\n",
       "      <td>RF-TPOT</td>\n",
       "      <td>0.211070</td>\n",
       "      <td>0.295044</td>\n",
       "      <td>0.153767</td>\n",
       "      <td>0.225714</td>\n",
       "      <td>2.719892</td>\n",
       "      <td>3.909608</td>\n",
       "    </tr>\n",
       "    <tr>\n",
       "      <th>0</th>\n",
       "      <td>Linear Regression - No scaling</td>\n",
       "      <td>0.289338</td>\n",
       "      <td>0.322298</td>\n",
       "      <td>0.212960</td>\n",
       "      <td>0.245790</td>\n",
       "      <td>3.768833</td>\n",
       "      <td>4.195857</td>\n",
       "    </tr>\n",
       "    <tr>\n",
       "      <th>0</th>\n",
       "      <td>RFE-PIPELINE</td>\n",
       "      <td>0.102774</td>\n",
       "      <td>0.311912</td>\n",
       "      <td>0.074931</td>\n",
       "      <td>0.240048</td>\n",
       "      <td>1.325594</td>\n",
       "      <td>4.170934</td>\n",
       "    </tr>\n",
       "    <tr>\n",
       "      <th>0</th>\n",
       "      <td>MLP</td>\n",
       "      <td>0.367113</td>\n",
       "      <td>0.372517</td>\n",
       "      <td>0.281739</td>\n",
       "      <td>0.288830</td>\n",
       "      <td>5.023967</td>\n",
       "      <td>4.917731</td>\n",
       "    </tr>\n",
       "    <tr>\n",
       "      <th>0</th>\n",
       "      <td>LR30-FWD</td>\n",
       "      <td>0.345011</td>\n",
       "      <td>0.355158</td>\n",
       "      <td>0.263312</td>\n",
       "      <td>0.275645</td>\n",
       "      <td>4.698240</td>\n",
       "      <td>4.703591</td>\n",
       "    </tr>\n",
       "    <tr>\n",
       "      <th>0</th>\n",
       "      <td>LR30-BWD</td>\n",
       "      <td>0.296105</td>\n",
       "      <td>0.326501</td>\n",
       "      <td>0.217244</td>\n",
       "      <td>0.246588</td>\n",
       "      <td>3.840965</td>\n",
       "      <td>4.206166</td>\n",
       "    </tr>\n",
       "    <tr>\n",
       "      <th>0</th>\n",
       "      <td>LR3-EST</td>\n",
       "      <td>0.302972</td>\n",
       "      <td>0.333626</td>\n",
       "      <td>0.223969</td>\n",
       "      <td>0.253211</td>\n",
       "      <td>3.961721</td>\n",
       "      <td>4.317720</td>\n",
       "    </tr>\n",
       "  </tbody>\n",
       "</table>\n",
       "</div>"
      ],
      "text/plain": [
       "                       Model_Name  rmse_train  rmse_test  mae_train  mae_test  \\\n",
       "0                         RF-TPOT    0.211070   0.295044   0.153767  0.225714   \n",
       "0  Linear Regression - No scaling    0.289338   0.322298   0.212960  0.245790   \n",
       "0                    RFE-PIPELINE    0.102774   0.311912   0.074931  0.240048   \n",
       "0                             MLP    0.367113   0.372517   0.281739  0.288830   \n",
       "0                        LR30-FWD    0.345011   0.355158   0.263312  0.275645   \n",
       "0                        LR30-BWD    0.296105   0.326501   0.217244  0.246588   \n",
       "0                         LR3-EST    0.302972   0.333626   0.223969  0.253211   \n",
       "\n",
       "   mape_train  mape_test  \n",
       "0    2.719892   3.909608  \n",
       "0    3.768833   4.195857  \n",
       "0    1.325594   4.170934  \n",
       "0    5.023967   4.917731  \n",
       "0    4.698240   4.703591  \n",
       "0    3.840965   4.206166  \n",
       "0    3.961721   4.317720  "
      ]
     },
     "execution_count": 144,
     "metadata": {},
     "output_type": "execute_result"
    }
   ],
   "source": [
    "metric('RF-TPOT', y_train,ypred_best_train,y_test,ypred_best_test)\n",
    "\n",
    "metric('Linear Regression - No scaling', y_train,train_prediction,y_test,test_prediction)\n",
    "\n",
    "metric('RFE-PIPELINE', y_train,ypredtrain_RFE,y_test,ypredtest_RFE)\n",
    "\n",
    "metric('MLP', y_train,ypredtrain_mlp,y_test,ypredtest_mlp)\n",
    "\n",
    "metric('LR30-FWD', y_train,train_prediction_fwd,y_test,test_prediction_fwd)\n",
    "\n",
    "metric('LR30-BWD', y_train,train_prediction_bwd,y_test,test_prediction_bwd)\n",
    "\n",
    "metric('LR3-EST', y_train,train_prediction_est,y_test,test_prediction_est)"
   ]
  },
  {
   "cell_type": "code",
   "execution_count": 145,
   "metadata": {},
   "outputs": [],
   "source": [
    "############################################################################\n",
    "#MLP pipeline\n",
    "#est= MLPRegressor()\n",
    "#minmax_scaler = preprocessing.MinMaxScaler()\n",
    "#selector = feature_selection.RFE(est)\n",
    "#pipe_params = [('feat_selection',selector),('std_scaler', minmax_scaler), ('clf', est)]\n",
    "#pipe = Pipeline(pipe_params)\n",
    "#param_grid = {'clf__activation' : ['tanh', 'relu']}\n",
    "#clf = GridSearchCV(pipe, param_grid=param_grid, cv = 2, n_jobs = -1, verbose=3, refit=True)\n",
    "#clf.fit(X_train, y_train)\n",
    "############################################################################"
   ]
  }
 ],
 "metadata": {
  "kernelspec": {
   "display_name": "Python 3",
   "language": "python",
   "name": "python3"
  },
  "language_info": {
   "codemirror_mode": {
    "name": "ipython",
    "version": 3
   },
   "file_extension": ".py",
   "mimetype": "text/x-python",
   "name": "python",
   "nbconvert_exporter": "python",
   "pygments_lexer": "ipython3",
   "version": "3.6.5"
  }
 },
 "nbformat": 4,
 "nbformat_minor": 2
}
